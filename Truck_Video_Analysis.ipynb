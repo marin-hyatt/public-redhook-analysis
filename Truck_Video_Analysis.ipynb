{
 "cells": [
  {
   "cell_type": "code",
   "execution_count": 3,
   "metadata": {},
   "outputs": [],
   "source": [
    "import pickle\n",
    "import pandas as pd\n",
    "import math\n",
    "import json"
   ]
  },
  {
   "cell_type": "code",
   "execution_count": 4,
   "metadata": {},
   "outputs": [],
   "source": [
    "data = json.load(open('video_info_copy.json'))"
   ]
  },
  {
   "cell_type": "markdown",
   "metadata": {},
   "source": [
    "File is structured with master keys being name of file, the values being other dictionaries, with inner keys being the frame number, and the value being an array of border coordinates and probability"
   ]
  },
  {
   "cell_type": "markdown",
   "metadata": {},
   "source": [
    "Step 1: loop through dictionaries and make dataframe"
   ]
  },
  {
   "cell_type": "code",
   "execution_count": 5,
   "metadata": {},
   "outputs": [
    {
     "data": {
      "text/plain": [
       "{'308': [[[18.5, 321.0, 191, 132]], [0.225791335105896]],\n",
       " '310': [[[18.5, 320.5, 193, 133]], [0.2184540182352066]],\n",
       " '630': [[[19.0, 316.5, 192, 139], [27.0, 340.5, 176, 115]],\n",
       "  [0.5922264456748962, 0.5686070322990417]],\n",
       " '632': [[[12.5, 330.0, 203, 132], [24.5, 341.0, 181, 110]],\n",
       "  [0.7574986815452576, 0.7172761559486389]]}"
      ]
     },
     "execution_count": 5,
     "metadata": {},
     "output_type": "execute_result"
    }
   ],
   "source": [
    "data['/home/cusp/cmydlarz/redhook_video/data/1573276672.ts']"
   ]
  },
  {
   "cell_type": "code",
   "execution_count": 8,
   "metadata": {},
   "outputs": [
    {
     "data": {
      "text/plain": [
       "25212"
      ]
     },
     "execution_count": 8,
     "metadata": {},
     "output_type": "execute_result"
    }
   ],
   "source": [
    "data['/home/cusp/cmydlarz/redhook_video/data/1573276672.ts']['308'][0][0][2] * data['/home/cusp/cmydlarz/redhook_video/data/1573276672.ts']['308'][0][0][3]"
   ]
  },
  {
   "cell_type": "code",
   "execution_count": 10,
   "metadata": {},
   "outputs": [],
   "source": [
    "start_timestamp = []\n",
    "frame = []\n",
    "actual_timestamp = []\n",
    "area = []\n",
    "probability = []"
   ]
  },
  {
   "cell_type": "code",
   "execution_count": 11,
   "metadata": {},
   "outputs": [],
   "source": [
    "for master_key in data:\n",
    "    for key in data[master_key]:\n",
    "        start_timestamp.append(int(master_key[39:49]))\n",
    "        frame.append(int(key))\n",
    "        actual_timestamp.append(int(int(master_key[39:49]) + int(key)/15))\n",
    "        area.append(data[master_key][key][0][0][2] * data[master_key][key][0][0][3])\n",
    "        probability.append(data[master_key][key][1][0])"
   ]
  },
  {
   "cell_type": "code",
   "execution_count": 12,
   "metadata": {},
   "outputs": [],
   "source": [
    "df = pd.DataFrame(data = {'start_timestamp': start_timestamp, 'frame': frame, \\\n",
    "                          'actual_timestamp': actual_timestamp, 'area': area, \\\n",
    "                          'probability': probability})"
   ]
  },
  {
   "cell_type": "code",
   "execution_count": 13,
   "metadata": {
    "scrolled": true
   },
   "outputs": [
    {
     "data": {
      "text/html": [
       "<div>\n",
       "<style scoped>\n",
       "    .dataframe tbody tr th:only-of-type {\n",
       "        vertical-align: middle;\n",
       "    }\n",
       "\n",
       "    .dataframe tbody tr th {\n",
       "        vertical-align: top;\n",
       "    }\n",
       "\n",
       "    .dataframe thead th {\n",
       "        text-align: right;\n",
       "    }\n",
       "</style>\n",
       "<table border=\"1\" class=\"dataframe\">\n",
       "  <thead>\n",
       "    <tr style=\"text-align: right;\">\n",
       "      <th></th>\n",
       "      <th>start_timestamp</th>\n",
       "      <th>frame</th>\n",
       "      <th>actual_timestamp</th>\n",
       "      <th>area</th>\n",
       "      <th>probability</th>\n",
       "    </tr>\n",
       "  </thead>\n",
       "  <tbody>\n",
       "    <tr>\n",
       "      <th>0</th>\n",
       "      <td>1573276672</td>\n",
       "      <td>308</td>\n",
       "      <td>1573276692</td>\n",
       "      <td>25212</td>\n",
       "      <td>0.225791</td>\n",
       "    </tr>\n",
       "    <tr>\n",
       "      <th>1</th>\n",
       "      <td>1573276672</td>\n",
       "      <td>310</td>\n",
       "      <td>1573276692</td>\n",
       "      <td>25669</td>\n",
       "      <td>0.218454</td>\n",
       "    </tr>\n",
       "    <tr>\n",
       "      <th>2</th>\n",
       "      <td>1573276672</td>\n",
       "      <td>630</td>\n",
       "      <td>1573276714</td>\n",
       "      <td>26688</td>\n",
       "      <td>0.592226</td>\n",
       "    </tr>\n",
       "    <tr>\n",
       "      <th>3</th>\n",
       "      <td>1573276672</td>\n",
       "      <td>632</td>\n",
       "      <td>1573276714</td>\n",
       "      <td>26796</td>\n",
       "      <td>0.757499</td>\n",
       "    </tr>\n",
       "    <tr>\n",
       "      <th>4</th>\n",
       "      <td>1573061868</td>\n",
       "      <td>164</td>\n",
       "      <td>1573061878</td>\n",
       "      <td>25134</td>\n",
       "      <td>0.202466</td>\n",
       "    </tr>\n",
       "  </tbody>\n",
       "</table>\n",
       "</div>"
      ],
      "text/plain": [
       "   start_timestamp  frame  actual_timestamp   area  probability\n",
       "0       1573276672    308        1573276692  25212     0.225791\n",
       "1       1573276672    310        1573276692  25669     0.218454\n",
       "2       1573276672    630        1573276714  26688     0.592226\n",
       "3       1573276672    632        1573276714  26796     0.757499\n",
       "4       1573061868    164        1573061878  25134     0.202466"
      ]
     },
     "execution_count": 13,
     "metadata": {},
     "output_type": "execute_result"
    }
   ],
   "source": [
    "df.head()"
   ]
  },
  {
   "cell_type": "code",
   "execution_count": 23,
   "metadata": {},
   "outputs": [
    {
     "data": {
      "text/plain": [
       "103710"
      ]
     },
     "execution_count": 23,
     "metadata": {},
     "output_type": "execute_result"
    }
   ],
   "source": [
    "len(df)"
   ]
  },
  {
   "cell_type": "code",
   "execution_count": 14,
   "metadata": {},
   "outputs": [],
   "source": [
    "def get_probability_locs(df, column, value, locs_list):\n",
    "    for i in df[column].index:\n",
    "        #print(i)\n",
    "        if(math.isclose(df[column][i], value, rel_tol=1e-5) and (i not in locs_list)):\n",
    "            locs_list.append(i)"
   ]
  },
  {
   "cell_type": "code",
   "execution_count": 15,
   "metadata": {},
   "outputs": [],
   "source": [
    "max_set = []"
   ]
  },
  {
   "cell_type": "code",
   "execution_count": 16,
   "metadata": {},
   "outputs": [],
   "source": [
    "def truck_filter(df, max_set, window_size, min_area, min_probability):\n",
    "    \"\"\"\n",
    "    Returns an array of indices that most likely correspond to trucks, based on the probability value given by\n",
    "    the image recognition algorithm.\n",
    "    \n",
    "    Parameters\n",
    "    ----------\n",
    "    df : dataframe\n",
    "        The dataframe containing information gathered from an image recognition algorithm. Should contain \n",
    "        a starting timestamp column, a frame column, an area column, and a probability column.\n",
    "        \n",
    "    max_set : array\n",
    "        The array to store the indices of likely instances of a truck.\n",
    "        \n",
    "    window_size : int\n",
    "        The number of seconds before and after the timestamp of each row.\n",
    "        \n",
    "    min_area : int\n",
    "        The minimum area of the bounding box. \n",
    "    \n",
    "    min_probability : float\n",
    "        The minimum probability given by the classifier.\n",
    "        \n",
    "    \"\"\"\n",
    "    for i in df.index:\n",
    "        #Gets subsection of dataframe inside the window \n",
    "        min_timestamp = int(df['actual_timestamp'][i] - window_size/2)\n",
    "        print(min_timestamp)\n",
    "        max_timestamp = int(df['actual_timestamp'][i] + window_size/2)\n",
    "        print(max_timestamp)\n",
    "        window_df = df[(min_timestamp <= df['actual_timestamp']) & (max_timestamp >= df['actual_timestamp'])]\n",
    "        #print(window_df)\n",
    "\n",
    "        #Checks conditions for probability, window size, etc\n",
    "        if window_df['probability'].max() >= min_probability and window_df['area'].max() >= min_area:\n",
    "            #print('true')\n",
    "            get_probability_locs(window_df, 'probability', window_df['probability'].max(), max_set)"
   ]
  },
  {
   "cell_type": "code",
   "execution_count": 17,
   "metadata": {},
   "outputs": [],
   "source": [
    "truck_filter(df, max_set, 10, 80000, 0.7)"
   ]
  },
  {
   "cell_type": "code",
   "execution_count": 18,
   "metadata": {},
   "outputs": [
    {
     "data": {
      "text/plain": [
       "7615"
      ]
     },
     "execution_count": 18,
     "metadata": {},
     "output_type": "execute_result"
    }
   ],
   "source": [
    "len(max_set)"
   ]
  },
  {
   "cell_type": "code",
   "execution_count": 19,
   "metadata": {},
   "outputs": [],
   "source": [
    "max_dataframe = df.iloc[max_set]"
   ]
  },
  {
   "cell_type": "code",
   "execution_count": 20,
   "metadata": {},
   "outputs": [
    {
     "data": {
      "text/html": [
       "<div>\n",
       "<style scoped>\n",
       "    .dataframe tbody tr th:only-of-type {\n",
       "        vertical-align: middle;\n",
       "    }\n",
       "\n",
       "    .dataframe tbody tr th {\n",
       "        vertical-align: top;\n",
       "    }\n",
       "\n",
       "    .dataframe thead th {\n",
       "        text-align: right;\n",
       "    }\n",
       "</style>\n",
       "<table border=\"1\" class=\"dataframe\">\n",
       "  <thead>\n",
       "    <tr style=\"text-align: right;\">\n",
       "      <th></th>\n",
       "      <th>start_timestamp</th>\n",
       "      <th>frame</th>\n",
       "      <th>actual_timestamp</th>\n",
       "      <th>area</th>\n",
       "      <th>probability</th>\n",
       "    </tr>\n",
       "  </thead>\n",
       "  <tbody>\n",
       "    <tr>\n",
       "      <th>10</th>\n",
       "      <td>1573061868</td>\n",
       "      <td>648</td>\n",
       "      <td>1573061911</td>\n",
       "      <td>276490</td>\n",
       "      <td>0.988503</td>\n",
       "    </tr>\n",
       "    <tr>\n",
       "      <th>16</th>\n",
       "      <td>1573061868</td>\n",
       "      <td>660</td>\n",
       "      <td>1573061912</td>\n",
       "      <td>153846</td>\n",
       "      <td>0.974143</td>\n",
       "    </tr>\n",
       "    <tr>\n",
       "      <th>20</th>\n",
       "      <td>1573061868</td>\n",
       "      <td>722</td>\n",
       "      <td>1573061916</td>\n",
       "      <td>119448</td>\n",
       "      <td>0.849568</td>\n",
       "    </tr>\n",
       "    <tr>\n",
       "      <th>32</th>\n",
       "      <td>1573830164</td>\n",
       "      <td>72</td>\n",
       "      <td>1573830168</td>\n",
       "      <td>207648</td>\n",
       "      <td>0.995947</td>\n",
       "    </tr>\n",
       "    <tr>\n",
       "      <th>45</th>\n",
       "      <td>1573830164</td>\n",
       "      <td>1518</td>\n",
       "      <td>1573830265</td>\n",
       "      <td>294148</td>\n",
       "      <td>0.969995</td>\n",
       "    </tr>\n",
       "  </tbody>\n",
       "</table>\n",
       "</div>"
      ],
      "text/plain": [
       "    start_timestamp  frame  actual_timestamp    area  probability\n",
       "10       1573061868    648        1573061911  276490     0.988503\n",
       "16       1573061868    660        1573061912  153846     0.974143\n",
       "20       1573061868    722        1573061916  119448     0.849568\n",
       "32       1573830164     72        1573830168  207648     0.995947\n",
       "45       1573830164   1518        1573830265  294148     0.969995"
      ]
     },
     "execution_count": 20,
     "metadata": {},
     "output_type": "execute_result"
    }
   ],
   "source": [
    "max_dataframe.head()"
   ]
  },
  {
   "cell_type": "code",
   "execution_count": 21,
   "metadata": {},
   "outputs": [],
   "source": [
    "max_dataframe.to_csv('max_dataframe.csv')"
   ]
  },
  {
   "cell_type": "code",
   "execution_count": 5,
   "metadata": {},
   "outputs": [
    {
     "data": {
      "text/plain": [
       "42"
      ]
     },
     "execution_count": 5,
     "metadata": {},
     "output_type": "execute_result"
    }
   ],
   "source": [
    "1573061910 - 1573061868"
   ]
  },
  {
   "cell_type": "code",
   "execution_count": null,
   "metadata": {},
   "outputs": [],
   "source": []
  }
 ],
 "metadata": {
  "kernelspec": {
   "display_name": "truck_update",
   "language": "python",
   "name": "truck_update"
  },
  "language_info": {
   "codemirror_mode": {
    "name": "ipython",
    "version": 3
   },
   "file_extension": ".py",
   "mimetype": "text/x-python",
   "name": "python",
   "nbconvert_exporter": "python",
   "pygments_lexer": "ipython3",
   "version": "3.7.4"
  }
 },
 "nbformat": 4,
 "nbformat_minor": 2
}
