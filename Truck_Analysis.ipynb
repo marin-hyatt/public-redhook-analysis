{
 "cells": [
  {
   "cell_type": "code",
   "execution_count": 862,
   "metadata": {},
   "outputs": [],
   "source": [
    "import numpy as np\n",
    "import pandas as pd\n",
    "import matplotlib.pyplot as plt\n",
    "from sklearn.cluster import KMeans\n",
    "from sklearn.cluster import MiniBatchKMeans\n",
    "from sklearn.preprocessing import PolynomialFeatures\n",
    "import datetime \n",
    "from datetime import timedelta\n",
    "import pytz\n",
    "from pytz import timezone\n",
    "import tarfile\n",
    "from numpy import load\n",
    "import os\n",
    "from sklearn.manifold import TSNE\n",
    "import h5py\n",
    "from sklearn.decomposition import PCA as sklearnPCA\n",
    "from sklearn import metrics\n",
    "from sklearn.metrics import pairwise_distances\n",
    "from sklearn import datasets\n",
    "from sklearn.metrics import davies_bouldin_score\n",
    "from sklearn.cluster import DBSCAN\n",
    "from sklearn.cluster import Birch\n",
    "import scipy as sp\n",
    "from scipy import spatial\n",
    "from scipy import stats\n",
    "import pylab\n",
    "from pandas.plotting import register_matplotlib_converters\n",
    "register_matplotlib_converters()\n",
    "import librosa\n",
    "from scipy import signal\n",
    "from scipy import ndimage"
   ]
  },
  {
   "cell_type": "code",
   "execution_count": 2,
   "metadata": {},
   "outputs": [],
   "source": [
    "h5 = h5py.File('sound_data_improved.hdf5', 'r')"
   ]
  },
  {
   "cell_type": "code",
   "execution_count": 3,
   "metadata": {},
   "outputs": [],
   "source": [
    "d = h5['sound_data']"
   ]
  },
  {
   "cell_type": "markdown",
   "metadata": {},
   "source": [
    "# Creating subsample of 10000 points from all four sensors"
   ]
  },
  {
   "cell_type": "code",
   "execution_count": 4,
   "metadata": {},
   "outputs": [],
   "source": [
    "sample_nums = np.random.choice(range(d.shape[0]), 10000, replace = False)"
   ]
  },
  {
   "cell_type": "code",
   "execution_count": 5,
   "metadata": {},
   "outputs": [],
   "source": [
    "index = np.zeros(d.shape[0]).astype('bool')\n",
    "index[sample_nums] = True"
   ]
  },
  {
   "cell_type": "markdown",
   "metadata": {},
   "source": [
    "# Reading and graphing data from one sensor"
   ]
  },
  {
   "cell_type": "markdown",
   "metadata": {},
   "source": [
    "Reading June data from one of the sensors"
   ]
  },
  {
   "cell_type": "code",
   "execution_count": 6,
   "metadata": {
    "scrolled": true
   },
   "outputs": [
    {
     "data": {
      "text/html": [
       "<div>\n",
       "<style scoped>\n",
       "    .dataframe tbody tr th:only-of-type {\n",
       "        vertical-align: middle;\n",
       "    }\n",
       "\n",
       "    .dataframe tbody tr th {\n",
       "        vertical-align: top;\n",
       "    }\n",
       "\n",
       "    .dataframe thead th {\n",
       "        text-align: right;\n",
       "    }\n",
       "</style>\n",
       "<table border=\"1\" class=\"dataframe\">\n",
       "  <thead>\n",
       "    <tr style=\"text-align: right;\">\n",
       "      <th></th>\n",
       "      <th>timestamp</th>\n",
       "      <th>dBAS</th>\n",
       "    </tr>\n",
       "  </thead>\n",
       "  <tbody>\n",
       "    <tr>\n",
       "      <th>0</th>\n",
       "      <td>1.559362e+09</td>\n",
       "      <td>63.53</td>\n",
       "    </tr>\n",
       "    <tr>\n",
       "      <th>1</th>\n",
       "      <td>1.559362e+09</td>\n",
       "      <td>63.73</td>\n",
       "    </tr>\n",
       "    <tr>\n",
       "      <th>2</th>\n",
       "      <td>1.559362e+09</td>\n",
       "      <td>64.94</td>\n",
       "    </tr>\n",
       "    <tr>\n",
       "      <th>3</th>\n",
       "      <td>1.559362e+09</td>\n",
       "      <td>63.09</td>\n",
       "    </tr>\n",
       "    <tr>\n",
       "      <th>4</th>\n",
       "      <td>1.559362e+09</td>\n",
       "      <td>61.66</td>\n",
       "    </tr>\n",
       "  </tbody>\n",
       "</table>\n",
       "</div>"
      ],
      "text/plain": [
       "      timestamp   dBAS\n",
       "0  1.559362e+09  63.53\n",
       "1  1.559362e+09  63.73\n",
       "2  1.559362e+09  64.94\n",
       "3  1.559362e+09  63.09\n",
       "4  1.559362e+09  61.66"
      ]
     },
     "execution_count": 6,
     "metadata": {},
     "output_type": "execute_result"
    }
   ],
   "source": [
    "df = pd.read_csv(\"sonycnode-b827ebc178d2.sonyc.csv\", skiprows = 2, low_memory = False)\n",
    "df.head()"
   ]
  },
  {
   "cell_type": "code",
   "execution_count": 645,
   "metadata": {},
   "outputs": [
    {
     "data": {
      "text/plain": [
       "timestamp    2019-06-01 00:00:42.690000-04:00\n",
       "dBAS                                    63.53\n",
       "Name: 0, dtype: object"
      ]
     },
     "execution_count": 645,
     "metadata": {},
     "output_type": "execute_result"
    }
   ],
   "source": [
    "df.iloc[0]"
   ]
  },
  {
   "cell_type": "code",
   "execution_count": 7,
   "metadata": {},
   "outputs": [],
   "source": [
    "time_arr = np.empty(df.shape[0], dtype = datetime.datetime)\n",
    "timestamp_arr = df['timestamp'].values\n",
    "dBAS_arr = df['dBAS'].values"
   ]
  },
  {
   "cell_type": "code",
   "execution_count": 8,
   "metadata": {},
   "outputs": [
    {
     "data": {
      "text/plain": [
       "5179800"
      ]
     },
     "execution_count": 8,
     "metadata": {},
     "output_type": "execute_result"
    }
   ],
   "source": [
    "df.size"
   ]
  },
  {
   "cell_type": "markdown",
   "metadata": {},
   "source": [
    "Converts timestamps for each sensor into datetime format"
   ]
  },
  {
   "cell_type": "code",
   "execution_count": 10,
   "metadata": {},
   "outputs": [],
   "source": [
    "def convert_timestamps(sensor_timestamp):\n",
    "    \"\"\"\n",
    "    Converts a float timestamp to a datetime object.\n",
    "    \n",
    "    Parameters\n",
    "    ----------\n",
    "    sensor_timestamp : float\n",
    "        A timestamp in float form.\n",
    "        \n",
    "    Returns\n",
    "    -------\n",
    "    dt : datetime object\n",
    "       Datetime object corresponding to the same time as the float timestamp.\n",
    "    \"\"\"\n",
    "    j = sensor_timestamp\n",
    "    dt = datetime.datetime.utcfromtimestamp(j)\n",
    "    dt = pytz.UTC.localize(dt)\n",
    "    dt = dt.astimezone(pytz.timezone('US/Eastern'))\n",
    "    return dt"
   ]
  },
  {
   "cell_type": "code",
   "execution_count": 11,
   "metadata": {},
   "outputs": [],
   "source": [
    "time_arr = [convert_timestamps(x) for x in timestamp_arr]"
   ]
  },
  {
   "cell_type": "markdown",
   "metadata": {},
   "source": [
    "Creating a new dataframe with timestamps"
   ]
  },
  {
   "cell_type": "code",
   "execution_count": 13,
   "metadata": {},
   "outputs": [
    {
     "data": {
      "text/html": [
       "<div>\n",
       "<style scoped>\n",
       "    .dataframe tbody tr th:only-of-type {\n",
       "        vertical-align: middle;\n",
       "    }\n",
       "\n",
       "    .dataframe tbody tr th {\n",
       "        vertical-align: top;\n",
       "    }\n",
       "\n",
       "    .dataframe thead th {\n",
       "        text-align: right;\n",
       "    }\n",
       "</style>\n",
       "<table border=\"1\" class=\"dataframe\">\n",
       "  <thead>\n",
       "    <tr style=\"text-align: right;\">\n",
       "      <th></th>\n",
       "      <th>timestamp</th>\n",
       "      <th>dBAS</th>\n",
       "    </tr>\n",
       "  </thead>\n",
       "  <tbody>\n",
       "    <tr>\n",
       "      <th>2589895</th>\n",
       "      <td>2019-07-01 00:00:38.810000-04:00</td>\n",
       "      <td>66.04</td>\n",
       "    </tr>\n",
       "    <tr>\n",
       "      <th>2589896</th>\n",
       "      <td>2019-07-01 00:00:39.810000-04:00</td>\n",
       "      <td>69.75</td>\n",
       "    </tr>\n",
       "    <tr>\n",
       "      <th>2589897</th>\n",
       "      <td>2019-07-01 00:00:40.810000-04:00</td>\n",
       "      <td>68.68</td>\n",
       "    </tr>\n",
       "    <tr>\n",
       "      <th>2589898</th>\n",
       "      <td>2019-07-01 00:00:41.810000-04:00</td>\n",
       "      <td>73.17</td>\n",
       "    </tr>\n",
       "    <tr>\n",
       "      <th>2589899</th>\n",
       "      <td>2019-07-01 00:00:42.810000-04:00</td>\n",
       "      <td>77.04</td>\n",
       "    </tr>\n",
       "  </tbody>\n",
       "</table>\n",
       "</div>"
      ],
      "text/plain": [
       "                               timestamp   dBAS\n",
       "2589895 2019-07-01 00:00:38.810000-04:00  66.04\n",
       "2589896 2019-07-01 00:00:39.810000-04:00  69.75\n",
       "2589897 2019-07-01 00:00:40.810000-04:00  68.68\n",
       "2589898 2019-07-01 00:00:41.810000-04:00  73.17\n",
       "2589899 2019-07-01 00:00:42.810000-04:00  77.04"
      ]
     },
     "execution_count": 13,
     "metadata": {},
     "output_type": "execute_result"
    }
   ],
   "source": [
    "time_df = df\n",
    "time_df['timestamp'] = time_arr\n",
    "time_df.tail()"
   ]
  },
  {
   "cell_type": "code",
   "execution_count": null,
   "metadata": {},
   "outputs": [],
   "source": [
    "#take max over minute, mean over minute, median over minute?\n",
    "#8am to 8pm, 8pm 8am"
   ]
  },
  {
   "cell_type": "markdown",
   "metadata": {},
   "source": [
    "# Clustering on 45 dimensions"
   ]
  },
  {
   "cell_type": "code",
   "execution_count": 14,
   "metadata": {},
   "outputs": [],
   "source": [
    "pca_45 = sklearnPCA(45)\n",
    "projected_45 = pca_45.fit_transform(d['feature_vector'])"
   ]
  },
  {
   "cell_type": "code",
   "execution_count": 15,
   "metadata": {},
   "outputs": [],
   "source": [
    "def get_sensor_mask(sensor_name, target_arr):\n",
    "    \"\"\"\n",
    "    Returns a mask to apply on an array of data from different sensors. The mask filters out the data from one sensor.\n",
    "    \n",
    "    Parameters\n",
    "    ----------\n",
    "    sensor_name : String\n",
    "        The name of the sensor to retrieve the data for, should take the form of b'sonycnode-[name].sonyc'\n",
    "    \n",
    "    target_arr : array of Strings\n",
    "        Array containing the names of all the sensors.\n",
    "        \n",
    "    Returns\n",
    "    -------\n",
    "    sensor_mask : boolean array\n",
    "        A boolean array of the same shape as target_arr, with True values corresponding to the indices containing the\n",
    "        sensor_name.\n",
    "    \"\"\"\n",
    "    sensor_mask = (target_arr == sensor_name)\n",
    "    return sensor_mask"
   ]
  },
  {
   "cell_type": "code",
   "execution_count": 16,
   "metadata": {},
   "outputs": [],
   "source": [
    "def get_time_mask(beginning, end, time_arr):\n",
    "    interval_mask = (time_arr >= beginning) & (time_arr < end)\n",
    "    return interval_mask"
   ]
  },
  {
   "cell_type": "code",
   "execution_count": null,
   "metadata": {},
   "outputs": [],
   "source": []
  },
  {
   "cell_type": "code",
   "execution_count": 17,
   "metadata": {},
   "outputs": [],
   "source": [
    "def get_cluster_assignments(num_clusters, sensor_transformed, fit_arr):\n",
    "    \"\"\"\n",
    "    Returns an array containing the number of each cluster each data point in sensor_transformed is assigned to.\n",
    "    Clustering is performed using MiniBatchKMeans.\n",
    "    \n",
    "    Parameters\n",
    "    ----------\n",
    "    num_clusters : int\n",
    "        The number of clusters to group sensor_transformed into.\n",
    "        \n",
    "    sensor_transformed : array of floats\n",
    "        45-dimensional array of feature vectors from one sensor \n",
    "        \n",
    "    fit_arr : array of floats\n",
    "        45-dimensional array of feature vectors from all sensors\n",
    "    \"\"\"\n",
    "    mbk = MiniBatchKMeans(n_clusters=num_clusters, random_state=0)\n",
    "    mbk.fit(fit_arr)\n",
    "    cluster_indices = mbk.predict(sensor_transformed)\n",
    "    return cluster_indices"
   ]
  },
  {
   "cell_type": "code",
   "execution_count": 18,
   "metadata": {},
   "outputs": [],
   "source": [
    "def convert_to_hour(sensor_timestamp):\n",
    "    j = sensor_timestamp[i]\n",
    "    dt = datetime.datetime.utcfromtimestamp(j)\n",
    "    dt = pytz.UTC.localize(dt)\n",
    "    day = dt.astimezone(pytz.timezone('US/Eastern')).day\n",
    "    hour = dt.astimezone(pytz.timezone('US/Eastern')).hour\n",
    "    total_hour = 24*(day-1) + hour\n",
    "    return total_hour"
   ]
  },
  {
   "cell_type": "code",
   "execution_count": 239,
   "metadata": {},
   "outputs": [],
   "source": [
    "def plot_clusters(num_clusters, sensor_transformed, fit_arr, sensor_timestamps_dt, spl_time, spl_dBAS_mean, \\\n",
    "                  spl_dBAS_max, spl_dBAS_median, num_bins, clusters_plot_arr):\n",
    "    \"\"\"\n",
    "    Plots a histogram of the frequency of cluster assignments over time for one sensor.\n",
    "    \n",
    "    Parameters\n",
    "    ----------\n",
    "    num_clusters : int\n",
    "        The number of clusters to assign the data to.\n",
    "        \n",
    "    sensor_transformed : 45-dimensional array of floats\n",
    "        An array taken from projected_45 with only the feature vectors corresponding to one sensor.\n",
    "        \n",
    "    fit_arr : array of floats\n",
    "        45-dimensional array of feature vectors from all sensors\n",
    "        \n",
    "    sensor_timestamps_dt : datetime array\n",
    "        Numpy array with dtype=datetime.datetime, containing day values for each data point gathered for a specified\n",
    "        sensor.\n",
    "        \n",
    "    spl_time : datetime array\n",
    "        Array of datetime objects corresponding to the SPL values.\n",
    "        \n",
    "    spl_dBAS_mean : array of floats\n",
    "        Array of SPL values corresponding to spl_time, averaged over each minute.\n",
    "        \n",
    "    spl_dBAS_max : array of floats\n",
    "        Array of SPL values corresponding to spl_time, consisting of the maximum value from each minute.\n",
    "        \n",
    "    spl_dBAS_median : array of floats\n",
    "        Array of SPL values corresponding to spl_time, consisting of the median value from each minute.\n",
    "    \n",
    "    num_bins : int\n",
    "        The number of bins to group the cluster frequency into.\n",
    "        \n",
    "    bin_arr : array of floats\n",
    "        Array of bin edges to group the cluster frequency into.\n",
    "        \n",
    "    clusters_plot_arr : arr of ints within the range(0, num_clusters)\n",
    "        The indices of the clusters to plot.\n",
    "    \"\"\"\n",
    "    fig = plt.figure(figsize=(15,100), dpi=60)\n",
    "    subplot_idx = 1\n",
    "    y_vals = []\n",
    "\n",
    "    \n",
    "    test = get_cluster_assignments(num_clusters, sensor_transformed, fit_arr)\n",
    "\n",
    "    for cluster_num in clusters_plot_arr:\n",
    "        cluster_mask = np.nonzero(test==cluster_num)\n",
    "        \n",
    "        if(np.sum(cluster_mask) == 0):\n",
    "            continue\n",
    "            \n",
    "        timestamp_arr = np.asarray(sensor_timestamps_dt)[cluster_mask]\n",
    "        \n",
    "        ax1 = fig.add_subplot(num_clusters, 1, subplot_idx)  \n",
    "        color = 'tab:red'\n",
    "        ax1.set_xlabel('time')\n",
    "        ax1.set_ylabel('cluster ' + str(cluster_num), color=color)\n",
    "\n",
    "        if(cluster_num == clusters_plot_arr[0]):\n",
    "            y, bins, _ = ax1.hist(timestamp_arr, bins=num_bins, color=color)\n",
    "\n",
    "        ax1.hist(timestamp_arr, bins=bins, color=color)\n",
    "        y_vals.append(y.max())\n",
    "        ax1.tick_params(axis='y', labelcolor=color)\n",
    "\n",
    "    #     print(bins)\n",
    "\n",
    "        ax2 = ax1.twinx()  # instantiate a second axes that shares the same x-axis\n",
    "\n",
    "        color = 'tab:blue'\n",
    "        ax2.set_ylabel('dBAS', color=color)  # we already handled the x-label with ax1\n",
    "        ax2.plot(spl_time, spl_dBAS_mean, color=color)\n",
    "        ax2.plot(spl_time, spl_dBAS_max, color='black')\n",
    "        ax2.plot(spl_time, spl_dBAS_median, color='green')\n",
    "        ax2.tick_params(axis='y', labelcolor=color)\n",
    "\n",
    "        subplot_idx += 1 \n",
    "    #     axes = plt.gca()\n",
    "        ax1.set_ylim([0,max(y_vals)])\n",
    "    \n",
    "    plt.tight_layout()\n",
    "    plt.show()\n",
    "#     print(total_timestamp_arr)\n",
    "    return bins"
   ]
  },
  {
   "cell_type": "code",
   "execution_count": 209,
   "metadata": {},
   "outputs": [],
   "source": [
    "def plot_truck_clusters(num_clusters, sensor_transformed, fit_arr, sensor_timestamps_dt, spl_time, spl_dBAS_mean, \\\n",
    "                  spl_dBAS_max, spl_dBAS_median, bin_arr, clusters_plot_arr):\n",
    "    \"\"\"\n",
    "    Plots a histogram of the frequency of cluster assignments over time for one sensor.\n",
    "    \n",
    "    Parameters\n",
    "    ----------\n",
    "    num_clusters : int\n",
    "        The number of clusters to assign the data to.\n",
    "        \n",
    "    sensor_transformed : 45-dimensional array of floats\n",
    "        An array taken from projected_45 with only the feature vectors corresponding to one sensor.\n",
    "        \n",
    "    fit_arr : array of floats\n",
    "        45-dimensional array of feature vectors from all sensors\n",
    "        \n",
    "    sensor_timestamps_dt : datetime array\n",
    "        Numpy array with dtype=datetime.datetime, containing day values for each data point gathered for a specified\n",
    "        sensor.\n",
    "        \n",
    "    spl_time : datetime array\n",
    "        Array of datetime objects corresponding to the SPL values.\n",
    "        \n",
    "    spl_dBAS_mean : array of floats\n",
    "        Array of SPL values corresponding to spl_time, averaged over each minute.\n",
    "        \n",
    "    spl_dBAS_max : array of floats\n",
    "        Array of SPL values corresponding to spl_time, consisting of the maximum value from each minute.\n",
    "        \n",
    "    spl_dBAS_median : array of floats\n",
    "        Array of SPL values corresponding to spl_time, consisting of the median value from each minute.\n",
    "    \n",
    "    num_bins : int\n",
    "        The number of bins to group the cluster frequency into.\n",
    "        \n",
    "    bin_arr : array of floats\n",
    "        Array of bin edges to group the cluster frequency into.\n",
    "        \n",
    "    clusters_plot_arr : arr of ints within the range(0, num_clusters)\n",
    "        The indices of the clusters to plot.\n",
    "    \"\"\"\n",
    "    test = get_cluster_assignments(num_clusters, sensor_transformed, fit_arr)\n",
    "    y_vals = []\n",
    "    \n",
    "    total_timestamp_arr = []\n",
    "    for cluster_num in clusters_plot_arr:\n",
    "        cluster_mask = np.nonzero(test==cluster_num)\n",
    "        \n",
    "        if(np.sum(cluster_mask) == 0):\n",
    "            continue\n",
    "            \n",
    "        timestamp_arr = np.asarray(sensor_timestamps_dt)[cluster_mask]\n",
    "        for timestamp in timestamp_arr:\n",
    "            total_timestamp_arr.append(timestamp)\n",
    "    \n",
    "#     print(total_timestamp_arr)\n",
    "    \n",
    "    fig, ax1 = plt.subplots()  \n",
    "    color = 'tab:red'\n",
    "    ax1.set_xlabel('time')\n",
    "    ax1.set_ylabel('truck clusters', color=color)\n",
    "        \n",
    "    y, x, _ = ax1.hist(total_timestamp_arr, bins=bin_arr, color=color)\n",
    "    y_vals.append(y.max())\n",
    "    ax1.tick_params(axis='y', labelcolor=color)\n",
    "\n",
    "#     print(bins)\n",
    "\n",
    "    ax2 = ax1.twinx()  # instantiate a second axes that shares the same x-axis\n",
    "\n",
    "    color = 'tab:blue'\n",
    "    ax2.set_ylabel('dBAS', color=color)  # we already handled the x-label with ax1\n",
    "    ax2.plot(spl_time, spl_dBAS_mean, color=color)\n",
    "    ax2.plot(spl_time, spl_dBAS_max, color='black')\n",
    "    ax2.plot(spl_time, spl_dBAS_median, color='green')\n",
    "    ax2.tick_params(axis='y', labelcolor=color)\n",
    "\n",
    "#     axes = plt.gca()\n",
    "    ax1.set_ylim([0,max(y_vals)])\n",
    "    \n",
    "    fig.set_size_inches(18.5, 10.5)\n",
    "    fig.tight_layout()\n",
    "    fig.show()\n",
    "#     print(total_timestamp_arr)\n",
    "#     return bins"
   ]
  },
  {
   "cell_type": "code",
   "execution_count": 20,
   "metadata": {},
   "outputs": [],
   "source": [
    "b827ebc178d2_mask = get_sensor_mask(d['sensor_id'], b'sonycnode-b827ebc178d2.sonyc')\n",
    "b827ebc178d2_transformed = projected_45[b827ebc178d2_mask]\n",
    "b827ebc178d2_timestamps = d[b827ebc178d2_mask, 'timestamp']\n",
    "b827ebc178d2_timestamps_dt = [convert_timestamps(x) for x in b827ebc178d2_timestamps]"
   ]
  },
  {
   "cell_type": "code",
   "execution_count": 21,
   "metadata": {},
   "outputs": [
    {
     "data": {
      "text/plain": [
       "dtype('O')"
      ]
     },
     "execution_count": 21,
     "metadata": {},
     "output_type": "execute_result"
    }
   ],
   "source": [
    "np.asarray(b827ebc178d2_timestamps_dt, dtype=datetime.datetime).dtype"
   ]
  },
  {
   "cell_type": "code",
   "execution_count": 22,
   "metadata": {},
   "outputs": [
    {
     "data": {
      "text/plain": [
       "datetime.datetime(2019, 6, 1, 0, 0, 17, tzinfo=<DstTzInfo 'US/Eastern' EDT-1 day, 20:00:00 DST>)"
      ]
     },
     "execution_count": 22,
     "metadata": {},
     "output_type": "execute_result"
    }
   ],
   "source": [
    "b827ebc178d2_timestamps_dt[1]"
   ]
  },
  {
   "cell_type": "markdown",
   "metadata": {},
   "source": [
    "# Averaging data"
   ]
  },
  {
   "cell_type": "markdown",
   "metadata": {},
   "source": [
    "Dataset with one data point every minute"
   ]
  },
  {
   "cell_type": "code",
   "execution_count": 23,
   "metadata": {},
   "outputs": [],
   "source": [
    "minute_time_arr = np.empty(int(len(time_arr)/60), dtype = datetime.datetime)\n",
    "minute_dBAS_arr = np.empty(int(len(time_arr)/60))"
   ]
  },
  {
   "cell_type": "code",
   "execution_count": 24,
   "metadata": {},
   "outputs": [],
   "source": [
    "step = 60\n",
    "i = 0\n",
    "count = 0\n",
    "while i < len(time_arr): \n",
    "    minute_time_arr[count] = time_arr[i]\n",
    "    minute_dBAS_arr[count] = np.average(dBAS_arr[i:i+step])\n",
    "    i += step\n",
    "    count += 1"
   ]
  },
  {
   "cell_type": "markdown",
   "metadata": {},
   "source": [
    "# Taking max of data"
   ]
  },
  {
   "cell_type": "code",
   "execution_count": 93,
   "metadata": {},
   "outputs": [],
   "source": [
    "minute_dBAS_max = np.empty(int(len(time_arr)/60))"
   ]
  },
  {
   "cell_type": "code",
   "execution_count": 94,
   "metadata": {},
   "outputs": [],
   "source": [
    "step = 60\n",
    "i = 0\n",
    "count = 0\n",
    "while i < len(time_arr): \n",
    "    minute_dBAS_max[count] = np.amax(dBAS_arr[i:i+step])\n",
    "    i += step\n",
    "    count += 1"
   ]
  },
  {
   "cell_type": "code",
   "execution_count": 96,
   "metadata": {
    "scrolled": true
   },
   "outputs": [
    {
     "data": {
      "text/plain": [
       "array([73.88, 73.14, 81.78, ..., 74.38, 75.82, 77.04])"
      ]
     },
     "execution_count": 96,
     "metadata": {},
     "output_type": "execute_result"
    }
   ],
   "source": [
    "minute_dBAS_max"
   ]
  },
  {
   "cell_type": "markdown",
   "metadata": {},
   "source": [
    "# Taking median of data"
   ]
  },
  {
   "cell_type": "code",
   "execution_count": 98,
   "metadata": {},
   "outputs": [],
   "source": [
    "minute_dBAS_median = np.empty(int(len(time_arr)/60))"
   ]
  },
  {
   "cell_type": "code",
   "execution_count": 99,
   "metadata": {},
   "outputs": [],
   "source": [
    "step = 60\n",
    "i = 0\n",
    "count = 0\n",
    "while i < len(time_arr): \n",
    "    minute_dBAS_median[count] = np.median(dBAS_arr[i:i+step])\n",
    "    i += step\n",
    "    count += 1"
   ]
  },
  {
   "cell_type": "code",
   "execution_count": 100,
   "metadata": {
    "scrolled": true
   },
   "outputs": [
    {
     "data": {
      "text/plain": [
       "array([61.775, 57.79 , 64.23 , ..., 58.02 , 66.055, 61.44 ])"
      ]
     },
     "execution_count": 100,
     "metadata": {},
     "output_type": "execute_result"
    }
   ],
   "source": [
    "minute_dBAS_median"
   ]
  },
  {
   "cell_type": "code",
   "execution_count": null,
   "metadata": {},
   "outputs": [],
   "source": []
  },
  {
   "cell_type": "markdown",
   "metadata": {},
   "source": [
    "# Plotting 12 hour intervals for one day"
   ]
  },
  {
   "cell_type": "markdown",
   "metadata": {},
   "source": [
    "Slicing the SPL data"
   ]
  },
  {
   "cell_type": "code",
   "execution_count": 25,
   "metadata": {},
   "outputs": [],
   "source": [
    "naive_minute_time_arr = [x.replace(tzinfo=None) for x in minute_time_arr]"
   ]
  },
  {
   "cell_type": "markdown",
   "metadata": {},
   "source": [
    "Slicing for 8am to 8pm"
   ]
  },
  {
   "cell_type": "code",
   "execution_count": 26,
   "metadata": {},
   "outputs": [],
   "source": [
    "naive_minute_time_arr_np = np.array(naive_minute_time_arr)\n",
    "minute_time_arr_am_mask = \\\n",
    "get_time_mask(datetime.datetime(2019, 6, 1, 8), datetime.datetime(2019, 6, 1, 20), naive_minute_time_arr_np)"
   ]
  },
  {
   "cell_type": "code",
   "execution_count": 102,
   "metadata": {},
   "outputs": [],
   "source": [
    "minute_time_arr_am = minute_time_arr[minute_time_arr_am_mask]\n",
    "minute_dBAS_arr_am = minute_dBAS_arr[minute_time_arr_am_mask]\n",
    "minute_dBAS_max_am = minute_dBAS_max[minute_time_arr_am_mask]\n",
    "minute_dBAS_median_am = minute_dBAS_median[minute_time_arr_am_mask]"
   ]
  },
  {
   "cell_type": "markdown",
   "metadata": {},
   "source": [
    "Slicing for 8pm to 8am"
   ]
  },
  {
   "cell_type": "code",
   "execution_count": 28,
   "metadata": {},
   "outputs": [],
   "source": [
    "minute_time_arr_pm_mask = \\\n",
    "get_time_mask(datetime.datetime(2019, 6, 1, 20), datetime.datetime(2019, 6, 2, 8), naive_minute_time_arr_np)"
   ]
  },
  {
   "cell_type": "code",
   "execution_count": 111,
   "metadata": {},
   "outputs": [],
   "source": [
    "minute_time_arr_pm = minute_time_arr[minute_time_arr_pm_mask]\n",
    "minute_dBAS_arr_pm = minute_dBAS_arr[minute_time_arr_pm_mask]\n",
    "minute_dBAS_max_pm = minute_dBAS_max[minute_time_arr_pm_mask]\n",
    "minute_dBAS_median_pm = minute_dBAS_median[minute_time_arr_pm_mask]"
   ]
  },
  {
   "cell_type": "markdown",
   "metadata": {},
   "source": [
    "Slicing the feature vectors from 8am to 8pm"
   ]
  },
  {
   "cell_type": "code",
   "execution_count": 30,
   "metadata": {},
   "outputs": [],
   "source": [
    "naive_b827ebc178d2_timestamps_dt = [x.replace(tzinfo=None) for x in b827ebc178d2_timestamps_dt]"
   ]
  },
  {
   "cell_type": "code",
   "execution_count": 31,
   "metadata": {},
   "outputs": [],
   "source": [
    "naive_b827ebc178d2_timestamps_dt_np = np.array(naive_b827ebc178d2_timestamps_dt)\n",
    "am_mask = \\\n",
    "get_time_mask(datetime.datetime(2019, 6, 1, 8), datetime.datetime(2019, 6, 1, 20), naive_b827ebc178d2_timestamps_dt_np)"
   ]
  },
  {
   "cell_type": "code",
   "execution_count": 32,
   "metadata": {},
   "outputs": [],
   "source": [
    "b827ebc178d2_timestamps_dt_am = np.asarray(b827ebc178d2_timestamps_dt)[am_mask]"
   ]
  },
  {
   "cell_type": "markdown",
   "metadata": {},
   "source": [
    "Slicing the feature vectors from 8pm to 8am"
   ]
  },
  {
   "cell_type": "code",
   "execution_count": 33,
   "metadata": {},
   "outputs": [],
   "source": [
    "pm_mask = \\\n",
    "get_time_mask(datetime.datetime(2019, 6, 1, 20), datetime.datetime(2019, 6, 2, 8), naive_b827ebc178d2_timestamps_dt_np)"
   ]
  },
  {
   "cell_type": "code",
   "execution_count": 34,
   "metadata": {},
   "outputs": [],
   "source": [
    "b827ebc178d2_timestamps_dt_pm = np.asarray(b827ebc178d2_timestamps_dt)[pm_mask]"
   ]
  },
  {
   "cell_type": "code",
   "execution_count": 35,
   "metadata": {
    "scrolled": false
   },
   "outputs": [],
   "source": [
    "# plot_clusters(15, b827ebc178d2_transformed[am_mask], projected_45[index], b827ebc178d2_timestamps_dt_am, \\\n",
    "#              minute_time_arr_am, minute_dBAS_arr_am, 12*60)"
   ]
  },
  {
   "cell_type": "markdown",
   "metadata": {},
   "source": [
    "# Plotting 1 hour intervals"
   ]
  },
  {
   "cell_type": "markdown",
   "metadata": {},
   "source": [
    "Slicing the SPL data"
   ]
  },
  {
   "cell_type": "markdown",
   "metadata": {},
   "source": [
    "Slicing for 2pm to 3pm"
   ]
  },
  {
   "cell_type": "code",
   "execution_count": 36,
   "metadata": {},
   "outputs": [],
   "source": [
    "minute_time_arr_hour_mask = \\\n",
    "get_time_mask(datetime.datetime(2019, 6, 1, 14), datetime.datetime(2019, 6, 1, 15), naive_minute_time_arr_np)"
   ]
  },
  {
   "cell_type": "code",
   "execution_count": 101,
   "metadata": {},
   "outputs": [],
   "source": [
    "minute_time_arr_hour = minute_time_arr[minute_time_arr_hour_mask]\n",
    "minute_dBAS_arr_hour = minute_dBAS_arr[minute_time_arr_hour_mask]\n",
    "minute_dBAS_max_hour = minute_dBAS_max[minute_time_arr_hour_mask]\n",
    "minute_dBAS_median_hour = minute_dBAS_median[minute_time_arr_hour_mask]"
   ]
  },
  {
   "cell_type": "markdown",
   "metadata": {},
   "source": [
    "Slicing the feature vectors from 2pm to 3pm"
   ]
  },
  {
   "cell_type": "code",
   "execution_count": 49,
   "metadata": {},
   "outputs": [],
   "source": [
    "hour_mask = \\\n",
    "get_time_mask(datetime.datetime(2019, 6, 1, 14), datetime.datetime(2019, 6, 1, 15), naive_b827ebc178d2_timestamps_dt_np)"
   ]
  },
  {
   "cell_type": "code",
   "execution_count": 50,
   "metadata": {},
   "outputs": [],
   "source": [
    "b827ebc178d2_timestamps_dt_hour = np.asarray(b827ebc178d2_timestamps_dt)[hour_mask]"
   ]
  },
  {
   "cell_type": "code",
   "execution_count": null,
   "metadata": {},
   "outputs": [],
   "source": []
  },
  {
   "cell_type": "markdown",
   "metadata": {},
   "source": [
    "# Plotting truck clusters"
   ]
  },
  {
   "cell_type": "markdown",
   "metadata": {},
   "source": [
    "Truck clusters (in 64 cluster model) are 5, 10, 11, 18, 20, 37, 42, 57, 63"
   ]
  },
  {
   "cell_type": "code",
   "execution_count": 45,
   "metadata": {},
   "outputs": [],
   "source": [
    "truck_clusters = [5, 10, 11, 18, 20, 37, 42, 57, 63]"
   ]
  },
  {
   "cell_type": "code",
   "execution_count": 265,
   "metadata": {},
   "outputs": [],
   "source": [
    "# am_bins = plot_clusters(64, b827ebc178d2_transformed[am_mask], projected_45[index], b827ebc178d2_timestamps_dt_am, \\\n",
    "#              minute_time_arr_am, minute_dBAS_arr_am, minute_dBAS_max_am, minute_dBAS_median_am, \\\n",
    "#               12*60, truck_clusters)"
   ]
  },
  {
   "cell_type": "code",
   "execution_count": 216,
   "metadata": {},
   "outputs": [],
   "source": [
    "# pm_bins = plot_clusters(64, b827ebc178d2_transformed[pm_mask], projected_45[index], b827ebc178d2_timestamps_dt_pm, \\\n",
    "#              minute_time_arr_pm, minute_dBAS_arr_pm, minute_dBAS_max_pm, minute_dBAS_median_pm, \\\n",
    "#               12*60, truck_clusters)"
   ]
  },
  {
   "cell_type": "code",
   "execution_count": 215,
   "metadata": {
    "scrolled": false
   },
   "outputs": [],
   "source": [
    "# hour_bins = plot_clusters(64, b827ebc178d2_transformed[hour_mask], projected_45[index], \\\n",
    "#                           b827ebc178d2_timestamps_dt_hour, minute_time_arr_hour, minute_dBAS_arr_hour, \\\n",
    "#                           minute_dBAS_max_hour, minute_dBAS_median_hour, 60, truck_clusters)"
   ]
  },
  {
   "cell_type": "code",
   "execution_count": 87,
   "metadata": {},
   "outputs": [],
   "source": [
    "#(df['cluster_id']==27).groupby('minute_of_the_day').sum()"
   ]
  },
  {
   "cell_type": "code",
   "execution_count": 210,
   "metadata": {},
   "outputs": [
    {
     "data": {
      "image/png": "[encoded data removed]",
      "text/plain": [
       "<Figure size 1332x756 with 2 Axes>"
      ]
     },
     "metadata": {
      "needs_background": "light"
     },
     "output_type": "display_data"
    }
   ],
   "source": [
    "plot_truck_clusters(64, b827ebc178d2_transformed[hour_mask], projected_45[index], \\\n",
    "                          b827ebc178d2_timestamps_dt_hour, minute_time_arr_hour, minute_dBAS_arr_hour, \\\n",
    "                          minute_dBAS_max_hour, minute_dBAS_median_hour, hour_bins, truck_clusters)"
   ]
  },
  {
   "cell_type": "code",
   "execution_count": 214,
   "metadata": {},
   "outputs": [],
   "source": [
    "# plot_truck_clusters(64, b827ebc178d2_transformed[am_mask], projected_45[index], \\\n",
    "#                           b827ebc178d2_timestamps_dt_am, minute_time_arr_am, minute_dBAS_arr_am, \\\n",
    "#                           minute_dBAS_max_am, minute_dBAS_median_am, am_bins, truck_clusters)"
   ]
  },
  {
   "cell_type": "code",
   "execution_count": 213,
   "metadata": {
    "scrolled": false
   },
   "outputs": [],
   "source": [
    "# plot_truck_clusters(64, b827ebc178d2_transformed[pm_mask], projected_45[index], \\\n",
    "#                           b827ebc178d2_timestamps_dt_pm, minute_time_arr_pm, minute_dBAS_arr_pm, \\\n",
    "#                           minute_dBAS_max_pm, minute_dBAS_median_pm, pm_bins, truck_clusters)"
   ]
  },
  {
   "cell_type": "code",
   "execution_count": 88,
   "metadata": {},
   "outputs": [],
   "source": [
    "#TODO: plot median, max of SPL, aggregate cluster info"
   ]
  },
  {
   "cell_type": "code",
   "execution_count": 199,
   "metadata": {},
   "outputs": [
    {
     "data": {
      "text/plain": [
       "61"
      ]
     },
     "execution_count": 199,
     "metadata": {},
     "output_type": "execute_result"
    }
   ],
   "source": [
    "len(hour_bins)"
   ]
  },
  {
   "cell_type": "markdown",
   "metadata": {},
   "source": [
    "# Averaging data over 10 sec"
   ]
  },
  {
   "cell_type": "markdown",
   "metadata": {},
   "source": [
    "Dataset with one data point every 10 seconds"
   ]
  },
  {
   "cell_type": "code",
   "execution_count": 217,
   "metadata": {},
   "outputs": [],
   "source": [
    "ten_sec_time_arr = np.empty(int(len(time_arr)/10), dtype = datetime.datetime)\n",
    "ten_sec_dBAS_arr = np.empty(int(len(time_arr)/10))"
   ]
  },
  {
   "cell_type": "code",
   "execution_count": 218,
   "metadata": {},
   "outputs": [],
   "source": [
    "step = 10\n",
    "i = 0\n",
    "count = 0\n",
    "while i < len(time_arr): \n",
    "    ten_sec_time_arr[count] = time_arr[i]\n",
    "    ten_sec_dBAS_arr[count] = np.average(dBAS_arr[i:i+step])\n",
    "    i += step\n",
    "    count += 1"
   ]
  },
  {
   "cell_type": "markdown",
   "metadata": {},
   "source": [
    "# Taking max of data"
   ]
  },
  {
   "cell_type": "code",
   "execution_count": 220,
   "metadata": {},
   "outputs": [],
   "source": [
    "ten_sec_dBAS_max = np.empty(int(len(time_arr)/10))"
   ]
  },
  {
   "cell_type": "code",
   "execution_count": 221,
   "metadata": {},
   "outputs": [],
   "source": [
    "step = 10\n",
    "i = 0\n",
    "count = 0\n",
    "while i < len(time_arr): \n",
    "    ten_sec_dBAS_max[count] = np.amax(dBAS_arr[i:i+step])\n",
    "    i += step\n",
    "    count += 1"
   ]
  },
  {
   "cell_type": "code",
   "execution_count": 222,
   "metadata": {
    "scrolled": true
   },
   "outputs": [
    {
     "data": {
      "text/plain": [
       "array([67.42, 72.63, 62.28, ..., 62.57, 66.96, 77.04])"
      ]
     },
     "execution_count": 222,
     "metadata": {},
     "output_type": "execute_result"
    }
   ],
   "source": [
    "ten_sec_dBAS_max"
   ]
  },
  {
   "cell_type": "markdown",
   "metadata": {},
   "source": [
    "# Taking median of data"
   ]
  },
  {
   "cell_type": "code",
   "execution_count": 223,
   "metadata": {},
   "outputs": [],
   "source": [
    "ten_sec_dBAS_median = np.empty(int(len(time_arr)/10))"
   ]
  },
  {
   "cell_type": "code",
   "execution_count": 224,
   "metadata": {},
   "outputs": [],
   "source": [
    "step = 10\n",
    "i = 0\n",
    "count = 0\n",
    "while i < len(time_arr): \n",
    "    ten_sec_dBAS_median[count] = np.median(dBAS_arr[i:i+step])\n",
    "    i += step\n",
    "    count += 1"
   ]
  },
  {
   "cell_type": "code",
   "execution_count": 225,
   "metadata": {
    "scrolled": true
   },
   "outputs": [
    {
     "data": {
      "text/plain": [
       "array([63.63 , 65.575, 58.28 , ..., 57.625, 60.695, 65.255])"
      ]
     },
     "execution_count": 225,
     "metadata": {},
     "output_type": "execute_result"
    }
   ],
   "source": [
    "ten_sec_dBAS_median"
   ]
  },
  {
   "cell_type": "code",
   "execution_count": null,
   "metadata": {},
   "outputs": [],
   "source": []
  },
  {
   "cell_type": "markdown",
   "metadata": {},
   "source": [
    "# Plotting 12 hour intervals for one day"
   ]
  },
  {
   "cell_type": "markdown",
   "metadata": {},
   "source": [
    "Slicing the SPL data"
   ]
  },
  {
   "cell_type": "code",
   "execution_count": 227,
   "metadata": {},
   "outputs": [],
   "source": [
    "naive_ten_sec_time_arr = [x.replace(tzinfo=None) for x in ten_sec_time_arr]"
   ]
  },
  {
   "cell_type": "markdown",
   "metadata": {},
   "source": [
    "Slicing for 8am to 8pm"
   ]
  },
  {
   "cell_type": "code",
   "execution_count": 228,
   "metadata": {},
   "outputs": [],
   "source": [
    "naive_ten_sec_time_arr_np = np.array(naive_ten_sec_time_arr)\n",
    "ten_sec_time_arr_am_mask = \\\n",
    "get_time_mask(datetime.datetime(2019, 6, 1, 8), datetime.datetime(2019, 6, 1, 20), naive_ten_sec_time_arr_np)"
   ]
  },
  {
   "cell_type": "code",
   "execution_count": 229,
   "metadata": {},
   "outputs": [],
   "source": [
    "ten_sec_time_arr_am = ten_sec_time_arr[ten_sec_time_arr_am_mask]\n",
    "ten_sec_dBAS_arr_am = ten_sec_dBAS_arr[ten_sec_time_arr_am_mask]\n",
    "ten_sec_dBAS_max_am = ten_sec_dBAS_max[ten_sec_time_arr_am_mask]\n",
    "ten_sec_dBAS_median_am = ten_sec_dBAS_median[ten_sec_time_arr_am_mask]"
   ]
  },
  {
   "cell_type": "markdown",
   "metadata": {},
   "source": [
    "Slicing for 8pm to 8am"
   ]
  },
  {
   "cell_type": "code",
   "execution_count": 230,
   "metadata": {},
   "outputs": [],
   "source": [
    "ten_sec_time_arr_pm_mask = \\\n",
    "get_time_mask(datetime.datetime(2019, 6, 1, 20), datetime.datetime(2019, 6, 2, 8), naive_ten_sec_time_arr_np)"
   ]
  },
  {
   "cell_type": "code",
   "execution_count": 231,
   "metadata": {},
   "outputs": [],
   "source": [
    "ten_sec_time_arr_pm = ten_sec_time_arr[ten_sec_time_arr_pm_mask]\n",
    "ten_sec_dBAS_arr_pm = ten_sec_dBAS_arr[ten_sec_time_arr_pm_mask]\n",
    "ten_sec_dBAS_max_pm = ten_sec_dBAS_max[ten_sec_time_arr_pm_mask]\n",
    "ten_sec_dBAS_median_pm = ten_sec_dBAS_median[ten_sec_time_arr_pm_mask]"
   ]
  },
  {
   "cell_type": "markdown",
   "metadata": {},
   "source": [
    "# Plotting 1 hour intervals"
   ]
  },
  {
   "cell_type": "markdown",
   "metadata": {},
   "source": [
    "Slicing the SPL data"
   ]
  },
  {
   "cell_type": "markdown",
   "metadata": {},
   "source": [
    "Slicing for 2pm to 3pm"
   ]
  },
  {
   "cell_type": "code",
   "execution_count": 232,
   "metadata": {},
   "outputs": [],
   "source": [
    "ten_sec_time_arr_hour_mask = \\\n",
    "get_time_mask(datetime.datetime(2019, 6, 1, 14), datetime.datetime(2019, 6, 1, 15), naive_ten_sec_time_arr_np)"
   ]
  },
  {
   "cell_type": "code",
   "execution_count": 233,
   "metadata": {},
   "outputs": [],
   "source": [
    "ten_sec_time_arr_hour = ten_sec_time_arr[ten_sec_time_arr_hour_mask]\n",
    "ten_sec_dBAS_arr_hour = ten_sec_dBAS_arr[ten_sec_time_arr_hour_mask]\n",
    "ten_sec_dBAS_max_hour = ten_sec_dBAS_max[ten_sec_time_arr_hour_mask]\n",
    "ten_sec_dBAS_median_hour = ten_sec_dBAS_median[ten_sec_time_arr_hour_mask]"
   ]
  },
  {
   "cell_type": "code",
   "execution_count": 266,
   "metadata": {},
   "outputs": [],
   "source": [
    "# ten_sec_hour_bins = plot_clusters(64, b827ebc178d2_transformed[hour_mask], projected_45[index], \\\n",
    "#                           b827ebc178d2_timestamps_dt_hour, ten_sec_time_arr_hour, ten_sec_dBAS_arr_hour, \\\n",
    "#                           ten_sec_dBAS_max_hour, ten_sec_dBAS_median_hour, 600, truck_clusters)"
   ]
  },
  {
   "cell_type": "code",
   "execution_count": 640,
   "metadata": {},
   "outputs": [],
   "source": [
    "# plot_truck_clusters(64, b827ebc178d2_transformed[hour_mask], projected_45[index], \\\n",
    "#                           b827ebc178d2_timestamps_dt_hour, ten_sec_time_arr_hour, ten_sec_dBAS_arr_hour, \\\n",
    "#                           ten_sec_dBAS_max_hour, ten_sec_dBAS_median_hour, ten_sec_hour_bins, truck_clusters)"
   ]
  },
  {
   "cell_type": "markdown",
   "metadata": {},
   "source": [
    "# Dataframe with timestamps and classification (truck, other, or unknown)"
   ]
  },
  {
   "cell_type": "code",
   "execution_count": 472,
   "metadata": {},
   "outputs": [],
   "source": [
    "cluster_assignments = get_cluster_assignments(64, b827ebc178d2_transformed[hour_mask], projected_45[index])\n",
    "seconds_b827ebc178d2_timestamps_dt_hour = [x.replace(microsecond=0) for x in b827ebc178d2_timestamps_dt_hour]"
   ]
  },
  {
   "cell_type": "code",
   "execution_count": 475,
   "metadata": {},
   "outputs": [],
   "source": [
    "duplicates = set([x for x in seconds_b827ebc178d2_timestamps_dt_hour if \\\n",
    "                  seconds_b827ebc178d2_timestamps_dt_hour.count(x) > 1])"
   ]
  },
  {
   "cell_type": "code",
   "execution_count": 474,
   "metadata": {
    "scrolled": true
   },
   "outputs": [
    {
     "data": {
      "text/plain": [
       "set()"
      ]
     },
     "execution_count": 474,
     "metadata": {},
     "output_type": "execute_result"
    }
   ],
   "source": []
  },
  {
   "cell_type": "code",
   "execution_count": 476,
   "metadata": {
    "scrolled": true
   },
   "outputs": [
    {
     "data": {
      "text/html": [
       "<div>\n",
       "<style scoped>\n",
       "    .dataframe tbody tr th:only-of-type {\n",
       "        vertical-align: middle;\n",
       "    }\n",
       "\n",
       "    .dataframe tbody tr th {\n",
       "        vertical-align: top;\n",
       "    }\n",
       "\n",
       "    .dataframe thead th {\n",
       "        text-align: right;\n",
       "    }\n",
       "</style>\n",
       "<table border=\"1\" class=\"dataframe\">\n",
       "  <thead>\n",
       "    <tr style=\"text-align: right;\">\n",
       "      <th></th>\n",
       "      <th>assignment</th>\n",
       "    </tr>\n",
       "  </thead>\n",
       "  <tbody>\n",
       "    <tr>\n",
       "      <th>2019-06-01 14:00:08-04:00</th>\n",
       "      <td>52</td>\n",
       "    </tr>\n",
       "    <tr>\n",
       "      <th>2019-06-01 14:00:09-04:00</th>\n",
       "      <td>6</td>\n",
       "    </tr>\n",
       "    <tr>\n",
       "      <th>2019-06-01 14:00:10-04:00</th>\n",
       "      <td>6</td>\n",
       "    </tr>\n",
       "    <tr>\n",
       "      <th>2019-06-01 14:00:11-04:00</th>\n",
       "      <td>33</td>\n",
       "    </tr>\n",
       "    <tr>\n",
       "      <th>2019-06-01 14:00:12-04:00</th>\n",
       "      <td>6</td>\n",
       "    </tr>\n",
       "    <tr>\n",
       "      <th>2019-06-01 14:00:13-04:00</th>\n",
       "      <td>33</td>\n",
       "    </tr>\n",
       "    <tr>\n",
       "      <th>2019-06-01 14:00:14-04:00</th>\n",
       "      <td>36</td>\n",
       "    </tr>\n",
       "    <tr>\n",
       "      <th>2019-06-01 14:00:15-04:00</th>\n",
       "      <td>6</td>\n",
       "    </tr>\n",
       "    <tr>\n",
       "      <th>2019-06-01 14:00:16-04:00</th>\n",
       "      <td>48</td>\n",
       "    </tr>\n",
       "    <tr>\n",
       "      <th>2019-06-01 14:00:17-04:00</th>\n",
       "      <td>32</td>\n",
       "    </tr>\n",
       "    <tr>\n",
       "      <th>2019-06-01 14:00:18-04:00</th>\n",
       "      <td>3</td>\n",
       "    </tr>\n",
       "    <tr>\n",
       "      <th>2019-06-01 14:00:30-04:00</th>\n",
       "      <td>30</td>\n",
       "    </tr>\n",
       "    <tr>\n",
       "      <th>2019-06-01 14:00:31-04:00</th>\n",
       "      <td>33</td>\n",
       "    </tr>\n",
       "    <tr>\n",
       "      <th>2019-06-01 14:00:32-04:00</th>\n",
       "      <td>33</td>\n",
       "    </tr>\n",
       "    <tr>\n",
       "      <th>2019-06-01 14:00:33-04:00</th>\n",
       "      <td>59</td>\n",
       "    </tr>\n",
       "    <tr>\n",
       "      <th>2019-06-01 14:00:34-04:00</th>\n",
       "      <td>45</td>\n",
       "    </tr>\n",
       "    <tr>\n",
       "      <th>2019-06-01 14:00:35-04:00</th>\n",
       "      <td>59</td>\n",
       "    </tr>\n",
       "    <tr>\n",
       "      <th>2019-06-01 14:00:36-04:00</th>\n",
       "      <td>59</td>\n",
       "    </tr>\n",
       "    <tr>\n",
       "      <th>2019-06-01 14:00:37-04:00</th>\n",
       "      <td>59</td>\n",
       "    </tr>\n",
       "    <tr>\n",
       "      <th>2019-06-01 14:00:38-04:00</th>\n",
       "      <td>33</td>\n",
       "    </tr>\n",
       "    <tr>\n",
       "      <th>2019-06-01 14:00:39-04:00</th>\n",
       "      <td>59</td>\n",
       "    </tr>\n",
       "    <tr>\n",
       "      <th>2019-06-01 14:00:40-04:00</th>\n",
       "      <td>37</td>\n",
       "    </tr>\n",
       "    <tr>\n",
       "      <th>2019-06-01 14:00:51-04:00</th>\n",
       "      <td>30</td>\n",
       "    </tr>\n",
       "    <tr>\n",
       "      <th>2019-06-01 14:00:52-04:00</th>\n",
       "      <td>59</td>\n",
       "    </tr>\n",
       "    <tr>\n",
       "      <th>2019-06-01 14:00:53-04:00</th>\n",
       "      <td>59</td>\n",
       "    </tr>\n",
       "    <tr>\n",
       "      <th>2019-06-01 14:00:54-04:00</th>\n",
       "      <td>12</td>\n",
       "    </tr>\n",
       "    <tr>\n",
       "      <th>2019-06-01 14:00:55-04:00</th>\n",
       "      <td>33</td>\n",
       "    </tr>\n",
       "    <tr>\n",
       "      <th>2019-06-01 14:00:56-04:00</th>\n",
       "      <td>33</td>\n",
       "    </tr>\n",
       "    <tr>\n",
       "      <th>2019-06-01 14:00:57-04:00</th>\n",
       "      <td>33</td>\n",
       "    </tr>\n",
       "    <tr>\n",
       "      <th>2019-06-01 14:00:58-04:00</th>\n",
       "      <td>33</td>\n",
       "    </tr>\n",
       "    <tr>\n",
       "      <th>...</th>\n",
       "      <td>...</td>\n",
       "    </tr>\n",
       "    <tr>\n",
       "      <th>2019-06-01 14:59:11-04:00</th>\n",
       "      <td>1</td>\n",
       "    </tr>\n",
       "    <tr>\n",
       "      <th>2019-06-01 14:59:12-04:00</th>\n",
       "      <td>37</td>\n",
       "    </tr>\n",
       "    <tr>\n",
       "      <th>2019-06-01 14:59:19-04:00</th>\n",
       "      <td>2</td>\n",
       "    </tr>\n",
       "    <tr>\n",
       "      <th>2019-06-01 14:59:20-04:00</th>\n",
       "      <td>59</td>\n",
       "    </tr>\n",
       "    <tr>\n",
       "      <th>2019-06-01 14:59:21-04:00</th>\n",
       "      <td>33</td>\n",
       "    </tr>\n",
       "    <tr>\n",
       "      <th>2019-06-01 14:59:22-04:00</th>\n",
       "      <td>59</td>\n",
       "    </tr>\n",
       "    <tr>\n",
       "      <th>2019-06-01 14:59:23-04:00</th>\n",
       "      <td>59</td>\n",
       "    </tr>\n",
       "    <tr>\n",
       "      <th>2019-06-01 14:59:24-04:00</th>\n",
       "      <td>5</td>\n",
       "    </tr>\n",
       "    <tr>\n",
       "      <th>2019-06-01 14:59:25-04:00</th>\n",
       "      <td>22</td>\n",
       "    </tr>\n",
       "    <tr>\n",
       "      <th>2019-06-01 14:59:26-04:00</th>\n",
       "      <td>46</td>\n",
       "    </tr>\n",
       "    <tr>\n",
       "      <th>2019-06-01 14:59:27-04:00</th>\n",
       "      <td>46</td>\n",
       "    </tr>\n",
       "    <tr>\n",
       "      <th>2019-06-01 14:59:28-04:00</th>\n",
       "      <td>46</td>\n",
       "    </tr>\n",
       "    <tr>\n",
       "      <th>2019-06-01 14:59:29-04:00</th>\n",
       "      <td>37</td>\n",
       "    </tr>\n",
       "    <tr>\n",
       "      <th>2019-06-01 14:59:36-04:00</th>\n",
       "      <td>30</td>\n",
       "    </tr>\n",
       "    <tr>\n",
       "      <th>2019-06-01 14:59:37-04:00</th>\n",
       "      <td>59</td>\n",
       "    </tr>\n",
       "    <tr>\n",
       "      <th>2019-06-01 14:59:38-04:00</th>\n",
       "      <td>59</td>\n",
       "    </tr>\n",
       "    <tr>\n",
       "      <th>2019-06-01 14:59:39-04:00</th>\n",
       "      <td>59</td>\n",
       "    </tr>\n",
       "    <tr>\n",
       "      <th>2019-06-01 14:59:40-04:00</th>\n",
       "      <td>59</td>\n",
       "    </tr>\n",
       "    <tr>\n",
       "      <th>2019-06-01 14:59:41-04:00</th>\n",
       "      <td>46</td>\n",
       "    </tr>\n",
       "    <tr>\n",
       "      <th>2019-06-01 14:59:42-04:00</th>\n",
       "      <td>33</td>\n",
       "    </tr>\n",
       "    <tr>\n",
       "      <th>2019-06-01 14:59:43-04:00</th>\n",
       "      <td>36</td>\n",
       "    </tr>\n",
       "    <tr>\n",
       "      <th>2019-06-01 14:59:44-04:00</th>\n",
       "      <td>36</td>\n",
       "    </tr>\n",
       "    <tr>\n",
       "      <th>2019-06-01 14:59:45-04:00</th>\n",
       "      <td>32</td>\n",
       "    </tr>\n",
       "    <tr>\n",
       "      <th>2019-06-01 14:59:46-04:00</th>\n",
       "      <td>3</td>\n",
       "    </tr>\n",
       "    <tr>\n",
       "      <th>2019-06-01 14:59:54-04:00</th>\n",
       "      <td>52</td>\n",
       "    </tr>\n",
       "    <tr>\n",
       "      <th>2019-06-01 14:59:55-04:00</th>\n",
       "      <td>59</td>\n",
       "    </tr>\n",
       "    <tr>\n",
       "      <th>2019-06-01 14:59:56-04:00</th>\n",
       "      <td>59</td>\n",
       "    </tr>\n",
       "    <tr>\n",
       "      <th>2019-06-01 14:59:57-04:00</th>\n",
       "      <td>13</td>\n",
       "    </tr>\n",
       "    <tr>\n",
       "      <th>2019-06-01 14:59:58-04:00</th>\n",
       "      <td>59</td>\n",
       "    </tr>\n",
       "    <tr>\n",
       "      <th>2019-06-01 14:59:59-04:00</th>\n",
       "      <td>59</td>\n",
       "    </tr>\n",
       "  </tbody>\n",
       "</table>\n",
       "<p>1986 rows × 1 columns</p>\n",
       "</div>"
      ],
      "text/plain": [
       "                           assignment\n",
       "2019-06-01 14:00:08-04:00          52\n",
       "2019-06-01 14:00:09-04:00           6\n",
       "2019-06-01 14:00:10-04:00           6\n",
       "2019-06-01 14:00:11-04:00          33\n",
       "2019-06-01 14:00:12-04:00           6\n",
       "2019-06-01 14:00:13-04:00          33\n",
       "2019-06-01 14:00:14-04:00          36\n",
       "2019-06-01 14:00:15-04:00           6\n",
       "2019-06-01 14:00:16-04:00          48\n",
       "2019-06-01 14:00:17-04:00          32\n",
       "2019-06-01 14:00:18-04:00           3\n",
       "2019-06-01 14:00:30-04:00          30\n",
       "2019-06-01 14:00:31-04:00          33\n",
       "2019-06-01 14:00:32-04:00          33\n",
       "2019-06-01 14:00:33-04:00          59\n",
       "2019-06-01 14:00:34-04:00          45\n",
       "2019-06-01 14:00:35-04:00          59\n",
       "2019-06-01 14:00:36-04:00          59\n",
       "2019-06-01 14:00:37-04:00          59\n",
       "2019-06-01 14:00:38-04:00          33\n",
       "2019-06-01 14:00:39-04:00          59\n",
       "2019-06-01 14:00:40-04:00          37\n",
       "2019-06-01 14:00:51-04:00          30\n",
       "2019-06-01 14:00:52-04:00          59\n",
       "2019-06-01 14:00:53-04:00          59\n",
       "2019-06-01 14:00:54-04:00          12\n",
       "2019-06-01 14:00:55-04:00          33\n",
       "2019-06-01 14:00:56-04:00          33\n",
       "2019-06-01 14:00:57-04:00          33\n",
       "2019-06-01 14:00:58-04:00          33\n",
       "...                               ...\n",
       "2019-06-01 14:59:11-04:00           1\n",
       "2019-06-01 14:59:12-04:00          37\n",
       "2019-06-01 14:59:19-04:00           2\n",
       "2019-06-01 14:59:20-04:00          59\n",
       "2019-06-01 14:59:21-04:00          33\n",
       "2019-06-01 14:59:22-04:00          59\n",
       "2019-06-01 14:59:23-04:00          59\n",
       "2019-06-01 14:59:24-04:00           5\n",
       "2019-06-01 14:59:25-04:00          22\n",
       "2019-06-01 14:59:26-04:00          46\n",
       "2019-06-01 14:59:27-04:00          46\n",
       "2019-06-01 14:59:28-04:00          46\n",
       "2019-06-01 14:59:29-04:00          37\n",
       "2019-06-01 14:59:36-04:00          30\n",
       "2019-06-01 14:59:37-04:00          59\n",
       "2019-06-01 14:59:38-04:00          59\n",
       "2019-06-01 14:59:39-04:00          59\n",
       "2019-06-01 14:59:40-04:00          59\n",
       "2019-06-01 14:59:41-04:00          46\n",
       "2019-06-01 14:59:42-04:00          33\n",
       "2019-06-01 14:59:43-04:00          36\n",
       "2019-06-01 14:59:44-04:00          36\n",
       "2019-06-01 14:59:45-04:00          32\n",
       "2019-06-01 14:59:46-04:00           3\n",
       "2019-06-01 14:59:54-04:00          52\n",
       "2019-06-01 14:59:55-04:00          59\n",
       "2019-06-01 14:59:56-04:00          59\n",
       "2019-06-01 14:59:57-04:00          13\n",
       "2019-06-01 14:59:58-04:00          59\n",
       "2019-06-01 14:59:59-04:00          59\n",
       "\n",
       "[1986 rows x 1 columns]"
      ]
     },
     "execution_count": 476,
     "metadata": {},
     "output_type": "execute_result"
    }
   ],
   "source": [
    "assignments_df = pd.DataFrame(data={'assignment':cluster_assignments}, \\\n",
    "                              index = seconds_b827ebc178d2_timestamps_dt_hour)\n",
    "assignments_df"
   ]
  },
  {
   "cell_type": "code",
   "execution_count": 568,
   "metadata": {},
   "outputs": [],
   "source": [
    "complete_hour = pd.date_range(datetime.datetime(2019, 6, 1, 18), datetime.datetime(2019, 6, 1, 19), periods=3601)\n",
    "seconds_complete_hour = [x.replace(microsecond=0, nanosecond=0) for x in complete_hour]\n",
    "aware_seconds_complete_hour = [pytz.utc.localize(x) for x in seconds_complete_hour]\n",
    "tz_seconds_complete_hour = [x.astimezone(pytz.timezone('US/Eastern')) for x in aware_seconds_complete_hour]"
   ]
  },
  {
   "cell_type": "code",
   "execution_count": 569,
   "metadata": {},
   "outputs": [
    {
     "data": {
      "text/plain": [
       "3601"
      ]
     },
     "execution_count": 569,
     "metadata": {},
     "output_type": "execute_result"
    }
   ],
   "source": [
    "len(tz_seconds_complete_hour)"
   ]
  },
  {
   "cell_type": "markdown",
   "metadata": {},
   "source": [
    "0 is unknown, 1 is truck, 2 is other"
   ]
  },
  {
   "cell_type": "code",
   "execution_count": 584,
   "metadata": {
    "scrolled": false
   },
   "outputs": [],
   "source": [
    "complete_assignments_df_hour = assignments_df.reindex(tz_seconds_complete_hour[:3600], axis='index', fill_value = 0)"
   ]
  },
  {
   "cell_type": "code",
   "execution_count": 585,
   "metadata": {},
   "outputs": [],
   "source": [
    "complete_assignments_df_hour = complete_assignments_df_hour.replace(truck_clusters, 1)\n",
    "complete_assignments_df_hour = complete_assignments_df_hour.replace(range(2,64), 2)"
   ]
  },
  {
   "cell_type": "code",
   "execution_count": 586,
   "metadata": {},
   "outputs": [
    {
     "data": {
      "text/html": [
       "<div>\n",
       "<style scoped>\n",
       "    .dataframe tbody tr th:only-of-type {\n",
       "        vertical-align: middle;\n",
       "    }\n",
       "\n",
       "    .dataframe tbody tr th {\n",
       "        vertical-align: top;\n",
       "    }\n",
       "\n",
       "    .dataframe thead th {\n",
       "        text-align: right;\n",
       "    }\n",
       "</style>\n",
       "<table border=\"1\" class=\"dataframe\">\n",
       "  <thead>\n",
       "    <tr style=\"text-align: right;\">\n",
       "      <th></th>\n",
       "      <th>assignment</th>\n",
       "    </tr>\n",
       "  </thead>\n",
       "  <tbody>\n",
       "    <tr>\n",
       "      <th>2019-06-01 14:59:55-04:00</th>\n",
       "      <td>2</td>\n",
       "    </tr>\n",
       "    <tr>\n",
       "      <th>2019-06-01 14:59:56-04:00</th>\n",
       "      <td>2</td>\n",
       "    </tr>\n",
       "    <tr>\n",
       "      <th>2019-06-01 14:59:57-04:00</th>\n",
       "      <td>2</td>\n",
       "    </tr>\n",
       "    <tr>\n",
       "      <th>2019-06-01 14:59:58-04:00</th>\n",
       "      <td>2</td>\n",
       "    </tr>\n",
       "    <tr>\n",
       "      <th>2019-06-01 14:59:59-04:00</th>\n",
       "      <td>2</td>\n",
       "    </tr>\n",
       "  </tbody>\n",
       "</table>\n",
       "</div>"
      ],
      "text/plain": [
       "                           assignment\n",
       "2019-06-01 14:59:55-04:00           2\n",
       "2019-06-01 14:59:56-04:00           2\n",
       "2019-06-01 14:59:57-04:00           2\n",
       "2019-06-01 14:59:58-04:00           2\n",
       "2019-06-01 14:59:59-04:00           2"
      ]
     },
     "execution_count": 586,
     "metadata": {},
     "output_type": "execute_result"
    }
   ],
   "source": [
    "complete_assignments_df_hour.tail()"
   ]
  },
  {
   "cell_type": "markdown",
   "metadata": {},
   "source": [
    "Trying for a complete dataframe"
   ]
  },
  {
   "cell_type": "code",
   "execution_count": 593,
   "metadata": {},
   "outputs": [],
   "source": [
    "all_cluster_assignments = get_cluster_assignments(64, b827ebc178d2_transformed, projected_45[index])\n",
    "seconds_b827ebc178d2_timestamps_dt = [x.replace(microsecond=0) for x in b827ebc178d2_timestamps_dt]"
   ]
  },
  {
   "cell_type": "code",
   "execution_count": 598,
   "metadata": {},
   "outputs": [
    {
     "data": {
      "text/html": [
       "<div>\n",
       "<style scoped>\n",
       "    .dataframe tbody tr th:only-of-type {\n",
       "        vertical-align: middle;\n",
       "    }\n",
       "\n",
       "    .dataframe tbody tr th {\n",
       "        vertical-align: top;\n",
       "    }\n",
       "\n",
       "    .dataframe thead th {\n",
       "        text-align: right;\n",
       "    }\n",
       "</style>\n",
       "<table border=\"1\" class=\"dataframe\">\n",
       "  <thead>\n",
       "    <tr style=\"text-align: right;\">\n",
       "      <th></th>\n",
       "      <th>assignment</th>\n",
       "    </tr>\n",
       "  </thead>\n",
       "  <tbody>\n",
       "    <tr>\n",
       "      <th>2019-06-01 00:00:16-04:00</th>\n",
       "      <td>2</td>\n",
       "    </tr>\n",
       "    <tr>\n",
       "      <th>2019-06-01 00:00:17-04:00</th>\n",
       "      <td>63</td>\n",
       "    </tr>\n",
       "    <tr>\n",
       "      <th>2019-06-01 00:00:18-04:00</th>\n",
       "      <td>63</td>\n",
       "    </tr>\n",
       "    <tr>\n",
       "      <th>2019-06-01 00:00:19-04:00</th>\n",
       "      <td>63</td>\n",
       "    </tr>\n",
       "    <tr>\n",
       "      <th>2019-06-01 00:00:20-04:00</th>\n",
       "      <td>63</td>\n",
       "    </tr>\n",
       "  </tbody>\n",
       "</table>\n",
       "</div>"
      ],
      "text/plain": [
       "                           assignment\n",
       "2019-06-01 00:00:16-04:00           2\n",
       "2019-06-01 00:00:17-04:00          63\n",
       "2019-06-01 00:00:18-04:00          63\n",
       "2019-06-01 00:00:19-04:00          63\n",
       "2019-06-01 00:00:20-04:00          63"
      ]
     },
     "execution_count": 598,
     "metadata": {},
     "output_type": "execute_result"
    }
   ],
   "source": [
    "assignments_df = pd.DataFrame(data={'assignment':all_cluster_assignments}, \\\n",
    "                              index = seconds_b827ebc178d2_timestamps_dt)\n",
    "assignments_df.head()"
   ]
  },
  {
   "cell_type": "code",
   "execution_count": 780,
   "metadata": {},
   "outputs": [],
   "source": [
    "x1 = pd.DataFrame({'test':np.arange(10)})\n",
    "x2 = pd.DataFrame({'test':np.arange(10,20)})\n",
    "x3 = pd.concat([x1, x2])"
   ]
  },
  {
   "cell_type": "code",
   "execution_count": 783,
   "metadata": {},
   "outputs": [
    {
     "data": {
      "text/plain": [
       "array([False, False, False, False, False, False, False, False, False,\n",
       "       False,  True,  True,  True,  True,  True,  True,  True,  True,\n",
       "        True,  True])"
      ]
     },
     "execution_count": 783,
     "metadata": {},
     "output_type": "execute_result"
    }
   ],
   "source": [
    "x3.index.duplicated()"
   ]
  },
  {
   "cell_type": "code",
   "execution_count": 800,
   "metadata": {},
   "outputs": [
    {
     "data": {
      "text/html": [
       "<div>\n",
       "<style scoped>\n",
       "    .dataframe tbody tr th:only-of-type {\n",
       "        vertical-align: middle;\n",
       "    }\n",
       "\n",
       "    .dataframe tbody tr th {\n",
       "        vertical-align: top;\n",
       "    }\n",
       "\n",
       "    .dataframe thead th {\n",
       "        text-align: right;\n",
       "    }\n",
       "</style>\n",
       "<table border=\"1\" class=\"dataframe\">\n",
       "  <thead>\n",
       "    <tr style=\"text-align: right;\">\n",
       "      <th></th>\n",
       "      <th>assignment</th>\n",
       "    </tr>\n",
       "  </thead>\n",
       "  <tbody>\n",
       "    <tr>\n",
       "      <th>2019-06-12 02:10:12-04:00</th>\n",
       "      <td>37</td>\n",
       "    </tr>\n",
       "    <tr>\n",
       "      <th>2019-06-12 02:10:12-04:00</th>\n",
       "      <td>52</td>\n",
       "    </tr>\n",
       "  </tbody>\n",
       "</table>\n",
       "</div>"
      ],
      "text/plain": [
       "                           assignment\n",
       "2019-06-12 02:10:12-04:00          37\n",
       "2019-06-12 02:10:12-04:00          52"
      ]
     },
     "execution_count": 800,
     "metadata": {},
     "output_type": "execute_result"
    }
   ],
   "source": [
    "assignments_df.loc[assignments_df[assignments_df.index.duplicated()].index[6]]"
   ]
  },
  {
   "cell_type": "code",
   "execution_count": 719,
   "metadata": {},
   "outputs": [
    {
     "data": {
      "text/plain": [
       "1423048"
      ]
     },
     "execution_count": 719,
     "metadata": {},
     "output_type": "execute_result"
    }
   ],
   "source": [
    "len(assignments_df)"
   ]
  },
  {
   "cell_type": "code",
   "execution_count": 601,
   "metadata": {},
   "outputs": [],
   "source": [
    "removed_assignments_df = assignments_df[~assignments_df.index.duplicated()]"
   ]
  },
  {
   "cell_type": "code",
   "execution_count": 604,
   "metadata": {},
   "outputs": [
    {
     "data": {
      "text/plain": [
       "1422967"
      ]
     },
     "execution_count": 604,
     "metadata": {},
     "output_type": "execute_result"
    }
   ],
   "source": [
    "len(removed_assignments_df)"
   ]
  },
  {
   "cell_type": "code",
   "execution_count": 605,
   "metadata": {},
   "outputs": [],
   "source": [
    "complete = pd.date_range(datetime.datetime(2019, 6, 1, 4), datetime.datetime(2019, 7, 1, 4), periods=3600*24*30)\n",
    "seconds_complete = [x.replace(microsecond=0, nanosecond=0) for x in complete]\n",
    "aware_seconds_complete = [pytz.utc.localize(x) for x in seconds_complete]\n",
    "tz_seconds_complete = [x.astimezone(pytz.timezone('US/Eastern')) for x in aware_seconds_complete]"
   ]
  },
  {
   "cell_type": "code",
   "execution_count": 607,
   "metadata": {
    "scrolled": false
   },
   "outputs": [],
   "source": [
    "complete_assignments_df = removed_assignments_df.reindex(tz_seconds_complete, axis='index', fill_value = 0)"
   ]
  },
  {
   "cell_type": "code",
   "execution_count": 608,
   "metadata": {},
   "outputs": [],
   "source": [
    "complete_assignments_df = complete_assignments_df.replace(truck_clusters, 1)\n",
    "complete_assignments_df = complete_assignments_df.replace(range(2,64), 2)"
   ]
  },
  {
   "cell_type": "code",
   "execution_count": 859,
   "metadata": {},
   "outputs": [
    {
     "data": {
      "text/html": [
       "<div>\n",
       "<style scoped>\n",
       "    .dataframe tbody tr th:only-of-type {\n",
       "        vertical-align: middle;\n",
       "    }\n",
       "\n",
       "    .dataframe tbody tr th {\n",
       "        vertical-align: top;\n",
       "    }\n",
       "\n",
       "    .dataframe thead th {\n",
       "        text-align: right;\n",
       "    }\n",
       "</style>\n",
       "<table border=\"1\" class=\"dataframe\">\n",
       "  <thead>\n",
       "    <tr style=\"text-align: right;\">\n",
       "      <th></th>\n",
       "      <th>assignment</th>\n",
       "    </tr>\n",
       "  </thead>\n",
       "  <tbody>\n",
       "    <tr>\n",
       "      <th>2019-06-30 23:59:55-04:00</th>\n",
       "      <td>2</td>\n",
       "    </tr>\n",
       "    <tr>\n",
       "      <th>2019-06-30 23:59:56-04:00</th>\n",
       "      <td>0</td>\n",
       "    </tr>\n",
       "    <tr>\n",
       "      <th>2019-06-30 23:59:57-04:00</th>\n",
       "      <td>0</td>\n",
       "    </tr>\n",
       "    <tr>\n",
       "      <th>2019-06-30 23:59:58-04:00</th>\n",
       "      <td>0</td>\n",
       "    </tr>\n",
       "    <tr>\n",
       "      <th>2019-07-01 00:00:00-04:00</th>\n",
       "      <td>0</td>\n",
       "    </tr>\n",
       "  </tbody>\n",
       "</table>\n",
       "</div>"
      ],
      "text/plain": [
       "                           assignment\n",
       "2019-06-30 23:59:55-04:00           2\n",
       "2019-06-30 23:59:56-04:00           0\n",
       "2019-06-30 23:59:57-04:00           0\n",
       "2019-06-30 23:59:58-04:00           0\n",
       "2019-07-01 00:00:00-04:00           0"
      ]
     },
     "execution_count": 859,
     "metadata": {},
     "output_type": "execute_result"
    }
   ],
   "source": [
    "complete_assignments_df.tail()"
   ]
  },
  {
   "cell_type": "code",
   "execution_count": 610,
   "metadata": {},
   "outputs": [
    {
     "data": {
      "text/plain": [
       "2592000"
      ]
     },
     "execution_count": 610,
     "metadata": {},
     "output_type": "execute_result"
    }
   ],
   "source": [
    "len(complete_assignments_df)"
   ]
  },
  {
   "cell_type": "markdown",
   "metadata": {},
   "source": [
    "# SPL dataframe"
   ]
  },
  {
   "cell_type": "code",
   "execution_count": 460,
   "metadata": {},
   "outputs": [
    {
     "data": {
      "text/html": [
       "<div>\n",
       "<style scoped>\n",
       "    .dataframe tbody tr th:only-of-type {\n",
       "        vertical-align: middle;\n",
       "    }\n",
       "\n",
       "    .dataframe tbody tr th {\n",
       "        vertical-align: top;\n",
       "    }\n",
       "\n",
       "    .dataframe thead th {\n",
       "        text-align: right;\n",
       "    }\n",
       "</style>\n",
       "<table border=\"1\" class=\"dataframe\">\n",
       "  <thead>\n",
       "    <tr style=\"text-align: right;\">\n",
       "      <th></th>\n",
       "      <th>timestamp</th>\n",
       "      <th>dBAS</th>\n",
       "    </tr>\n",
       "  </thead>\n",
       "  <tbody>\n",
       "    <tr>\n",
       "      <th>0</th>\n",
       "      <td>2019-06-01 00:00:42.690000-04:00</td>\n",
       "      <td>63.53</td>\n",
       "    </tr>\n",
       "    <tr>\n",
       "      <th>1</th>\n",
       "      <td>2019-06-01 00:00:43.690000-04:00</td>\n",
       "      <td>63.73</td>\n",
       "    </tr>\n",
       "    <tr>\n",
       "      <th>2</th>\n",
       "      <td>2019-06-01 00:00:44.690000-04:00</td>\n",
       "      <td>64.94</td>\n",
       "    </tr>\n",
       "    <tr>\n",
       "      <th>3</th>\n",
       "      <td>2019-06-01 00:00:45.690000-04:00</td>\n",
       "      <td>63.09</td>\n",
       "    </tr>\n",
       "    <tr>\n",
       "      <th>4</th>\n",
       "      <td>2019-06-01 00:00:46.690000-04:00</td>\n",
       "      <td>61.66</td>\n",
       "    </tr>\n",
       "  </tbody>\n",
       "</table>\n",
       "</div>"
      ],
      "text/plain": [
       "                         timestamp   dBAS\n",
       "0 2019-06-01 00:00:42.690000-04:00  63.53\n",
       "1 2019-06-01 00:00:43.690000-04:00  63.73\n",
       "2 2019-06-01 00:00:44.690000-04:00  64.94\n",
       "3 2019-06-01 00:00:45.690000-04:00  63.09\n",
       "4 2019-06-01 00:00:46.690000-04:00  61.66"
      ]
     },
     "execution_count": 460,
     "metadata": {},
     "output_type": "execute_result"
    }
   ],
   "source": [
    "time_df.head()"
   ]
  },
  {
   "cell_type": "code",
   "execution_count": 482,
   "metadata": {},
   "outputs": [],
   "source": [
    "naive_time_df = [x.replace(tzinfo=None) for x in time_df['timestamp']]"
   ]
  },
  {
   "cell_type": "code",
   "execution_count": 526,
   "metadata": {},
   "outputs": [],
   "source": [
    "complete_hour_mask = get_time_mask(datetime.datetime(2019, 6, 1, 14), \\\n",
    "                                   datetime.datetime(2019, 6, 1, 15), np.asarray(naive_time_df))"
   ]
  },
  {
   "cell_type": "code",
   "execution_count": 527,
   "metadata": {},
   "outputs": [],
   "source": [
    "seconds_complete_hour_timestamp = [x.replace(microsecond=0) for x in time_df['timestamp'][complete_hour_mask]]"
   ]
  },
  {
   "cell_type": "code",
   "execution_count": 528,
   "metadata": {},
   "outputs": [],
   "source": [
    "dBAS_hour = np.asarray(time_df['dBAS'][complete_hour_mask])"
   ]
  },
  {
   "cell_type": "code",
   "execution_count": 529,
   "metadata": {},
   "outputs": [],
   "source": [
    "spl_hour_df = pd.DataFrame(data={'dBAS': dBAS_hour}, index=seconds_complete_hour_timestamp)"
   ]
  },
  {
   "cell_type": "code",
   "execution_count": 530,
   "metadata": {},
   "outputs": [
    {
     "data": {
      "text/html": [
       "<div>\n",
       "<style scoped>\n",
       "    .dataframe tbody tr th:only-of-type {\n",
       "        vertical-align: middle;\n",
       "    }\n",
       "\n",
       "    .dataframe tbody tr th {\n",
       "        vertical-align: top;\n",
       "    }\n",
       "\n",
       "    .dataframe thead th {\n",
       "        text-align: right;\n",
       "    }\n",
       "</style>\n",
       "<table border=\"1\" class=\"dataframe\">\n",
       "  <thead>\n",
       "    <tr style=\"text-align: right;\">\n",
       "      <th></th>\n",
       "      <th>dBAS</th>\n",
       "    </tr>\n",
       "  </thead>\n",
       "  <tbody>\n",
       "    <tr>\n",
       "      <th>2019-06-01 14:59:55-04:00</th>\n",
       "      <td>63.58</td>\n",
       "    </tr>\n",
       "    <tr>\n",
       "      <th>2019-06-01 14:59:56-04:00</th>\n",
       "      <td>65.32</td>\n",
       "    </tr>\n",
       "    <tr>\n",
       "      <th>2019-06-01 14:59:57-04:00</th>\n",
       "      <td>67.63</td>\n",
       "    </tr>\n",
       "    <tr>\n",
       "      <th>2019-06-01 14:59:58-04:00</th>\n",
       "      <td>69.10</td>\n",
       "    </tr>\n",
       "    <tr>\n",
       "      <th>2019-06-01 14:59:59-04:00</th>\n",
       "      <td>71.14</td>\n",
       "    </tr>\n",
       "  </tbody>\n",
       "</table>\n",
       "</div>"
      ],
      "text/plain": [
       "                            dBAS\n",
       "2019-06-01 14:59:55-04:00  63.58\n",
       "2019-06-01 14:59:56-04:00  65.32\n",
       "2019-06-01 14:59:57-04:00  67.63\n",
       "2019-06-01 14:59:58-04:00  69.10\n",
       "2019-06-01 14:59:59-04:00  71.14"
      ]
     },
     "execution_count": 530,
     "metadata": {},
     "output_type": "execute_result"
    }
   ],
   "source": [
    "spl_hour_df.tail()"
   ]
  },
  {
   "cell_type": "markdown",
   "metadata": {},
   "source": [
    "Complete SPL dataframe"
   ]
  },
  {
   "cell_type": "code",
   "execution_count": 611,
   "metadata": {},
   "outputs": [],
   "source": [
    "seconds_complete_timestamp = [x.replace(microsecond=0) for x in time_df['timestamp']]"
   ]
  },
  {
   "cell_type": "code",
   "execution_count": 612,
   "metadata": {},
   "outputs": [],
   "source": [
    "spl_df = pd.DataFrame(data={'dBAS': dBAS_arr}, index=seconds_complete_timestamp)"
   ]
  },
  {
   "cell_type": "code",
   "execution_count": 644,
   "metadata": {},
   "outputs": [
    {
     "data": {
      "text/html": [
       "<div>\n",
       "<style scoped>\n",
       "    .dataframe tbody tr th:only-of-type {\n",
       "        vertical-align: middle;\n",
       "    }\n",
       "\n",
       "    .dataframe tbody tr th {\n",
       "        vertical-align: top;\n",
       "    }\n",
       "\n",
       "    .dataframe thead th {\n",
       "        text-align: right;\n",
       "    }\n",
       "</style>\n",
       "<table border=\"1\" class=\"dataframe\">\n",
       "  <thead>\n",
       "    <tr style=\"text-align: right;\">\n",
       "      <th></th>\n",
       "      <th>dBAS</th>\n",
       "    </tr>\n",
       "  </thead>\n",
       "  <tbody>\n",
       "    <tr>\n",
       "      <th>2019-07-01 00:00:38-04:00</th>\n",
       "      <td>66.04</td>\n",
       "    </tr>\n",
       "    <tr>\n",
       "      <th>2019-07-01 00:00:39-04:00</th>\n",
       "      <td>69.75</td>\n",
       "    </tr>\n",
       "    <tr>\n",
       "      <th>2019-07-01 00:00:40-04:00</th>\n",
       "      <td>68.68</td>\n",
       "    </tr>\n",
       "    <tr>\n",
       "      <th>2019-07-01 00:00:41-04:00</th>\n",
       "      <td>73.17</td>\n",
       "    </tr>\n",
       "    <tr>\n",
       "      <th>2019-07-01 00:00:42-04:00</th>\n",
       "      <td>77.04</td>\n",
       "    </tr>\n",
       "  </tbody>\n",
       "</table>\n",
       "</div>"
      ],
      "text/plain": [
       "                            dBAS\n",
       "2019-07-01 00:00:38-04:00  66.04\n",
       "2019-07-01 00:00:39-04:00  69.75\n",
       "2019-07-01 00:00:40-04:00  68.68\n",
       "2019-07-01 00:00:41-04:00  73.17\n",
       "2019-07-01 00:00:42-04:00  77.04"
      ]
     },
     "execution_count": 644,
     "metadata": {},
     "output_type": "execute_result"
    }
   ],
   "source": [
    "spl_df.tail()"
   ]
  },
  {
   "cell_type": "markdown",
   "metadata": {},
   "source": [
    "# Joining dataframes"
   ]
  },
  {
   "cell_type": "markdown",
   "metadata": {},
   "source": [
    "This dataframe is for the whole month, so if you slice it based on date, it will give you different subsets of information. There is no need to recreate any dataframes."
   ]
  },
  {
   "cell_type": "code",
   "execution_count": 808,
   "metadata": {},
   "outputs": [],
   "source": [
    "all_joined_df = spl_df.join(complete_assignments_df)"
   ]
  },
  {
   "cell_type": "code",
   "execution_count": 818,
   "metadata": {},
   "outputs": [],
   "source": [
    "all_joined_df.loc[pd.isnull(all_joined_df['assignment']), 'assignment'] = 0"
   ]
  },
  {
   "cell_type": "code",
   "execution_count": 819,
   "metadata": {},
   "outputs": [
    {
     "data": {
      "text/html": [
       "<div>\n",
       "<style scoped>\n",
       "    .dataframe tbody tr th:only-of-type {\n",
       "        vertical-align: middle;\n",
       "    }\n",
       "\n",
       "    .dataframe tbody tr th {\n",
       "        vertical-align: top;\n",
       "    }\n",
       "\n",
       "    .dataframe thead th {\n",
       "        text-align: right;\n",
       "    }\n",
       "</style>\n",
       "<table border=\"1\" class=\"dataframe\">\n",
       "  <thead>\n",
       "    <tr style=\"text-align: right;\">\n",
       "      <th></th>\n",
       "      <th>dBAS</th>\n",
       "      <th>assignment</th>\n",
       "    </tr>\n",
       "  </thead>\n",
       "  <tbody>\n",
       "    <tr>\n",
       "      <th>2019-06-30 23:59:03-04:00</th>\n",
       "      <td>60.25</td>\n",
       "      <td>2.0</td>\n",
       "    </tr>\n",
       "    <tr>\n",
       "      <th>2019-06-30 23:59:04-04:00</th>\n",
       "      <td>61.27</td>\n",
       "      <td>2.0</td>\n",
       "    </tr>\n",
       "    <tr>\n",
       "      <th>2019-06-30 23:59:05-04:00</th>\n",
       "      <td>60.68</td>\n",
       "      <td>2.0</td>\n",
       "    </tr>\n",
       "    <tr>\n",
       "      <th>2019-06-30 23:59:06-04:00</th>\n",
       "      <td>61.39</td>\n",
       "      <td>2.0</td>\n",
       "    </tr>\n",
       "    <tr>\n",
       "      <th>2019-06-30 23:59:07-04:00</th>\n",
       "      <td>65.14</td>\n",
       "      <td>1.0</td>\n",
       "    </tr>\n",
       "    <tr>\n",
       "      <th>2019-06-30 23:59:08-04:00</th>\n",
       "      <td>68.70</td>\n",
       "      <td>2.0</td>\n",
       "    </tr>\n",
       "    <tr>\n",
       "      <th>2019-06-30 23:59:09-04:00</th>\n",
       "      <td>67.40</td>\n",
       "      <td>1.0</td>\n",
       "    </tr>\n",
       "    <tr>\n",
       "      <th>2019-06-30 23:59:10-04:00</th>\n",
       "      <td>71.55</td>\n",
       "      <td>2.0</td>\n",
       "    </tr>\n",
       "    <tr>\n",
       "      <th>2019-06-30 23:59:11-04:00</th>\n",
       "      <td>72.03</td>\n",
       "      <td>2.0</td>\n",
       "    </tr>\n",
       "    <tr>\n",
       "      <th>2019-06-30 23:59:12-04:00</th>\n",
       "      <td>70.59</td>\n",
       "      <td>1.0</td>\n",
       "    </tr>\n",
       "    <tr>\n",
       "      <th>2019-06-30 23:59:13-04:00</th>\n",
       "      <td>70.97</td>\n",
       "      <td>2.0</td>\n",
       "    </tr>\n",
       "    <tr>\n",
       "      <th>2019-06-30 23:59:14-04:00</th>\n",
       "      <td>72.01</td>\n",
       "      <td>0.0</td>\n",
       "    </tr>\n",
       "    <tr>\n",
       "      <th>2019-06-30 23:59:15-04:00</th>\n",
       "      <td>68.71</td>\n",
       "      <td>0.0</td>\n",
       "    </tr>\n",
       "    <tr>\n",
       "      <th>2019-06-30 23:59:16-04:00</th>\n",
       "      <td>65.43</td>\n",
       "      <td>0.0</td>\n",
       "    </tr>\n",
       "    <tr>\n",
       "      <th>2019-06-30 23:59:17-04:00</th>\n",
       "      <td>65.02</td>\n",
       "      <td>0.0</td>\n",
       "    </tr>\n",
       "    <tr>\n",
       "      <th>2019-06-30 23:59:18-04:00</th>\n",
       "      <td>66.10</td>\n",
       "      <td>0.0</td>\n",
       "    </tr>\n",
       "    <tr>\n",
       "      <th>2019-06-30 23:59:19-04:00</th>\n",
       "      <td>66.62</td>\n",
       "      <td>0.0</td>\n",
       "    </tr>\n",
       "    <tr>\n",
       "      <th>2019-06-30 23:59:20-04:00</th>\n",
       "      <td>67.76</td>\n",
       "      <td>0.0</td>\n",
       "    </tr>\n",
       "    <tr>\n",
       "      <th>2019-06-30 23:59:21-04:00</th>\n",
       "      <td>67.58</td>\n",
       "      <td>0.0</td>\n",
       "    </tr>\n",
       "    <tr>\n",
       "      <th>2019-06-30 23:59:22-04:00</th>\n",
       "      <td>65.53</td>\n",
       "      <td>0.0</td>\n",
       "    </tr>\n",
       "    <tr>\n",
       "      <th>2019-06-30 23:59:23-04:00</th>\n",
       "      <td>67.11</td>\n",
       "      <td>0.0</td>\n",
       "    </tr>\n",
       "    <tr>\n",
       "      <th>2019-06-30 23:59:24-04:00</th>\n",
       "      <td>67.60</td>\n",
       "      <td>2.0</td>\n",
       "    </tr>\n",
       "    <tr>\n",
       "      <th>2019-06-30 23:59:25-04:00</th>\n",
       "      <td>71.66</td>\n",
       "      <td>2.0</td>\n",
       "    </tr>\n",
       "    <tr>\n",
       "      <th>2019-06-30 23:59:26-04:00</th>\n",
       "      <td>72.00</td>\n",
       "      <td>2.0</td>\n",
       "    </tr>\n",
       "    <tr>\n",
       "      <th>2019-06-30 23:59:27-04:00</th>\n",
       "      <td>66.01</td>\n",
       "      <td>2.0</td>\n",
       "    </tr>\n",
       "    <tr>\n",
       "      <th>2019-06-30 23:59:28-04:00</th>\n",
       "      <td>68.82</td>\n",
       "      <td>2.0</td>\n",
       "    </tr>\n",
       "    <tr>\n",
       "      <th>2019-06-30 23:59:29-04:00</th>\n",
       "      <td>70.31</td>\n",
       "      <td>2.0</td>\n",
       "    </tr>\n",
       "    <tr>\n",
       "      <th>2019-06-30 23:59:30-04:00</th>\n",
       "      <td>73.71</td>\n",
       "      <td>2.0</td>\n",
       "    </tr>\n",
       "    <tr>\n",
       "      <th>2019-06-30 23:59:31-04:00</th>\n",
       "      <td>74.26</td>\n",
       "      <td>2.0</td>\n",
       "    </tr>\n",
       "    <tr>\n",
       "      <th>2019-06-30 23:59:32-04:00</th>\n",
       "      <td>69.70</td>\n",
       "      <td>2.0</td>\n",
       "    </tr>\n",
       "    <tr>\n",
       "      <th>...</th>\n",
       "      <td>...</td>\n",
       "      <td>...</td>\n",
       "    </tr>\n",
       "    <tr>\n",
       "      <th>2019-07-01 00:00:13-04:00</th>\n",
       "      <td>57.45</td>\n",
       "      <td>0.0</td>\n",
       "    </tr>\n",
       "    <tr>\n",
       "      <th>2019-07-01 00:00:14-04:00</th>\n",
       "      <td>57.62</td>\n",
       "      <td>0.0</td>\n",
       "    </tr>\n",
       "    <tr>\n",
       "      <th>2019-07-01 00:00:15-04:00</th>\n",
       "      <td>62.57</td>\n",
       "      <td>0.0</td>\n",
       "    </tr>\n",
       "    <tr>\n",
       "      <th>2019-07-01 00:00:16-04:00</th>\n",
       "      <td>57.19</td>\n",
       "      <td>0.0</td>\n",
       "    </tr>\n",
       "    <tr>\n",
       "      <th>2019-07-01 00:00:17-04:00</th>\n",
       "      <td>58.94</td>\n",
       "      <td>0.0</td>\n",
       "    </tr>\n",
       "    <tr>\n",
       "      <th>2019-07-01 00:00:18-04:00</th>\n",
       "      <td>58.39</td>\n",
       "      <td>0.0</td>\n",
       "    </tr>\n",
       "    <tr>\n",
       "      <th>2019-07-01 00:00:19-04:00</th>\n",
       "      <td>58.75</td>\n",
       "      <td>0.0</td>\n",
       "    </tr>\n",
       "    <tr>\n",
       "      <th>2019-07-01 00:00:20-04:00</th>\n",
       "      <td>57.43</td>\n",
       "      <td>0.0</td>\n",
       "    </tr>\n",
       "    <tr>\n",
       "      <th>2019-07-01 00:00:21-04:00</th>\n",
       "      <td>57.63</td>\n",
       "      <td>0.0</td>\n",
       "    </tr>\n",
       "    <tr>\n",
       "      <th>2019-07-01 00:00:22-04:00</th>\n",
       "      <td>57.31</td>\n",
       "      <td>0.0</td>\n",
       "    </tr>\n",
       "    <tr>\n",
       "      <th>2019-07-01 00:00:23-04:00</th>\n",
       "      <td>58.53</td>\n",
       "      <td>0.0</td>\n",
       "    </tr>\n",
       "    <tr>\n",
       "      <th>2019-07-01 00:00:24-04:00</th>\n",
       "      <td>58.47</td>\n",
       "      <td>0.0</td>\n",
       "    </tr>\n",
       "    <tr>\n",
       "      <th>2019-07-01 00:00:25-04:00</th>\n",
       "      <td>58.35</td>\n",
       "      <td>0.0</td>\n",
       "    </tr>\n",
       "    <tr>\n",
       "      <th>2019-07-01 00:00:26-04:00</th>\n",
       "      <td>60.22</td>\n",
       "      <td>0.0</td>\n",
       "    </tr>\n",
       "    <tr>\n",
       "      <th>2019-07-01 00:00:27-04:00</th>\n",
       "      <td>61.49</td>\n",
       "      <td>0.0</td>\n",
       "    </tr>\n",
       "    <tr>\n",
       "      <th>2019-07-01 00:00:28-04:00</th>\n",
       "      <td>60.91</td>\n",
       "      <td>0.0</td>\n",
       "    </tr>\n",
       "    <tr>\n",
       "      <th>2019-07-01 00:00:29-04:00</th>\n",
       "      <td>60.48</td>\n",
       "      <td>0.0</td>\n",
       "    </tr>\n",
       "    <tr>\n",
       "      <th>2019-07-01 00:00:30-04:00</th>\n",
       "      <td>61.53</td>\n",
       "      <td>0.0</td>\n",
       "    </tr>\n",
       "    <tr>\n",
       "      <th>2019-07-01 00:00:31-04:00</th>\n",
       "      <td>66.96</td>\n",
       "      <td>0.0</td>\n",
       "    </tr>\n",
       "    <tr>\n",
       "      <th>2019-07-01 00:00:32-04:00</th>\n",
       "      <td>62.67</td>\n",
       "      <td>0.0</td>\n",
       "    </tr>\n",
       "    <tr>\n",
       "      <th>2019-07-01 00:00:33-04:00</th>\n",
       "      <td>61.86</td>\n",
       "      <td>0.0</td>\n",
       "    </tr>\n",
       "    <tr>\n",
       "      <th>2019-07-01 00:00:34-04:00</th>\n",
       "      <td>63.10</td>\n",
       "      <td>0.0</td>\n",
       "    </tr>\n",
       "    <tr>\n",
       "      <th>2019-07-01 00:00:35-04:00</th>\n",
       "      <td>63.21</td>\n",
       "      <td>0.0</td>\n",
       "    </tr>\n",
       "    <tr>\n",
       "      <th>2019-07-01 00:00:36-04:00</th>\n",
       "      <td>64.39</td>\n",
       "      <td>0.0</td>\n",
       "    </tr>\n",
       "    <tr>\n",
       "      <th>2019-07-01 00:00:37-04:00</th>\n",
       "      <td>64.47</td>\n",
       "      <td>0.0</td>\n",
       "    </tr>\n",
       "    <tr>\n",
       "      <th>2019-07-01 00:00:38-04:00</th>\n",
       "      <td>66.04</td>\n",
       "      <td>0.0</td>\n",
       "    </tr>\n",
       "    <tr>\n",
       "      <th>2019-07-01 00:00:39-04:00</th>\n",
       "      <td>69.75</td>\n",
       "      <td>0.0</td>\n",
       "    </tr>\n",
       "    <tr>\n",
       "      <th>2019-07-01 00:00:40-04:00</th>\n",
       "      <td>68.68</td>\n",
       "      <td>0.0</td>\n",
       "    </tr>\n",
       "    <tr>\n",
       "      <th>2019-07-01 00:00:41-04:00</th>\n",
       "      <td>73.17</td>\n",
       "      <td>0.0</td>\n",
       "    </tr>\n",
       "    <tr>\n",
       "      <th>2019-07-01 00:00:42-04:00</th>\n",
       "      <td>77.04</td>\n",
       "      <td>0.0</td>\n",
       "    </tr>\n",
       "  </tbody>\n",
       "</table>\n",
       "<p>100 rows × 2 columns</p>\n",
       "</div>"
      ],
      "text/plain": [
       "                            dBAS  assignment\n",
       "2019-06-30 23:59:03-04:00  60.25         2.0\n",
       "2019-06-30 23:59:04-04:00  61.27         2.0\n",
       "2019-06-30 23:59:05-04:00  60.68         2.0\n",
       "2019-06-30 23:59:06-04:00  61.39         2.0\n",
       "2019-06-30 23:59:07-04:00  65.14         1.0\n",
       "2019-06-30 23:59:08-04:00  68.70         2.0\n",
       "2019-06-30 23:59:09-04:00  67.40         1.0\n",
       "2019-06-30 23:59:10-04:00  71.55         2.0\n",
       "2019-06-30 23:59:11-04:00  72.03         2.0\n",
       "2019-06-30 23:59:12-04:00  70.59         1.0\n",
       "2019-06-30 23:59:13-04:00  70.97         2.0\n",
       "2019-06-30 23:59:14-04:00  72.01         0.0\n",
       "2019-06-30 23:59:15-04:00  68.71         0.0\n",
       "2019-06-30 23:59:16-04:00  65.43         0.0\n",
       "2019-06-30 23:59:17-04:00  65.02         0.0\n",
       "2019-06-30 23:59:18-04:00  66.10         0.0\n",
       "2019-06-30 23:59:19-04:00  66.62         0.0\n",
       "2019-06-30 23:59:20-04:00  67.76         0.0\n",
       "2019-06-30 23:59:21-04:00  67.58         0.0\n",
       "2019-06-30 23:59:22-04:00  65.53         0.0\n",
       "2019-06-30 23:59:23-04:00  67.11         0.0\n",
       "2019-06-30 23:59:24-04:00  67.60         2.0\n",
       "2019-06-30 23:59:25-04:00  71.66         2.0\n",
       "2019-06-30 23:59:26-04:00  72.00         2.0\n",
       "2019-06-30 23:59:27-04:00  66.01         2.0\n",
       "2019-06-30 23:59:28-04:00  68.82         2.0\n",
       "2019-06-30 23:59:29-04:00  70.31         2.0\n",
       "2019-06-30 23:59:30-04:00  73.71         2.0\n",
       "2019-06-30 23:59:31-04:00  74.26         2.0\n",
       "2019-06-30 23:59:32-04:00  69.70         2.0\n",
       "...                          ...         ...\n",
       "2019-07-01 00:00:13-04:00  57.45         0.0\n",
       "2019-07-01 00:00:14-04:00  57.62         0.0\n",
       "2019-07-01 00:00:15-04:00  62.57         0.0\n",
       "2019-07-01 00:00:16-04:00  57.19         0.0\n",
       "2019-07-01 00:00:17-04:00  58.94         0.0\n",
       "2019-07-01 00:00:18-04:00  58.39         0.0\n",
       "2019-07-01 00:00:19-04:00  58.75         0.0\n",
       "2019-07-01 00:00:20-04:00  57.43         0.0\n",
       "2019-07-01 00:00:21-04:00  57.63         0.0\n",
       "2019-07-01 00:00:22-04:00  57.31         0.0\n",
       "2019-07-01 00:00:23-04:00  58.53         0.0\n",
       "2019-07-01 00:00:24-04:00  58.47         0.0\n",
       "2019-07-01 00:00:25-04:00  58.35         0.0\n",
       "2019-07-01 00:00:26-04:00  60.22         0.0\n",
       "2019-07-01 00:00:27-04:00  61.49         0.0\n",
       "2019-07-01 00:00:28-04:00  60.91         0.0\n",
       "2019-07-01 00:00:29-04:00  60.48         0.0\n",
       "2019-07-01 00:00:30-04:00  61.53         0.0\n",
       "2019-07-01 00:00:31-04:00  66.96         0.0\n",
       "2019-07-01 00:00:32-04:00  62.67         0.0\n",
       "2019-07-01 00:00:33-04:00  61.86         0.0\n",
       "2019-07-01 00:00:34-04:00  63.10         0.0\n",
       "2019-07-01 00:00:35-04:00  63.21         0.0\n",
       "2019-07-01 00:00:36-04:00  64.39         0.0\n",
       "2019-07-01 00:00:37-04:00  64.47         0.0\n",
       "2019-07-01 00:00:38-04:00  66.04         0.0\n",
       "2019-07-01 00:00:39-04:00  69.75         0.0\n",
       "2019-07-01 00:00:40-04:00  68.68         0.0\n",
       "2019-07-01 00:00:41-04:00  73.17         0.0\n",
       "2019-07-01 00:00:42-04:00  77.04         0.0\n",
       "\n",
       "[100 rows x 2 columns]"
      ]
     },
     "execution_count": 819,
     "metadata": {},
     "output_type": "execute_result"
    }
   ],
   "source": [
    "all_joined_df.tail(100)"
   ]
  },
  {
   "cell_type": "code",
   "execution_count": 860,
   "metadata": {},
   "outputs": [],
   "source": [
    "all_joined_df_cut = all_joined_df[:-42]"
   ]
  },
  {
   "cell_type": "code",
   "execution_count": 861,
   "metadata": {},
   "outputs": [
    {
     "data": {
      "text/html": [
       "<div>\n",
       "<style scoped>\n",
       "    .dataframe tbody tr th:only-of-type {\n",
       "        vertical-align: middle;\n",
       "    }\n",
       "\n",
       "    .dataframe tbody tr th {\n",
       "        vertical-align: top;\n",
       "    }\n",
       "\n",
       "    .dataframe thead th {\n",
       "        text-align: right;\n",
       "    }\n",
       "</style>\n",
       "<table border=\"1\" class=\"dataframe\">\n",
       "  <thead>\n",
       "    <tr style=\"text-align: right;\">\n",
       "      <th></th>\n",
       "      <th>dBAS</th>\n",
       "      <th>assignment</th>\n",
       "    </tr>\n",
       "  </thead>\n",
       "  <tbody>\n",
       "    <tr>\n",
       "      <th>2019-06-30 23:59:56-04:00</th>\n",
       "      <td>60.74</td>\n",
       "      <td>0.0</td>\n",
       "    </tr>\n",
       "    <tr>\n",
       "      <th>2019-06-30 23:59:57-04:00</th>\n",
       "      <td>59.08</td>\n",
       "      <td>0.0</td>\n",
       "    </tr>\n",
       "    <tr>\n",
       "      <th>2019-06-30 23:59:58-04:00</th>\n",
       "      <td>58.32</td>\n",
       "      <td>0.0</td>\n",
       "    </tr>\n",
       "    <tr>\n",
       "      <th>2019-06-30 23:59:59-04:00</th>\n",
       "      <td>59.30</td>\n",
       "      <td>0.0</td>\n",
       "    </tr>\n",
       "    <tr>\n",
       "      <th>2019-07-01 00:00:00-04:00</th>\n",
       "      <td>59.43</td>\n",
       "      <td>0.0</td>\n",
       "    </tr>\n",
       "  </tbody>\n",
       "</table>\n",
       "</div>"
      ],
      "text/plain": [
       "                            dBAS  assignment\n",
       "2019-06-30 23:59:56-04:00  60.74         0.0\n",
       "2019-06-30 23:59:57-04:00  59.08         0.0\n",
       "2019-06-30 23:59:58-04:00  58.32         0.0\n",
       "2019-06-30 23:59:59-04:00  59.30         0.0\n",
       "2019-07-01 00:00:00-04:00  59.43         0.0"
      ]
     },
     "execution_count": 861,
     "metadata": {},
     "output_type": "execute_result"
    }
   ],
   "source": [
    "all_joined_df_cut.tail()"
   ]
  },
  {
   "cell_type": "code",
   "execution_count": 704,
   "metadata": {},
   "outputs": [],
   "source": [
    "hour_joined_df = complete_assignments_df_hour.join(spl_hour_df)"
   ]
  },
  {
   "cell_type": "code",
   "execution_count": 705,
   "metadata": {},
   "outputs": [
    {
     "data": {
      "text/html": [
       "<div>\n",
       "<style scoped>\n",
       "    .dataframe tbody tr th:only-of-type {\n",
       "        vertical-align: middle;\n",
       "    }\n",
       "\n",
       "    .dataframe tbody tr th {\n",
       "        vertical-align: top;\n",
       "    }\n",
       "\n",
       "    .dataframe thead th {\n",
       "        text-align: right;\n",
       "    }\n",
       "</style>\n",
       "<table border=\"1\" class=\"dataframe\">\n",
       "  <thead>\n",
       "    <tr style=\"text-align: right;\">\n",
       "      <th></th>\n",
       "      <th>assignment</th>\n",
       "      <th>dBAS</th>\n",
       "    </tr>\n",
       "  </thead>\n",
       "  <tbody>\n",
       "    <tr>\n",
       "      <th>2019-06-01 14:00:00-04:00</th>\n",
       "      <td>0</td>\n",
       "      <td>58.68</td>\n",
       "    </tr>\n",
       "    <tr>\n",
       "      <th>2019-06-01 14:00:01-04:00</th>\n",
       "      <td>0</td>\n",
       "      <td>58.77</td>\n",
       "    </tr>\n",
       "    <tr>\n",
       "      <th>2019-06-01 14:00:02-04:00</th>\n",
       "      <td>0</td>\n",
       "      <td>59.14</td>\n",
       "    </tr>\n",
       "    <tr>\n",
       "      <th>2019-06-01 14:00:03-04:00</th>\n",
       "      <td>0</td>\n",
       "      <td>57.87</td>\n",
       "    </tr>\n",
       "    <tr>\n",
       "      <th>2019-06-01 14:00:04-04:00</th>\n",
       "      <td>0</td>\n",
       "      <td>58.71</td>\n",
       "    </tr>\n",
       "  </tbody>\n",
       "</table>\n",
       "</div>"
      ],
      "text/plain": [
       "                           assignment   dBAS\n",
       "2019-06-01 14:00:00-04:00           0  58.68\n",
       "2019-06-01 14:00:01-04:00           0  58.77\n",
       "2019-06-01 14:00:02-04:00           0  59.14\n",
       "2019-06-01 14:00:03-04:00           0  57.87\n",
       "2019-06-01 14:00:04-04:00           0  58.71"
      ]
     },
     "execution_count": 705,
     "metadata": {},
     "output_type": "execute_result"
    }
   ],
   "source": [
    "hour_joined_df.head()"
   ]
  },
  {
   "cell_type": "code",
   "execution_count": 864,
   "metadata": {},
   "outputs": [],
   "source": [
    "am_joined_df = all_joined_df_cut['2019-06-01 08:00:00-04:00':'2019-06-01 20:00:00-04:00']"
   ]
  },
  {
   "cell_type": "code",
   "execution_count": 866,
   "metadata": {},
   "outputs": [
    {
     "data": {
      "text/html": [
       "<div>\n",
       "<style scoped>\n",
       "    .dataframe tbody tr th:only-of-type {\n",
       "        vertical-align: middle;\n",
       "    }\n",
       "\n",
       "    .dataframe tbody tr th {\n",
       "        vertical-align: top;\n",
       "    }\n",
       "\n",
       "    .dataframe thead th {\n",
       "        text-align: right;\n",
       "    }\n",
       "</style>\n",
       "<table border=\"1\" class=\"dataframe\">\n",
       "  <thead>\n",
       "    <tr style=\"text-align: right;\">\n",
       "      <th></th>\n",
       "      <th>dBAS</th>\n",
       "      <th>assignment</th>\n",
       "    </tr>\n",
       "  </thead>\n",
       "  <tbody>\n",
       "    <tr>\n",
       "      <th>2019-06-01 19:59:56-04:00</th>\n",
       "      <td>65.82</td>\n",
       "      <td>1.0</td>\n",
       "    </tr>\n",
       "    <tr>\n",
       "      <th>2019-06-01 19:59:57-04:00</th>\n",
       "      <td>62.40</td>\n",
       "      <td>2.0</td>\n",
       "    </tr>\n",
       "    <tr>\n",
       "      <th>2019-06-01 19:59:58-04:00</th>\n",
       "      <td>63.28</td>\n",
       "      <td>2.0</td>\n",
       "    </tr>\n",
       "    <tr>\n",
       "      <th>2019-06-01 19:59:59-04:00</th>\n",
       "      <td>62.96</td>\n",
       "      <td>2.0</td>\n",
       "    </tr>\n",
       "    <tr>\n",
       "      <th>2019-06-01 20:00:00-04:00</th>\n",
       "      <td>63.38</td>\n",
       "      <td>0.0</td>\n",
       "    </tr>\n",
       "  </tbody>\n",
       "</table>\n",
       "</div>"
      ],
      "text/plain": [
       "                            dBAS  assignment\n",
       "2019-06-01 19:59:56-04:00  65.82         1.0\n",
       "2019-06-01 19:59:57-04:00  62.40         2.0\n",
       "2019-06-01 19:59:58-04:00  63.28         2.0\n",
       "2019-06-01 19:59:59-04:00  62.96         2.0\n",
       "2019-06-01 20:00:00-04:00  63.38         0.0"
      ]
     },
     "execution_count": 866,
     "metadata": {},
     "output_type": "execute_result"
    }
   ],
   "source": [
    "am_joined_df.tail()"
   ]
  },
  {
   "cell_type": "code",
   "execution_count": 665,
   "metadata": {},
   "outputs": [],
   "source": [
    "import scipy.signal\n",
    "import scipy.ndimage"
   ]
  },
  {
   "cell_type": "code",
   "execution_count": 671,
   "metadata": {},
   "outputs": [
    {
     "data": {
      "text/plain": [
       "[<matplotlib.lines.Line2D at 0x7fbff2da74e0>]"
      ]
     },
     "execution_count": 671,
     "metadata": {},
     "output_type": "execute_result"
    },
    {
     "data": {
      "image/png": "[encoded data removed]",
      "text/plain": [
       "<Figure size 1080x360 with 1 Axes>"
      ]
     },
     "metadata": {
      "needs_background": "light"
     },
     "output_type": "display_data"
    }
   ],
   "source": [
    "ds_factor = 1\n",
    "plt.figure(figsize=(15,5))\n",
    "#plt.plot(hour_joined_df['dBAS'].values[::ds_factor], color='b')\n",
    "#plt.plot(scipy.signal.medfilt(hour_joined_df['dBAS'].values[::10], 61), color='g')\n",
    "plt.plot(scipy.signal.medfilt(hour_joined_df['dBAS'].values[::ds_factor], 15), color='g')\n",
    "#plt.plot(scipy.ndimage.maximum_filter(hour_joined_df['dBAS'].values[::ds_factor], 15), color='r')"
   ]
  },
  {
   "cell_type": "code",
   "execution_count": null,
   "metadata": {},
   "outputs": [],
   "source": []
  },
  {
   "cell_type": "markdown",
   "metadata": {},
   "source": [
    "# Plotting SPL over all weekdays"
   ]
  },
  {
   "cell_type": "code",
   "execution_count": 643,
   "metadata": {
    "scrolled": true
   },
   "outputs": [
    {
     "data": {
      "image/png": "[encoded data removed]",
      "text/plain": [
       "<Figure size 1440x360 with 1 Axes>"
      ]
     },
     "metadata": {
      "needs_background": "light"
     },
     "output_type": "display_data"
    }
   ],
   "source": [
    "plt.figure(figsize=(20,5))\n",
    "plt.plot(spl_df[:int(len(spl_df)/4)])\n",
    "plt.show()"
   ]
  },
  {
   "cell_type": "code",
   "execution_count": 637,
   "metadata": {
    "scrolled": true
   },
   "outputs": [
    {
     "data": {
      "image/png": "[encoded data removed]",
      "text/plain": [
       "<Figure size 1440x360 with 1 Axes>"
      ]
     },
     "metadata": {
      "needs_background": "light"
     },
     "output_type": "display_data"
    }
   ],
   "source": [
    "plt.figure(figsize=(20,5))\n",
    "plt.plot(spl_df[int(len(spl_df)/4):2*int(len(spl_df)/4)])\n",
    "plt.show()"
   ]
  },
  {
   "cell_type": "code",
   "execution_count": 638,
   "metadata": {},
   "outputs": [
    {
     "data": {
      "image/png": "[encoded data removed]",
      "text/plain": [
       "<Figure size 1440x360 with 1 Axes>"
      ]
     },
     "metadata": {
      "needs_background": "light"
     },
     "output_type": "display_data"
    }
   ],
   "source": [
    "plt.figure(figsize=(20,5))\n",
    "plt.plot(spl_df[2*int(len(spl_df)/4):3*int(len(spl_df)/4)])\n",
    "plt.show()"
   ]
  },
  {
   "cell_type": "code",
   "execution_count": 639,
   "metadata": {},
   "outputs": [
    {
     "data": {
      "image/png": "[encoded data removed]",
      "text/plain": [
       "<Figure size 1440x360 with 1 Axes>"
      ]
     },
     "metadata": {
      "needs_background": "light"
     },
     "output_type": "display_data"
    }
   ],
   "source": [
    "plt.figure(figsize=(20,5))\n",
    "plt.plot(spl_df[3*int(len(spl_df)/4):4*int(len(spl_df)/4)])\n",
    "plt.show()"
   ]
  },
  {
   "cell_type": "markdown",
   "metadata": {},
   "source": [
    "# Plotting truck activity differently"
   ]
  },
  {
   "cell_type": "code",
   "execution_count": 863,
   "metadata": {},
   "outputs": [
    {
     "name": "stderr",
     "output_type": "stream",
     "text": [
      "/home/cusp/meh708/.conda/envs/redhook_analysis_storage/lib/python3.7/site-packages/librosa/util/utils.py:993: RuntimeWarning: invalid value encountered in greater_equal\n",
      "  detections = detections * (detections >= (mov_avg + delta))\n"
     ]
    },
    {
     "data": {
      "text/plain": [
       "2019-06-01 14:00:10-04:00    67.52\n",
       "2019-06-01 14:00:34-04:00    73.28\n",
       "2019-06-01 14:00:46-04:00    74.40\n",
       "2019-06-01 14:01:36-04:00    70.60\n",
       "2019-06-01 14:01:49-04:00    73.49\n",
       "2019-06-01 14:02:05-04:00    71.84\n",
       "2019-06-01 14:02:19-04:00    71.32\n",
       "2019-06-01 14:02:30-04:00    70.72\n",
       "2019-06-01 14:02:41-04:00    74.25\n",
       "2019-06-01 14:03:06-04:00    59.06\n",
       "2019-06-01 14:03:31-04:00    69.65\n",
       "2019-06-01 14:03:41-04:00    72.33\n",
       "2019-06-01 14:03:56-04:00    73.11\n",
       "2019-06-01 14:04:05-04:00    72.29\n",
       "2019-06-01 14:04:21-04:00    69.57\n",
       "2019-06-01 14:04:33-04:00    71.57\n",
       "2019-06-01 14:04:48-04:00    75.23\n",
       "2019-06-01 14:04:58-04:00    73.07\n",
       "2019-06-01 14:05:16-04:00    73.31\n",
       "2019-06-01 14:05:25-04:00    72.08\n",
       "2019-06-01 14:05:33-04:00    70.47\n",
       "2019-06-01 14:05:53-04:00    71.93\n",
       "2019-06-01 14:06:05-04:00    73.41\n",
       "2019-06-01 14:06:21-04:00    83.78\n",
       "2019-06-01 14:06:39-04:00    76.30\n",
       "2019-06-01 14:07:01-04:00    73.93\n",
       "2019-06-01 14:07:29-04:00    78.68\n",
       "2019-06-01 14:07:50-04:00    69.99\n",
       "2019-06-01 14:08:00-04:00    71.96\n",
       "2019-06-01 14:08:21-04:00    73.72\n",
       "                             ...  \n",
       "2019-06-01 14:46:06-04:00    62.57\n",
       "2019-06-01 14:46:32-04:00    72.70\n",
       "2019-06-01 14:46:46-04:00    72.04\n",
       "2019-06-01 14:46:54-04:00    71.71\n",
       "2019-06-01 14:47:11-04:00    71.41\n",
       "2019-06-01 14:47:23-04:00    72.79\n",
       "2019-06-01 14:47:33-04:00    72.04\n",
       "2019-06-01 14:48:18-04:00    73.03\n",
       "2019-06-01 14:48:41-04:00    72.25\n",
       "2019-06-01 14:48:57-04:00    79.54\n",
       "2019-06-01 14:49:21-04:00    69.22\n",
       "2019-06-01 14:49:31-04:00    73.19\n",
       "2019-06-01 14:50:10-04:00    76.65\n",
       "2019-06-01 14:50:23-04:00    76.19\n",
       "2019-06-01 14:50:33-04:00    75.06\n",
       "2019-06-01 14:51:07-04:00    73.93\n",
       "2019-06-01 14:51:23-04:00    74.87\n",
       "2019-06-01 14:51:39-04:00    75.54\n",
       "2019-06-01 14:51:47-04:00    74.50\n",
       "2019-06-01 14:52:00-04:00    73.98\n",
       "2019-06-01 14:52:23-04:00    70.02\n",
       "2019-06-01 14:52:39-04:00    73.53\n",
       "2019-06-01 14:52:50-04:00    75.25\n",
       "2019-06-01 14:52:58-04:00    76.10\n",
       "2019-06-01 14:53:11-04:00    72.65\n",
       "2019-06-01 14:53:29-04:00    69.92\n",
       "2019-06-01 14:54:12-04:00    78.16\n",
       "2019-06-01 14:54:25-04:00    82.84\n",
       "2019-06-01 14:54:34-04:00      NaN\n",
       "2019-06-01 14:59:59-04:00    71.14\n",
       "Name: dBAS, Length: 183, dtype: float64"
      ]
     },
     "execution_count": 863,
     "metadata": {},
     "output_type": "execute_result"
    }
   ],
   "source": [
    "hour_joined_df['dBAS'][librosa.util.peak_pick(hour_joined_df['dBAS'].values, 7, 7, 7, 7, 0.2, 3)]"
   ]
  },
  {
   "cell_type": "code",
   "execution_count": 709,
   "metadata": {},
   "outputs": [],
   "source": [
    "truck_hour_df = hour_joined_df.loc[hour_joined_df['assignment']==1]"
   ]
  },
  {
   "cell_type": "code",
   "execution_count": 1118,
   "metadata": {},
   "outputs": [],
   "source": [
    "test_lib = librosa.util.peak_pick(truck_hour_df['dBAS'], 3, 3, 3, 3, 0, 0)"
   ]
  },
  {
   "cell_type": "code",
   "execution_count": 1119,
   "metadata": {},
   "outputs": [
    {
     "data": {
      "text/plain": [
       "array([  0,   4,   8,  12,  17,  23,  36,  41,  44,  53,  57,  61,  65,\n",
       "        68,  74,  86,  95, 104, 111, 116, 130, 136, 141, 145, 152, 158,\n",
       "       163, 169, 173, 176, 181, 184, 203, 209, 215, 222])"
      ]
     },
     "execution_count": 1119,
     "metadata": {},
     "output_type": "execute_result"
    }
   ],
   "source": [
    "test_lib"
   ]
  },
  {
   "cell_type": "code",
   "execution_count": 1183,
   "metadata": {},
   "outputs": [
    {
     "data": {
      "text/plain": [
       "0     2019-06-01 14:00:40-04:00\n",
       "4     2019-06-01 14:02:19-04:00\n",
       "8     2019-06-01 14:04:56-04:00\n",
       "12    2019-06-01 14:06:30-04:00\n",
       "17    2019-06-01 14:08:47-04:00\n",
       "23    2019-06-01 14:10:06-04:00\n",
       "36    2019-06-01 14:15:31-04:00\n",
       "41    2019-06-01 14:16:47-04:00\n",
       "44    2019-06-01 14:18:15-04:00\n",
       "53    2019-06-01 14:20:10-04:00\n",
       "57    2019-06-01 14:21:07-04:00\n",
       "61    2019-06-01 14:23:31-04:00\n",
       "65    2019-06-01 14:25:03-04:00\n",
       "68    2019-06-01 14:26:24-04:00\n",
       "74    2019-06-01 14:27:29-04:00\n",
       "86    2019-06-01 14:31:52-04:00\n",
       "95    2019-06-01 14:32:53-04:00\n",
       "104   2019-06-01 14:33:26-04:00\n",
       "111   2019-06-01 14:34:49-04:00\n",
       "116   2019-06-01 14:35:29-04:00\n",
       "130   2019-06-01 14:37:32-04:00\n",
       "136   2019-06-01 14:38:50-04:00\n",
       "141   2019-06-01 14:39:51-04:00\n",
       "145   2019-06-01 14:41:13-04:00\n",
       "152   2019-06-01 14:44:04-04:00\n",
       "158   2019-06-01 14:45:24-04:00\n",
       "163   2019-06-01 14:46:45-04:00\n",
       "169   2019-06-01 14:48:10-04:00\n",
       "173   2019-06-01 14:48:48-04:00\n",
       "176   2019-06-01 14:49:30-04:00\n",
       "181   2019-06-01 14:50:29-04:00\n",
       "184   2019-06-01 14:51:39-04:00\n",
       "203   2019-06-01 14:54:43-04:00\n",
       "209   2019-06-01 14:56:38-04:00\n",
       "215   2019-06-01 14:58:31-04:00\n",
       "222   2019-06-01 14:59:29-04:00\n",
       "Name: index, dtype: datetime64[ns, US/Eastern]"
      ]
     },
     "execution_count": 1183,
     "metadata": {},
     "output_type": "execute_result"
    }
   ],
   "source": [
    "truck_hour_df.reset_index()['index'].loc[test_lib]"
   ]
  },
  {
   "cell_type": "code",
   "execution_count": 850,
   "metadata": {},
   "outputs": [
    {
     "data": {
      "text/html": [
       "<div>\n",
       "<style scoped>\n",
       "    .dataframe tbody tr th:only-of-type {\n",
       "        vertical-align: middle;\n",
       "    }\n",
       "\n",
       "    .dataframe tbody tr th {\n",
       "        vertical-align: top;\n",
       "    }\n",
       "\n",
       "    .dataframe thead th {\n",
       "        text-align: right;\n",
       "    }\n",
       "</style>\n",
       "<table border=\"1\" class=\"dataframe\">\n",
       "  <thead>\n",
       "    <tr style=\"text-align: right;\">\n",
       "      <th></th>\n",
       "      <th>assignment</th>\n",
       "      <th>dBAS</th>\n",
       "    </tr>\n",
       "  </thead>\n",
       "  <tbody>\n",
       "    <tr>\n",
       "      <th>2019-06-01 14:00:00-04:00</th>\n",
       "      <td>0</td>\n",
       "      <td>58.68</td>\n",
       "    </tr>\n",
       "    <tr>\n",
       "      <th>2019-06-01 14:00:01-04:00</th>\n",
       "      <td>0</td>\n",
       "      <td>58.77</td>\n",
       "    </tr>\n",
       "  </tbody>\n",
       "</table>\n",
       "</div>"
      ],
      "text/plain": [
       "                           assignment   dBAS\n",
       "2019-06-01 14:00:00-04:00           0  58.68\n",
       "2019-06-01 14:00:01-04:00           0  58.77"
      ]
     },
     "execution_count": 850,
     "metadata": {},
     "output_type": "execute_result"
    }
   ],
   "source": [
    "hour_joined_df[hour_joined_df.index[0]:hour_joined_df.index[1]]"
   ]
  },
  {
   "cell_type": "code",
   "execution_count": 1281,
   "metadata": {},
   "outputs": [],
   "source": [
    "def plot_truck_clusters_scatter(joined_df, peak_window_size, smoothing_window_size, ds_factor, smoothing):\n",
    "    \"\"\"\n",
    "    Plots the SPL over time with visual cues indicating the presence of trucks over time for one sensor.\n",
    "    \n",
    "    Parameters\n",
    "    ----------\n",
    "    joined_df : dataframe\n",
    "        A dataframe containing timestamps, a column for cluster assignments, and dBAS values.\n",
    "    \n",
    "    peak_window_size : int\n",
    "        Parameter for peak picking\n",
    "        \n",
    "    ds_factor : int\n",
    "        Downsample factor for getting the median\n",
    "    \"\"\"\n",
    "    y_vals = []\n",
    "    joined_df_reset_index = joined_df.reset_index()\n",
    "#     sliced_trucks_df = sliced_joined_df.loc[sliced_joined_df['assignment']==1]\n",
    "#     sliced_other_df = sliced_joined_df.loc[sliced_joined_df['assignment']==2]\n",
    "    \n",
    "    #maybe make a mask for the max SPL that takes timestamps for peaks, then apply it to truck clusters?\n",
    "    #Peaks for all SPL values\n",
    "    window = int((peak_window_size-1)/2)\n",
    "    spl_peaks = librosa.util.peak_pick(joined_df['dBAS'], window, window, window, window, 3, 0)\n",
    "#     print('number of spl peaks: ' + str(len(sliced_spl_peaks)))\n",
    "    spl_peaks_arr = joined_df_reset_index.loc[spl_peaks]\n",
    "    dBAS_peaks = joined_df['dBAS'][spl_peaks]\n",
    "    timestamp_peaks = joined_df_reset_index['index'][spl_peaks]\n",
    "#     sliced_assignment_peaks = sliced_joined_df['assignment'][sliced_spl_peaks]\n",
    "#     print(sliced_spl_peaks_arr)\n",
    "    #Peaks for SPL values corresponding to trucks\n",
    "#     sliced_truck_spl_peaks = librosa.util.peak_pick(sliced_trucks_df['dBAS'], \\\n",
    "#                                                     window, window, window, window, window, 0)\n",
    "#     print('number of truck peaks: ' + str(len(sliced_truck_spl_peaks)))\n",
    "#     sliced_truck_spl_peaks = sliced_spl_peaks_arr.loc[sliced_spl_peaks_arr['assignment']==1]\n",
    "#     print('truck_spl_peaks: ')\n",
    "#     print(sliced_truck_spl_peaks)\n",
    "#     sliced_trucks_df_reset_index = sliced_trucks_df.reset_index()\n",
    "   \n",
    "    truck_timestamp_peaks = spl_peaks_arr['index'].loc[spl_peaks_arr['assignment']==1]\n",
    "    print(truck_timestamp_peaks)\n",
    "    truck_dBAS_peaks = spl_peaks_arr['dBAS'].loc[spl_peaks_arr['assignment']==1]\n",
    "    print(truck_dBAS_peaks)\n",
    "    \n",
    "    \n",
    "    #Peaks for SPL values corresponding to other clusters\n",
    "#     sliced_other_spl_peaks = librosa.util.peak_pick(sliced_other_df['dBAS'], \\\n",
    "#                                                     window, window, window, window, window, 0)\n",
    "    other_dBAS_peaks = spl_peaks_arr.loc[spl_peaks_arr['assignment']==2]['dBAS']\n",
    "#     print(sliced_other_dBAS_peaks)\n",
    "#     sliced_other_df_reset_index = sliced_other_df.reset_index()\n",
    "    other_timestamp_peaks = spl_peaks_arr.loc[spl_peaks_arr['assignment']==2]['index']\n",
    "    \n",
    "    fig, ax1 = plt.subplots()  \n",
    "    color = 'b'\n",
    "    \n",
    "    ax1.set_xlabel('time')\n",
    "    ax1.set_ylabel('SPL', color=color)\n",
    "        \n",
    "    #Plot all SPL peaks\n",
    "#     ax1.scatter(sliced_timestamp_peaks, sliced_dBAS_peaks, color='b', alpha=0.7)\n",
    "    #Plot dot over max SPL value when that value corresponds to a trucking instance\n",
    "    ax1.scatter(truck_timestamp_peaks, truck_dBAS_peaks, color='r', s=20)\n",
    "    ax1.tick_params(axis='y', labelcolor=color)\n",
    "    \n",
    "    #Plot SPL peaks corresponding to other clusters\n",
    "    ax1.scatter(other_timestamp_peaks, other_dBAS_peaks, color='tab:gray', s=20)\n",
    "#     ax1.plot(sliced_joined_df_reset_index['index'], sliced_joined_df['dBAS'])\n",
    "    ax1.set_xlim([joined_df_reset_index['index'].iloc[0], joined_df_reset_index['index'].iloc[-1]])\n",
    "    \n",
    "    if smoothing == 'median':\n",
    "        medfit = scipy.signal.medfilt(joined_df['dBAS'].values, smoothing_window_size)[::ds_factor]\n",
    "        ax1.plot(joined_df.iloc[::ds_factor].reset_index()['index'], medfit, color='g')\n",
    "        max_y = medfit\n",
    "    elif smoothing == 'mean':\n",
    "        mean_filter = scipy.ndimage.convolve(joined_df['dBAS'].values, \n",
    "                                             np.ones(smoothing_window_size) / smoothing_window_size)[::ds_factor]\n",
    "        ax1.plot(joined_df.iloc[::ds_factor].reset_index()['index'], mean_filter, color='g')\n",
    "        max_y = mean_filter        \n",
    "    elif smoothing == 'gaussian':\n",
    "        gaussian_filter = scipy.ndimage.filters.gaussian_filter(joined_df['dBAS'].values, smoothing_window_size)[::ds_factor]\n",
    "        ax1.plot(joined_df.iloc[::ds_factor].reset_index()['index'], gaussian_filter, color='g')\n",
    "        max_y = gaussian_filter\n",
    "    else:\n",
    "        raise Exception('Unknown smoothing type')\n",
    "    \n",
    "    print(len(joined_df.iloc[::ds_factor]))\n",
    "    #Plot regions corresponding to trucks\n",
    "    ax1.fill_between(x=joined_df.iloc[::ds_factor].reset_index()['index'], \\\n",
    "                     y1=len(joined_df.iloc[::ds_factor]['dBAS'])*[joined_df['dBAS'].min()], \\\n",
    "                     y2=max_y, \\\n",
    "                     where=joined_df.iloc[::ds_factor].reset_index()['assignment']==1, \\\n",
    "                     color='r', alpha=0.5)\n",
    "    \n",
    "    #Plot regions corresponding to other clusters\n",
    "    ax1.fill_between(x=joined_df.iloc[::ds_factor].reset_index()['index'], \\\n",
    "                     y1=len(joined_df.iloc[::ds_factor]['dBAS'])*[joined_df['dBAS'].min()], \\\n",
    "                     y2=max_y, where=joined_df.iloc[::ds_factor].reset_index()['assignment']==2, \\\n",
    "                     color='tab:gray', alpha=0.5)\n",
    "    \n",
    "    ax1.set_ylim(joined_df['dBAS'].min())\n",
    "    fig.set_size_inches(18.5, 10.5)\n",
    "    fig.tight_layout()\n",
    "    fig.show()"
   ]
  },
  {
   "cell_type": "code",
   "execution_count": 1282,
   "metadata": {
    "scrolled": false
   },
   "outputs": [],
   "source": [
    "# plot_truck_clusters_scatter(hour_joined_df, hour_joined_df.index[0], hour_joined_df.index[-1], 7, 11, 1, 'gaussian')"
   ]
  },
  {
   "cell_type": "code",
   "execution_count": 1283,
   "metadata": {},
   "outputs": [],
   "source": [
    "# all_joined_df_cut['2019-06-03 14:00:00-04:00':'2019-06-03 14:30:00-04:00'].iloc[::15].reset_index()['index']"
   ]
  },
  {
   "cell_type": "code",
   "execution_count": 1285,
   "metadata": {},
   "outputs": [
    {
     "name": "stdout",
     "output_type": "stream",
     "text": [
      "254    2019-06-03 14:04:14-04:00\n",
      "300    2019-06-03 14:05:00-04:00\n",
      "594    2019-06-03 14:09:54-04:00\n",
      "674    2019-06-03 14:11:14-04:00\n",
      "1099   2019-06-03 14:18:19-04:00\n",
      "1112   2019-06-03 14:18:32-04:00\n",
      "1210   2019-06-03 14:20:10-04:00\n",
      "1331   2019-06-03 14:22:11-04:00\n",
      "1393   2019-06-03 14:23:13-04:00\n",
      "1676   2019-06-03 14:27:56-04:00\n",
      "Name: index, dtype: datetime64[ns, US/Eastern]\n",
      "254     76.49\n",
      "300     75.38\n",
      "594     75.07\n",
      "674     71.32\n",
      "1099    81.94\n",
      "1112    82.32\n",
      "1210    80.68\n",
      "1331    80.15\n",
      "1393    81.72\n",
      "1676    80.73\n",
      "Name: dBAS, dtype: float64\n",
      "121\n"
     ]
    },
    {
     "data": {
      "image/png": "[encoded data removed]",
      "text/plain": [
       "<Figure size 1332x756 with 1 Axes>"
      ]
     },
     "metadata": {
      "needs_background": "light"
     },
     "output_type": "display_data"
    }
   ],
   "source": [
    "plot_truck_clusters_scatter(all_joined_df_cut['2019-06-03 14:00:00-04:00':'2019-06-03 14:30:00-04:00'], \\\n",
    "                            7, 11, 15, 'mean')"
   ]
  },
  {
   "cell_type": "code",
   "execution_count": 1224,
   "metadata": {},
   "outputs": [
    {
     "name": "stdout",
     "output_type": "stream",
     "text": [
      "118   2019-06-03 14:41:58-04:00\n",
      "Name: index, dtype: datetime64[ns, US/Eastern]\n",
      "118    80.55\n",
      "Name: dBAS, dtype: float64\n"
     ]
    },
    {
     "data": {
      "image/png": "[encoded data removed]",
      "text/plain": [
       "<Figure size 1332x756 with 1 Axes>"
      ]
     },
     "metadata": {
      "needs_background": "light"
     },
     "output_type": "display_data"
    }
   ],
   "source": [
    "plot_truck_clusters_scatter(all_joined_df_cut['2019-06-03 14:40:00-04:00':'2019-06-03 14:50:00-04:00'], \\\n",
    "                            7, 0.5, 1, 'gaussian')"
   ]
  },
  {
   "cell_type": "markdown",
   "metadata": {},
   "source": []
  }
 ],
 "metadata": {
  "kernelspec": {
   "display_name": "Clustering_1",
   "language": "python",
   "name": "clustering_1"
  },
  "language_info": {
   "codemirror_mode": {
    "name": "ipython",
    "version": 3
   },
   "file_extension": ".py",
   "mimetype": "text/x-python",
   "name": "python",
   "nbconvert_exporter": "python",
   "pygments_lexer": "ipython3",
   "version": "3.7.3"
  }
 },
 "nbformat": 4,
 "nbformat_minor": 2
}
