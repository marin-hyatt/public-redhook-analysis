{
 "cells": [
  {
   "cell_type": "markdown",
   "metadata": {},
   "source": [
    "# Main Analysis of Truck Data\n",
    "This notebook contains functions to graph SPL and its correlation to truck sounds (as determined by clustering)."
   ]
  },
  {
   "cell_type": "markdown",
   "metadata": {},
   "source": [
    "Import statements"
   ]
  },
  {
   "cell_type": "code",
   "execution_count": 62,
   "metadata": {},
   "outputs": [],
   "source": [
    "import numpy as np\n",
    "import pandas as pd\n",
    "import matplotlib\n",
    "import matplotlib.pyplot as plt\n",
    "from sklearn.cluster import KMeans\n",
    "from sklearn.cluster import MiniBatchKMeans\n",
    "from sklearn.preprocessing import PolynomialFeatures\n",
    "import datetime \n",
    "from datetime import timedelta\n",
    "import pytz\n",
    "from pytz import timezone\n",
    "import tarfile\n",
    "from numpy import load\n",
    "import os\n",
    "from sklearn.manifold import TSNE\n",
    "import h5py\n",
    "from sklearn.decomposition import PCA as sklearnPCA\n",
    "from sklearn import metrics\n",
    "from sklearn.metrics import pairwise_distances\n",
    "from sklearn import datasets\n",
    "from sklearn.metrics import davies_bouldin_score\n",
    "from sklearn.cluster import DBSCAN\n",
    "from sklearn.cluster import Birch\n",
    "import scipy\n",
    "from scipy import spatial\n",
    "from scipy import stats\n",
    "import pylab\n",
    "from pandas.plotting import register_matplotlib_converters\n",
    "register_matplotlib_converters()\n",
    "import librosa\n",
    "from scipy import signal\n",
    "from scipy import ndimage\n",
    "import matplotlib.dates as md\n",
    "import sys"
   ]
  },
  {
   "cell_type": "markdown",
   "metadata": {},
   "source": [
    "Loading the hdf5 files"
   ]
  },
  {
   "cell_type": "code",
   "execution_count": 64,
   "metadata": {},
   "outputs": [],
   "source": [
    "h5 = h5py.File('data/sound_data_improved.hdf5', 'r')"
   ]
  },
  {
   "cell_type": "code",
   "execution_count": 65,
   "metadata": {},
   "outputs": [],
   "source": [
    "d = h5['sound_data']"
   ]
  },
  {
   "cell_type": "markdown",
   "metadata": {},
   "source": [
    "# Creating subsample of 10000 points from all four sensors"
   ]
  },
  {
   "cell_type": "code",
   "execution_count": 5,
   "metadata": {},
   "outputs": [],
   "source": [
    "sample_nums = np.random.choice(range(d.shape[0]), 10000, replace = False)"
   ]
  },
  {
   "cell_type": "code",
   "execution_count": 6,
   "metadata": {},
   "outputs": [],
   "source": [
    "index = np.zeros(d.shape[0]).astype('bool')\n",
    "index[sample_nums] = True"
   ]
  },
  {
   "cell_type": "markdown",
   "metadata": {},
   "source": [
    "# Reading and graphing data from one sensor"
   ]
  },
  {
   "cell_type": "markdown",
   "metadata": {},
   "source": [
    "Reading June data from one of the sensors"
   ]
  },
  {
   "cell_type": "code",
   "execution_count": 7,
   "metadata": {
    "scrolled": true
   },
   "outputs": [
    {
     "data": {
      "text/html": [
       "<div>\n",
       "<style scoped>\n",
       "    .dataframe tbody tr th:only-of-type {\n",
       "        vertical-align: middle;\n",
       "    }\n",
       "\n",
       "    .dataframe tbody tr th {\n",
       "        vertical-align: top;\n",
       "    }\n",
       "\n",
       "    .dataframe thead th {\n",
       "        text-align: right;\n",
       "    }\n",
       "</style>\n",
       "<table border=\"1\" class=\"dataframe\">\n",
       "  <thead>\n",
       "    <tr style=\"text-align: right;\">\n",
       "      <th></th>\n",
       "      <th>timestamp</th>\n",
       "      <th>dBAS</th>\n",
       "    </tr>\n",
       "  </thead>\n",
       "  <tbody>\n",
       "    <tr>\n",
       "      <th>0</th>\n",
       "      <td>1.559362e+09</td>\n",
       "      <td>63.53</td>\n",
       "    </tr>\n",
       "    <tr>\n",
       "      <th>1</th>\n",
       "      <td>1.559362e+09</td>\n",
       "      <td>63.73</td>\n",
       "    </tr>\n",
       "    <tr>\n",
       "      <th>2</th>\n",
       "      <td>1.559362e+09</td>\n",
       "      <td>64.94</td>\n",
       "    </tr>\n",
       "    <tr>\n",
       "      <th>3</th>\n",
       "      <td>1.559362e+09</td>\n",
       "      <td>63.09</td>\n",
       "    </tr>\n",
       "    <tr>\n",
       "      <th>4</th>\n",
       "      <td>1.559362e+09</td>\n",
       "      <td>61.66</td>\n",
       "    </tr>\n",
       "  </tbody>\n",
       "</table>\n",
       "</div>"
      ],
      "text/plain": [
       "      timestamp   dBAS\n",
       "0  1.559362e+09  63.53\n",
       "1  1.559362e+09  63.73\n",
       "2  1.559362e+09  64.94\n",
       "3  1.559362e+09  63.09\n",
       "4  1.559362e+09  61.66"
      ]
     },
     "execution_count": 7,
     "metadata": {},
     "output_type": "execute_result"
    }
   ],
   "source": [
    "df = pd.read_csv(\"sonycnode-b827ebc178d2.sonyc.csv\", skiprows = 2, low_memory = False)\n",
    "df.head()"
   ]
  },
  {
   "cell_type": "markdown",
   "metadata": {},
   "source": [
    "Creating two numpy array with the timestamps for June and the corresponding SPL values for June"
   ]
  },
  {
   "cell_type": "code",
   "execution_count": 8,
   "metadata": {},
   "outputs": [],
   "source": [
    "time_arr = np.empty(df.shape[0], dtype = datetime.datetime)\n",
    "timestamp_arr = df['timestamp'].values\n",
    "dBAS_arr = df['dBAS'].values"
   ]
  },
  {
   "cell_type": "markdown",
   "metadata": {},
   "source": [
    "A function to convert the UNIX timestamps to datetime objects for easier interpretation "
   ]
  },
  {
   "cell_type": "code",
   "execution_count": 9,
   "metadata": {},
   "outputs": [],
   "source": [
    "def convert_timestamps(sensor_timestamp):\n",
    "    \"\"\"\n",
    "    Converts a float timestamp to a datetime object.\n",
    "    \n",
    "    Parameters\n",
    "    ----------\n",
    "    sensor_timestamp : float\n",
    "        A timestamp in float form.\n",
    "        \n",
    "    Returns\n",
    "    -------\n",
    "    dt : datetime object\n",
    "       Datetime object corresponding to the same time as the float timestamp.\n",
    "    \"\"\"\n",
    "    j = sensor_timestamp\n",
    "    dt = datetime.datetime.utcfromtimestamp(j)\n",
    "    dt = pytz.UTC.localize(dt)\n",
    "    dt = dt.astimezone(pytz.timezone('US/Eastern'))\n",
    "    return dt"
   ]
  },
  {
   "cell_type": "markdown",
   "metadata": {},
   "source": [
    "Converting the UNIX timestamps to datetime format using above function"
   ]
  },
  {
   "cell_type": "code",
   "execution_count": 10,
   "metadata": {},
   "outputs": [],
   "source": [
    "time_arr = [convert_timestamps(x) for x in timestamp_arr]"
   ]
  },
  {
   "cell_type": "markdown",
   "metadata": {},
   "source": [
    "Creating a new dataframe with timestamps in datetime format"
   ]
  },
  {
   "cell_type": "code",
   "execution_count": 11,
   "metadata": {},
   "outputs": [
    {
     "data": {
      "text/html": [
       "<div>\n",
       "<style scoped>\n",
       "    .dataframe tbody tr th:only-of-type {\n",
       "        vertical-align: middle;\n",
       "    }\n",
       "\n",
       "    .dataframe tbody tr th {\n",
       "        vertical-align: top;\n",
       "    }\n",
       "\n",
       "    .dataframe thead th {\n",
       "        text-align: right;\n",
       "    }\n",
       "</style>\n",
       "<table border=\"1\" class=\"dataframe\">\n",
       "  <thead>\n",
       "    <tr style=\"text-align: right;\">\n",
       "      <th></th>\n",
       "      <th>timestamp</th>\n",
       "      <th>dBAS</th>\n",
       "    </tr>\n",
       "  </thead>\n",
       "  <tbody>\n",
       "    <tr>\n",
       "      <th>2589895</th>\n",
       "      <td>2019-07-01 00:00:38.810000-04:00</td>\n",
       "      <td>66.04</td>\n",
       "    </tr>\n",
       "    <tr>\n",
       "      <th>2589896</th>\n",
       "      <td>2019-07-01 00:00:39.810000-04:00</td>\n",
       "      <td>69.75</td>\n",
       "    </tr>\n",
       "    <tr>\n",
       "      <th>2589897</th>\n",
       "      <td>2019-07-01 00:00:40.810000-04:00</td>\n",
       "      <td>68.68</td>\n",
       "    </tr>\n",
       "    <tr>\n",
       "      <th>2589898</th>\n",
       "      <td>2019-07-01 00:00:41.810000-04:00</td>\n",
       "      <td>73.17</td>\n",
       "    </tr>\n",
       "    <tr>\n",
       "      <th>2589899</th>\n",
       "      <td>2019-07-01 00:00:42.810000-04:00</td>\n",
       "      <td>77.04</td>\n",
       "    </tr>\n",
       "  </tbody>\n",
       "</table>\n",
       "</div>"
      ],
      "text/plain": [
       "                               timestamp   dBAS\n",
       "2589895 2019-07-01 00:00:38.810000-04:00  66.04\n",
       "2589896 2019-07-01 00:00:39.810000-04:00  69.75\n",
       "2589897 2019-07-01 00:00:40.810000-04:00  68.68\n",
       "2589898 2019-07-01 00:00:41.810000-04:00  73.17\n",
       "2589899 2019-07-01 00:00:42.810000-04:00  77.04"
      ]
     },
     "execution_count": 11,
     "metadata": {},
     "output_type": "execute_result"
    }
   ],
   "source": [
    "time_df = df\n",
    "time_df['timestamp'] = time_arr\n",
    "time_df.tail()"
   ]
  },
  {
   "cell_type": "markdown",
   "metadata": {},
   "source": [
    "# Clustering on 45 dimensions"
   ]
  },
  {
   "cell_type": "markdown",
   "metadata": {},
   "source": [
    "Running PCA on the embeddings in order to reduce dimensionality to 45"
   ]
  },
  {
   "cell_type": "code",
   "execution_count": 12,
   "metadata": {},
   "outputs": [],
   "source": [
    "pca_45 = sklearnPCA(45)\n",
    "projected_45 = pca_45.fit_transform(d['feature_vector'])"
   ]
  },
  {
   "cell_type": "markdown",
   "metadata": {},
   "source": [
    "Function to get a boolean mask to filter data to only get data from a certain sensor"
   ]
  },
  {
   "cell_type": "code",
   "execution_count": 13,
   "metadata": {},
   "outputs": [],
   "source": [
    "def get_sensor_mask(sensor_name, target_arr):\n",
    "    \"\"\"\n",
    "    Returns a mask to apply on an array of data from different sensors. The mask filters out the data from one sensor.\n",
    "    \n",
    "    Parameters\n",
    "    ----------\n",
    "    sensor_name : String\n",
    "        The name of the sensor to retrieve the data for, should take the form of b'sonycnode-[name].sonyc'\n",
    "    \n",
    "    target_arr : array of Strings\n",
    "        Array containing the names of all the sensors.\n",
    "        \n",
    "    Returns\n",
    "    -------\n",
    "    sensor_mask : boolean array\n",
    "        A boolean array of the same shape as target_arr, with True values corresponding to the indices containing the\n",
    "        sensor_name.\n",
    "    \"\"\"\n",
    "    sensor_mask = (target_arr == sensor_name)\n",
    "    return sensor_mask"
   ]
  },
  {
   "cell_type": "markdown",
   "metadata": {},
   "source": [
    "Function to get a boolean mask to filter data to only get data between two times"
   ]
  },
  {
   "cell_type": "code",
   "execution_count": 14,
   "metadata": {},
   "outputs": [],
   "source": [
    "def get_time_mask(beginning, end, time_arr):\n",
    "    \"\"\"\n",
    "    Returns a boolean mask to apply to a datetime array, with the goal of returning times between a beginning and \n",
    "    end time, including the beginning time but excluding the end time. \n",
    "    \n",
    "    Parameters\n",
    "    ----------\n",
    "    beginning : datetime.datetime\n",
    "        The beginning time to use for the mask.\n",
    "        \n",
    "    end : datetime.datetime\n",
    "        The end time to use for the mask.\n",
    "        \n",
    "    time_arr : np array\n",
    "        A numpy array of naive datetime objects. The mask will be applied to this array.\n",
    "        \n",
    "    Returns\n",
    "    -------\n",
    "    interval_mask : boolean array\n",
    "        A boolean array to use as a mask on time_arr.\n",
    "    \"\"\"\n",
    "    interval_mask = (time_arr >= beginning) & (time_arr < end)\n",
    "    return interval_mask"
   ]
  },
  {
   "cell_type": "markdown",
   "metadata": {},
   "source": [
    "Function to get cluter assignments for each embedding"
   ]
  },
  {
   "cell_type": "code",
   "execution_count": 15,
   "metadata": {},
   "outputs": [],
   "source": [
    "def get_cluster_assignments(num_clusters, sensor_transformed, fit_arr):\n",
    "    \"\"\"\n",
    "    Returns an array containing the number of each cluster each data point in sensor_transformed is assigned to.\n",
    "    Clustering is performed using MiniBatchKMeans.\n",
    "    \n",
    "    Parameters\n",
    "    ----------\n",
    "    num_clusters : int\n",
    "        The number of clusters to group sensor_transformed into.\n",
    "        \n",
    "    sensor_transformed : array of floats\n",
    "        45-dimensional array of feature vectors from one sensor \n",
    "        \n",
    "    fit_arr : array of floats\n",
    "        45-dimensional array of feature vectors from all sensors\n",
    "        \n",
    "    Returns\n",
    "    -------\n",
    "    cluster_indices : int array\n",
    "        An array with the index of the cluster that each data point belongs to.\n",
    "        \n",
    "    \"\"\"\n",
    "    mbk = MiniBatchKMeans(n_clusters=num_clusters, random_state=0)\n",
    "    mbk.fit(fit_arr)\n",
    "    cluster_indices = mbk.predict(sensor_transformed)\n",
    "    return cluster_indices"
   ]
  },
  {
   "cell_type": "markdown",
   "metadata": {},
   "source": [
    "Function to return the number of hours since the beginning of a month from a timestamp"
   ]
  },
  {
   "cell_type": "code",
   "execution_count": 16,
   "metadata": {},
   "outputs": [],
   "source": [
    "def convert_to_hour(sensor_timestamp):\n",
    "    \"\"\"\n",
    "    Returns the number of hours since the beginning of the month of a timestamp in Unix format. For example, \n",
    "    if the timestamp converts to 9:00 am on June 2nd, 57 (e.g. 48 + 9) would be returned.\n",
    "    \n",
    "    Parameters\n",
    "    ----------\n",
    "    sensor_timestamp : float\n",
    "        A Unix timestamp.\n",
    "        \n",
    "    Returns\n",
    "    -------\n",
    "   total_hour : int\n",
    "        The number of hours since the beginning of the month of the recording date. \n",
    "    \"\"\"\n",
    "    j = sensor_timestamp[i]\n",
    "    dt = datetime.datetime.utcfromtimestamp(j)\n",
    "    dt = pytz.UTC.localize(dt)\n",
    "    day = dt.astimezone(pytz.timezone('US/Eastern')).day\n",
    "    hour = dt.astimezone(pytz.timezone('US/Eastern')).hour\n",
    "    total_hour = 24*(day-1) + hour\n",
    "    return total_hour"
   ]
  },
  {
   "cell_type": "code",
   "execution_count": 54,
   "metadata": {},
   "outputs": [],
   "source": [
    "def get_y_and_bins(num_clusters, sensor_transformed, fit_arr, sensor_timestamps_dt, default_bins, clusters_plot_arr):\n",
    "    \"\"\"\n",
    "    Returns y values and bin values for a histogram of data. Used to determine the bin values for plotting the \n",
    "    histogram.\n",
    "    \n",
    "    Parameters\n",
    "    ----------\n",
    "    num_clusters : int\n",
    "        The number of clusters to assign the data to.\n",
    "        \n",
    "    sensor_transformed : 45-dimensional array of floats\n",
    "        An array taken from projected_45 with only the feature vectors corresponding to one sensor.\n",
    "        \n",
    "    fit_arr : array of floats\n",
    "        45-dimensional array of feature vectors from all sensors\n",
    "        \n",
    "    sensor_timestamps_dt : datetime array\n",
    "        Numpy array with dtype=datetime.datetime, containing day values for each data point gathered for a specified\n",
    "        sensor.\n",
    "        \n",
    "    default_bins : int\n",
    "        Number of bins to group the data into at first.\n",
    "        \n",
    "    clusters_plot_arr : int array\n",
    "        The list of cluster indices to plot.\n",
    "        \n",
    "    Returns\n",
    "    -------\n",
    "    y : float array\n",
    "        Array of y values for the histogram\n",
    "        \n",
    "    bins : float array\n",
    "        Array of bin values, to input in the actual histogram plot so it accurately reflects units of time (e.g. days)\n",
    "        \n",
    "    \"\"\"\n",
    "    \n",
    "    test = get_cluster_assignments(num_clusters, sensor_transformed, fit_arr)\n",
    "\n",
    "    cluster_mask = np.nonzero(test==clusters_plot_arr[0]) #boolean mask for specific cluster number\n",
    "        \n",
    "    #Makes array of all timestamps where cluster assignment occurred\n",
    "    timestamp_arr = np.asarray(sensor_timestamps_dt)[cluster_mask]\n",
    "        \n",
    "    #Get y values, bins\n",
    "    y, bins, _ = plt.hist(timestamp_arr, bins=default_bins)\n",
    "    \n",
    "    return y, bins"
   ]
  },
  {
   "cell_type": "markdown",
   "metadata": {},
   "source": [
    "Function to plot a histogram of the frequency of cluster assignments over time."
   ]
  },
  {
   "cell_type": "code",
   "execution_count": 18,
   "metadata": {},
   "outputs": [],
   "source": [
    "def plot_clusters(num_clusters, sensor_transformed, fit_arr, sensor_timestamps_dt, spl_time, spl_dBAS_mean, \\\n",
    "                  spl_dBAS_max, spl_dBAS_median, num_bins, clusters_plot_arr):\n",
    "    \"\"\"\n",
    "    Plots a histogram of the frequency of cluster assignments over time for one sensor.\n",
    "    \n",
    "    Parameters\n",
    "    ----------\n",
    "    num_clusters : int\n",
    "        The number of clusters to assign the data to.\n",
    "        \n",
    "    sensor_transformed : 45-dimensional array of floats\n",
    "        An array taken from projected_45 with only the feature vectors corresponding to one sensor.\n",
    "        \n",
    "    fit_arr : array of floats\n",
    "        45-dimensional array of feature vectors from all sensors\n",
    "        \n",
    "    sensor_timestamps_dt : datetime array\n",
    "        Numpy array with dtype=datetime.datetime, containing day values for each data point gathered for a specified\n",
    "        sensor.\n",
    "        \n",
    "    spl_time : datetime array\n",
    "        Array of datetime objects corresponding to the SPL values.\n",
    "        \n",
    "    spl_dBAS_mean : array of floats\n",
    "        Array of SPL values corresponding to spl_time, averaged over each minute.\n",
    "        \n",
    "    spl_dBAS_max : array of floats\n",
    "        Array of SPL values corresponding to spl_time, consisting of the maximum value from each minute.\n",
    "        \n",
    "    spl_dBAS_median : array of floats\n",
    "        Array of SPL values corresponding to spl_time, consisting of the median value from each minute.\n",
    "    \n",
    "    num_bins : int\n",
    "        The number of bins to group the cluster frequency into.\n",
    "        \n",
    "    bin_arr : array of floats\n",
    "        Array of bin edges to group the cluster frequency into.\n",
    "        \n",
    "    clusters_plot_arr : arr of ints within the range(0, num_clusters)\n",
    "        The indices of the clusters to plot.\n",
    "    \"\"\"\n",
    "    \n",
    "    #Setting the figure size, layout\n",
    "    fig = plt.figure(figsize=(15,100), dpi=60)\n",
    "    subplot_idx = 1\n",
    "    y_vals = [] #array of all y values, used to get ylim for graph\n",
    "\n",
    "    test = get_cluster_assignments(num_clusters, sensor_transformed, fit_arr)\n",
    "\n",
    "    for cluster_num in clusters_plot_arr:\n",
    "        cluster_mask = np.nonzero(test==cluster_num) #boolean mask for specific cluster number\n",
    "        \n",
    "        #If there are no instances of this cluster in the cluster assignments, don't graph\n",
    "        if(np.sum(cluster_mask) == 0):\n",
    "            continue\n",
    "        \n",
    "        \n",
    "        #Makes array of all timestamps where cluster assignment occurred\n",
    "        timestamp_arr = np.asarray(sensor_timestamps_dt)[cluster_mask]\n",
    "        \n",
    "        ax1 = fig.add_subplot(num_clusters, 1, subplot_idx)  \n",
    "        color = 'tab:red'\n",
    "        ax1.set_xlabel('time')\n",
    "        ax1.set_ylabel('cluster ' + str(cluster_num), color=color)\n",
    "    \n",
    "        #Get y values, bins\n",
    "        if(cluster_num == clusters_plot_arr[0]):\n",
    "            y, bins, _ = ax1.hist(timestamp_arr, bins=num_bins, color=color)\n",
    "\n",
    "        ax1.hist(timestamp_arr, bins=bins, color=color)\n",
    "        y_vals.append(y.max())\n",
    "        ax1.tick_params(axis='y', labelcolor=color)\n",
    "\n",
    "        ax2 = ax1.twinx()  # instantiate a second axes that shares the same x-axis\n",
    "\n",
    "        color = 'tab:blue'\n",
    "        ax2.set_ylabel('dBAS', color=color)  # we already handled the x-label with ax1\n",
    "        ax2.plot(spl_time, spl_dBAS_mean, color=color)\n",
    "        ax2.plot(spl_time, spl_dBAS_max, color='black')\n",
    "        ax2.plot(spl_time, spl_dBAS_median, color='green')\n",
    "        ax2.tick_params(axis='y', labelcolor=color)\n",
    "\n",
    "        subplot_idx += 1 \n",
    "        ax1.set_ylim([0,max(y_vals)])\n",
    "    \n",
    "    plt.tight_layout()\n",
    "    plt.show()\n",
    "    return bins"
   ]
  },
  {
   "cell_type": "code",
   "execution_count": 19,
   "metadata": {},
   "outputs": [],
   "source": [
    "def plot_truck_clusters(num_clusters, sensor_transformed, fit_arr, sensor_timestamps_dt, spl_time, spl_dBAS_mean, \\\n",
    "                  spl_dBAS_max, spl_dBAS_median, y_vals, bin_arr, clusters_plot_arr):\n",
    "    \"\"\"\n",
    "    Plots a histogram of the frequency of cluster assignments over time for one sensor.\n",
    "    \n",
    "    Parameters\n",
    "    ----------\n",
    "    num_clusters : int\n",
    "        The number of clusters to assign the data to.\n",
    "        \n",
    "    sensor_transformed : 45-dimensional array of floats\n",
    "        An array taken from projected_45 with only the feature vectors corresponding to one sensor.\n",
    "        \n",
    "    fit_arr : array of floats\n",
    "        45-dimensional array of feature vectors from all sensors\n",
    "        \n",
    "    sensor_timestamps_dt : datetime array\n",
    "        Numpy array with dtype=datetime.datetime, containing day values for each data point gathered for a specified\n",
    "        sensor.\n",
    "        \n",
    "    spl_time : datetime array\n",
    "        Array of datetime objects corresponding to the SPL values.\n",
    "        \n",
    "    spl_dBAS_mean : array of floats\n",
    "        Array of SPL values corresponding to spl_time, averaged over each minute.\n",
    "        \n",
    "    spl_dBAS_max : array of floats\n",
    "        Array of SPL values corresponding to spl_time, consisting of the maximum value from each minute.\n",
    "        \n",
    "    spl_dBAS_median : array of floats\n",
    "        Array of SPL values corresponding to spl_time, consisting of the median value from each minute.\n",
    "        \n",
    "    y_vals : array of floats\n",
    "        array of y values used to calculate the ylim.\n",
    "        \n",
    "    bin_arr : array of floats\n",
    "        Array of bin edges to group the cluster frequency into.\n",
    "        \n",
    "    clusters_plot_arr : arr of ints within the range(0, num_clusters)\n",
    "        The indices of the clusters to plot.\n",
    "    \"\"\"\n",
    "    test = get_cluster_assignments(num_clusters, sensor_transformed, fit_arr)\n",
    "    \n",
    "    total_timestamp_arr = []\n",
    "    y_maxes = [y_vals.max()] #list of all maxes of y values for each cluster number\n",
    "    for cluster_num in clusters_plot_arr:\n",
    "        cluster_mask = np.nonzero(test==cluster_num)\n",
    "        \n",
    "        if(np.sum(cluster_mask) == 0):\n",
    "            continue\n",
    "            \n",
    "        timestamp_arr = np.asarray(sensor_timestamps_dt)[cluster_mask]\n",
    "        for timestamp in timestamp_arr:\n",
    "            total_timestamp_arr.append(timestamp)\n",
    "    \n",
    "    fig, ax1 = plt.subplots()  \n",
    "    color = 'tab:red'\n",
    "    ax1.set_xlabel('time')\n",
    "    ax1.set_ylabel('truck clusters', color=color)\n",
    "        \n",
    "    y, x, _ = ax1.hist(total_timestamp_arr, bins=bin_arr, color=color)\n",
    "    y_maxes.append(y.max()) #might need to fix later\n",
    "    ax1.tick_params(axis='y', labelcolor=color)\n",
    "\n",
    "    ax2 = ax1.twinx()  # instantiate a second axes that shares the same x-axis\n",
    "\n",
    "    color = 'tab:blue'\n",
    "    ax2.set_ylabel('dBAS', color=color)  # we already handled the x-label with ax1\n",
    "    ax2.plot(spl_time, spl_dBAS_mean, color=color)\n",
    "    ax2.plot(spl_time, spl_dBAS_max, color='black')\n",
    "    ax2.plot(spl_time, spl_dBAS_median, color='green')\n",
    "    ax2.tick_params(axis='y', labelcolor=color)\n",
    "\n",
    "    ax1.set_ylim([0,max(y_maxes)])\n",
    "    \n",
    "    fig.set_size_inches(18.5, 10.5)\n",
    "    fig.tight_layout()\n",
    "    fig.show()"
   ]
  },
  {
   "cell_type": "markdown",
   "metadata": {},
   "source": [
    "Getting timestamp, embedding data for one sensor"
   ]
  },
  {
   "cell_type": "code",
   "execution_count": 20,
   "metadata": {},
   "outputs": [],
   "source": [
    "b827ebc178d2_mask = get_sensor_mask(d['sensor_id'], b'sonycnode-b827ebc178d2.sonyc')\n",
    "b827ebc178d2_transformed = projected_45[b827ebc178d2_mask]\n",
    "b827ebc178d2_timestamps = d[b827ebc178d2_mask, 'timestamp']\n",
    "b827ebc178d2_timestamps_dt = [convert_timestamps(x) for x in b827ebc178d2_timestamps]"
   ]
  },
  {
   "cell_type": "markdown",
   "metadata": {},
   "source": [
    "# Averaging data"
   ]
  },
  {
   "cell_type": "markdown",
   "metadata": {},
   "source": [
    "Dataset with one data point every minute"
   ]
  },
  {
   "cell_type": "code",
   "execution_count": 23,
   "metadata": {},
   "outputs": [],
   "source": [
    "minute_time_arr = np.empty(int(len(time_arr)/60), dtype = datetime.datetime)\n",
    "minute_dBAS_arr = np.empty(int(len(time_arr)/60))"
   ]
  },
  {
   "cell_type": "code",
   "execution_count": 24,
   "metadata": {},
   "outputs": [],
   "source": [
    "step = 60\n",
    "i = 0\n",
    "count = 0\n",
    "while i < len(time_arr): \n",
    "    minute_time_arr[count] = time_arr[i]\n",
    "    minute_dBAS_arr[count] = np.average(dBAS_arr[i:i+step])\n",
    "    i += step\n",
    "    count += 1"
   ]
  },
  {
   "cell_type": "markdown",
   "metadata": {},
   "source": [
    "# Taking max of data"
   ]
  },
  {
   "cell_type": "code",
   "execution_count": 25,
   "metadata": {},
   "outputs": [],
   "source": [
    "minute_dBAS_max = np.empty(int(len(time_arr)/60))"
   ]
  },
  {
   "cell_type": "code",
   "execution_count": 26,
   "metadata": {},
   "outputs": [],
   "source": [
    "step = 60\n",
    "i = 0\n",
    "count = 0\n",
    "while i < len(time_arr): \n",
    "    minute_dBAS_max[count] = np.amax(dBAS_arr[i:i+step])\n",
    "    i += step\n",
    "    count += 1"
   ]
  },
  {
   "cell_type": "code",
   "execution_count": 27,
   "metadata": {
    "scrolled": true
   },
   "outputs": [
    {
     "data": {
      "text/plain": [
       "array([73.88, 73.14, 81.78, ..., 74.38, 75.82, 77.04])"
      ]
     },
     "execution_count": 27,
     "metadata": {},
     "output_type": "execute_result"
    }
   ],
   "source": [
    "minute_dBAS_max"
   ]
  },
  {
   "cell_type": "markdown",
   "metadata": {},
   "source": [
    "# Taking median of data"
   ]
  },
  {
   "cell_type": "code",
   "execution_count": 28,
   "metadata": {},
   "outputs": [],
   "source": [
    "minute_dBAS_median = np.empty(int(len(time_arr)/60))"
   ]
  },
  {
   "cell_type": "code",
   "execution_count": 29,
   "metadata": {},
   "outputs": [],
   "source": [
    "step = 60\n",
    "i = 0\n",
    "count = 0\n",
    "while i < len(time_arr): \n",
    "    minute_dBAS_median[count] = np.median(dBAS_arr[i:i+step])\n",
    "    i += step\n",
    "    count += 1"
   ]
  },
  {
   "cell_type": "code",
   "execution_count": 30,
   "metadata": {
    "scrolled": true
   },
   "outputs": [
    {
     "data": {
      "text/plain": [
       "array([61.775, 57.79 , 64.23 , ..., 58.02 , 66.055, 61.44 ])"
      ]
     },
     "execution_count": 30,
     "metadata": {},
     "output_type": "execute_result"
    }
   ],
   "source": [
    "minute_dBAS_median"
   ]
  },
  {
   "cell_type": "markdown",
   "metadata": {},
   "source": [
    "# Plotting 12 hour intervals for one day"
   ]
  },
  {
   "cell_type": "markdown",
   "metadata": {},
   "source": [
    "Slicing the SPL data"
   ]
  },
  {
   "cell_type": "code",
   "execution_count": 31,
   "metadata": {},
   "outputs": [],
   "source": [
    "naive_minute_time_arr = [x.replace(tzinfo=None) for x in minute_time_arr]"
   ]
  },
  {
   "cell_type": "markdown",
   "metadata": {},
   "source": [
    "Slicing for 8am to 8pm"
   ]
  },
  {
   "cell_type": "code",
   "execution_count": 32,
   "metadata": {},
   "outputs": [],
   "source": [
    "naive_minute_time_arr_np = np.array(naive_minute_time_arr)\n",
    "minute_time_arr_am_mask = \\\n",
    "get_time_mask(datetime.datetime(2019, 6, 1, 8), datetime.datetime(2019, 6, 1, 20), naive_minute_time_arr_np)"
   ]
  },
  {
   "cell_type": "code",
   "execution_count": 33,
   "metadata": {},
   "outputs": [],
   "source": [
    "minute_time_arr_am = minute_time_arr[minute_time_arr_am_mask]\n",
    "minute_dBAS_arr_am = minute_dBAS_arr[minute_time_arr_am_mask]\n",
    "minute_dBAS_max_am = minute_dBAS_max[minute_time_arr_am_mask]\n",
    "minute_dBAS_median_am = minute_dBAS_median[minute_time_arr_am_mask]"
   ]
  },
  {
   "cell_type": "markdown",
   "metadata": {},
   "source": [
    "Slicing for 8pm to 8am"
   ]
  },
  {
   "cell_type": "code",
   "execution_count": 34,
   "metadata": {},
   "outputs": [],
   "source": [
    "minute_time_arr_pm_mask = \\\n",
    "get_time_mask(datetime.datetime(2019, 6, 1, 20), datetime.datetime(2019, 6, 2, 8), naive_minute_time_arr_np)"
   ]
  },
  {
   "cell_type": "code",
   "execution_count": 35,
   "metadata": {},
   "outputs": [],
   "source": [
    "minute_time_arr_pm = minute_time_arr[minute_time_arr_pm_mask]\n",
    "minute_dBAS_arr_pm = minute_dBAS_arr[minute_time_arr_pm_mask]\n",
    "minute_dBAS_max_pm = minute_dBAS_max[minute_time_arr_pm_mask]\n",
    "minute_dBAS_median_pm = minute_dBAS_median[minute_time_arr_pm_mask]"
   ]
  },
  {
   "cell_type": "markdown",
   "metadata": {},
   "source": [
    "Slicing the feature vectors from 8am to 8pm"
   ]
  },
  {
   "cell_type": "code",
   "execution_count": 36,
   "metadata": {},
   "outputs": [],
   "source": [
    "naive_b827ebc178d2_timestamps_dt = [x.replace(tzinfo=None) for x in b827ebc178d2_timestamps_dt]"
   ]
  },
  {
   "cell_type": "code",
   "execution_count": 37,
   "metadata": {},
   "outputs": [],
   "source": [
    "naive_b827ebc178d2_timestamps_dt_np = np.array(naive_b827ebc178d2_timestamps_dt)\n",
    "am_mask = \\\n",
    "get_time_mask(datetime.datetime(2019, 6, 1, 8), datetime.datetime(2019, 6, 1, 20), naive_b827ebc178d2_timestamps_dt_np)"
   ]
  },
  {
   "cell_type": "code",
   "execution_count": 38,
   "metadata": {},
   "outputs": [],
   "source": [
    "b827ebc178d2_timestamps_dt_am = np.asarray(b827ebc178d2_timestamps_dt)[am_mask]"
   ]
  },
  {
   "cell_type": "markdown",
   "metadata": {},
   "source": [
    "Slicing the feature vectors from 8pm to 8am"
   ]
  },
  {
   "cell_type": "code",
   "execution_count": 39,
   "metadata": {},
   "outputs": [],
   "source": [
    "pm_mask = \\\n",
    "get_time_mask(datetime.datetime(2019, 6, 1, 20), datetime.datetime(2019, 6, 2, 8), naive_b827ebc178d2_timestamps_dt_np)"
   ]
  },
  {
   "cell_type": "code",
   "execution_count": 40,
   "metadata": {},
   "outputs": [],
   "source": [
    "b827ebc178d2_timestamps_dt_pm = np.asarray(b827ebc178d2_timestamps_dt)[pm_mask]"
   ]
  },
  {
   "cell_type": "code",
   "execution_count": 41,
   "metadata": {
    "scrolled": false
   },
   "outputs": [],
   "source": [
    "# plot_clusters(15, b827ebc178d2_transformed[am_mask], projected_45[index], b827ebc178d2_timestamps_dt_am, \\\n",
    "#              minute_time_arr_am, minute_dBAS_arr_am, 12*60)"
   ]
  },
  {
   "cell_type": "markdown",
   "metadata": {},
   "source": [
    "# Plotting 1 hour intervals"
   ]
  },
  {
   "cell_type": "markdown",
   "metadata": {},
   "source": [
    "Slicing the SPL data"
   ]
  },
  {
   "cell_type": "markdown",
   "metadata": {},
   "source": [
    "Slicing for 2pm to 3pm"
   ]
  },
  {
   "cell_type": "code",
   "execution_count": 42,
   "metadata": {},
   "outputs": [],
   "source": [
    "minute_time_arr_hour_mask = \\\n",
    "get_time_mask(datetime.datetime(2019, 6, 1, 14), datetime.datetime(2019, 6, 1, 15), naive_minute_time_arr_np)"
   ]
  },
  {
   "cell_type": "code",
   "execution_count": 43,
   "metadata": {},
   "outputs": [],
   "source": [
    "minute_time_arr_hour = minute_time_arr[minute_time_arr_hour_mask]\n",
    "minute_dBAS_arr_hour = minute_dBAS_arr[minute_time_arr_hour_mask]\n",
    "minute_dBAS_max_hour = minute_dBAS_max[minute_time_arr_hour_mask]\n",
    "minute_dBAS_median_hour = minute_dBAS_median[minute_time_arr_hour_mask]"
   ]
  },
  {
   "cell_type": "markdown",
   "metadata": {},
   "source": [
    "Slicing the feature vectors from 2pm to 3pm"
   ]
  },
  {
   "cell_type": "code",
   "execution_count": 44,
   "metadata": {},
   "outputs": [],
   "source": [
    "hour_mask = \\\n",
    "get_time_mask(datetime.datetime(2019, 6, 1, 14), datetime.datetime(2019, 6, 1, 15), naive_b827ebc178d2_timestamps_dt_np)"
   ]
  },
  {
   "cell_type": "code",
   "execution_count": 45,
   "metadata": {},
   "outputs": [],
   "source": [
    "b827ebc178d2_timestamps_dt_hour = np.asarray(b827ebc178d2_timestamps_dt)[hour_mask]"
   ]
  },
  {
   "cell_type": "markdown",
   "metadata": {},
   "source": [
    "# Plotting truck clusters"
   ]
  },
  {
   "cell_type": "markdown",
   "metadata": {},
   "source": [
    "Truck clusters (in 64 cluster model) are 5, 10, 11, 18, 20, 37, 42, 57, 63"
   ]
  },
  {
   "cell_type": "code",
   "execution_count": 46,
   "metadata": {},
   "outputs": [],
   "source": [
    "truck_clusters = [5, 10, 11, 18, 20, 37, 42, 57, 63]"
   ]
  },
  {
   "cell_type": "code",
   "execution_count": 47,
   "metadata": {},
   "outputs": [],
   "source": [
    "# am_bins = plot_clusters(64, b827ebc178d2_transformed[am_mask], projected_45[index], b827ebc178d2_timestamps_dt_am, \\\n",
    "#              minute_time_arr_am, minute_dBAS_arr_am, minute_dBAS_max_am, minute_dBAS_median_am, \\\n",
    "#               12*60, truck_clusters)"
   ]
  },
  {
   "cell_type": "code",
   "execution_count": 48,
   "metadata": {},
   "outputs": [],
   "source": [
    "# pm_bins = plot_clusters(64, b827ebc178d2_transformed[pm_mask], projected_45[index], b827ebc178d2_timestamps_dt_pm, \\\n",
    "#              minute_time_arr_pm, minute_dBAS_arr_pm, minute_dBAS_max_pm, minute_dBAS_median_pm, \\\n",
    "#               12*60, truck_clusters)"
   ]
  },
  {
   "cell_type": "code",
   "execution_count": 49,
   "metadata": {
    "scrolled": false
   },
   "outputs": [],
   "source": [
    "# hour_bins = plot_clusters(64, b827ebc178d2_transformed[hour_mask], projected_45[index], \\\n",
    "#                           b827ebc178d2_timestamps_dt_hour, minute_time_arr_hour, minute_dBAS_arr_hour, \\\n",
    "#                           minute_dBAS_max_hour, minute_dBAS_median_hour, 60, truck_clusters)"
   ]
  },
  {
   "cell_type": "code",
   "execution_count": 50,
   "metadata": {},
   "outputs": [],
   "source": [
    "#(df['cluster_id']==27).groupby('minute_of_the_day').sum()"
   ]
  },
  {
   "cell_type": "code",
   "execution_count": 52,
   "metadata": {},
   "outputs": [
    {
     "data": {
      "image/png": "[encoded data removed]",
      "text/plain": [
       "<Figure size 432x288 with 1 Axes>"
      ]
     },
     "metadata": {
      "needs_background": "light"
     },
     "output_type": "display_data"
    }
   ],
   "source": [
    "hour_y, hour_bins = get_y_and_bins(64, b827ebc178d2_transformed[hour_mask], projected_45[index], \\\n",
    "                          b827ebc178d2_timestamps_dt_hour, 60, truck_clusters)"
   ]
  },
  {
   "cell_type": "code",
   "execution_count": 66,
   "metadata": {},
   "outputs": [
    {
     "data": {
      "text/plain": [
       "array([ 2.,  6.,  1.,  5.,  4.,  6.,  4.,  4.,  2.,  2.,  6., 10.,  3.,\n",
       "        1.,  2.,  7.,  6.,  3.,  0.,  1.,  3.,  5.,  6.,  5.,  3.,  8.,\n",
       "        6.,  4.,  9.,  4.,  2.,  0.,  0.,  1.,  3.,  4.,  2.,  1.,  4.,\n",
       "        4.,  9., 10.,  6.,  5.,  2.,  4.,  7.,  0.,  6.,  3.,  5.,  9.,\n",
       "        0.,  0.,  5.,  8.,  1.,  7.,  2.,  6.])"
      ]
     },
     "execution_count": 66,
     "metadata": {},
     "output_type": "execute_result"
    }
   ],
   "source": [
    "hour_y"
   ]
  },
  {
   "cell_type": "code",
   "execution_count": 67,
   "metadata": {},
   "outputs": [
    {
     "data": {
      "image/png": "[encoded data removed]",
      "text/plain": [
       "<Figure size 1332x756 with 2 Axes>"
      ]
     },
     "metadata": {
      "needs_background": "light"
     },
     "output_type": "display_data"
    }
   ],
   "source": [
    "plot_truck_clusters(64, b827ebc178d2_transformed[hour_mask], projected_45[index], \\\n",
    "                          b827ebc178d2_timestamps_dt_hour, minute_time_arr_hour, minute_dBAS_arr_hour, \\\n",
    "                          minute_dBAS_max_hour, minute_dBAS_median_hour, hour_y, hour_bins, truck_clusters)"
   ]
  },
  {
   "cell_type": "markdown",
   "metadata": {},
   "source": [
    "# Averaging data over 10 sec"
   ]
  },
  {
   "cell_type": "markdown",
   "metadata": {},
   "source": [
    "Dataset with one timestamp every 10 seconds"
   ]
  },
  {
   "cell_type": "code",
   "execution_count": 68,
   "metadata": {},
   "outputs": [],
   "source": [
    "ten_sec_time_arr = np.empty(int(len(time_arr)/10), dtype = datetime.datetime)\n",
    "ten_sec_dBAS_arr = np.empty(int(len(time_arr)/10))"
   ]
  },
  {
   "cell_type": "code",
   "execution_count": 69,
   "metadata": {},
   "outputs": [],
   "source": [
    "step = 10\n",
    "i = 0\n",
    "count = 0\n",
    "while i < len(time_arr): \n",
    "    ten_sec_time_arr[count] = time_arr[i]\n",
    "    ten_sec_dBAS_arr[count] = np.average(dBAS_arr[i:i+step])\n",
    "    i += step\n",
    "    count += 1"
   ]
  },
  {
   "cell_type": "markdown",
   "metadata": {},
   "source": [
    "# Taking max of data"
   ]
  },
  {
   "cell_type": "code",
   "execution_count": 70,
   "metadata": {},
   "outputs": [],
   "source": [
    "ten_sec_dBAS_max = np.empty(int(len(time_arr)/10))"
   ]
  },
  {
   "cell_type": "code",
   "execution_count": 71,
   "metadata": {},
   "outputs": [],
   "source": [
    "step = 10\n",
    "i = 0\n",
    "count = 0\n",
    "while i < len(time_arr): \n",
    "    ten_sec_dBAS_max[count] = np.amax(dBAS_arr[i:i+step])\n",
    "    i += step\n",
    "    count += 1"
   ]
  },
  {
   "cell_type": "code",
   "execution_count": 72,
   "metadata": {
    "scrolled": true
   },
   "outputs": [
    {
     "data": {
      "text/plain": [
       "array([67.42, 72.63, 62.28, ..., 62.57, 66.96, 77.04])"
      ]
     },
     "execution_count": 72,
     "metadata": {},
     "output_type": "execute_result"
    }
   ],
   "source": [
    "ten_sec_dBAS_max"
   ]
  },
  {
   "cell_type": "markdown",
   "metadata": {},
   "source": [
    "# Taking median of data"
   ]
  },
  {
   "cell_type": "code",
   "execution_count": 73,
   "metadata": {},
   "outputs": [],
   "source": [
    "ten_sec_dBAS_median = np.empty(int(len(time_arr)/10))"
   ]
  },
  {
   "cell_type": "code",
   "execution_count": 74,
   "metadata": {},
   "outputs": [],
   "source": [
    "step = 10\n",
    "i = 0\n",
    "count = 0\n",
    "while i < len(time_arr): \n",
    "    ten_sec_dBAS_median[count] = np.median(dBAS_arr[i:i+step])\n",
    "    i += step\n",
    "    count += 1"
   ]
  },
  {
   "cell_type": "code",
   "execution_count": 75,
   "metadata": {
    "scrolled": true
   },
   "outputs": [
    {
     "data": {
      "text/plain": [
       "array([63.63 , 65.575, 58.28 , ..., 57.625, 60.695, 65.255])"
      ]
     },
     "execution_count": 75,
     "metadata": {},
     "output_type": "execute_result"
    }
   ],
   "source": [
    "ten_sec_dBAS_median"
   ]
  },
  {
   "cell_type": "markdown",
   "metadata": {},
   "source": [
    "# Plotting 12 hour intervals for one day"
   ]
  },
  {
   "cell_type": "markdown",
   "metadata": {},
   "source": [
    "Slicing the SPL data"
   ]
  },
  {
   "cell_type": "code",
   "execution_count": 76,
   "metadata": {},
   "outputs": [],
   "source": [
    "naive_ten_sec_time_arr = [x.replace(tzinfo=None) for x in ten_sec_time_arr]"
   ]
  },
  {
   "cell_type": "markdown",
   "metadata": {},
   "source": [
    "Slicing for 8am to 8pm"
   ]
  },
  {
   "cell_type": "code",
   "execution_count": 77,
   "metadata": {},
   "outputs": [],
   "source": [
    "naive_ten_sec_time_arr_np = np.array(naive_ten_sec_time_arr)\n",
    "ten_sec_time_arr_am_mask = \\\n",
    "get_time_mask(datetime.datetime(2019, 6, 1, 8), datetime.datetime(2019, 6, 1, 20), naive_ten_sec_time_arr_np)"
   ]
  },
  {
   "cell_type": "code",
   "execution_count": 78,
   "metadata": {},
   "outputs": [],
   "source": [
    "ten_sec_time_arr_am = ten_sec_time_arr[ten_sec_time_arr_am_mask]\n",
    "ten_sec_dBAS_arr_am = ten_sec_dBAS_arr[ten_sec_time_arr_am_mask]\n",
    "ten_sec_dBAS_max_am = ten_sec_dBAS_max[ten_sec_time_arr_am_mask]\n",
    "ten_sec_dBAS_median_am = ten_sec_dBAS_median[ten_sec_time_arr_am_mask]"
   ]
  },
  {
   "cell_type": "markdown",
   "metadata": {},
   "source": [
    "Slicing for 8pm to 8am"
   ]
  },
  {
   "cell_type": "code",
   "execution_count": 79,
   "metadata": {},
   "outputs": [],
   "source": [
    "ten_sec_time_arr_pm_mask = \\\n",
    "get_time_mask(datetime.datetime(2019, 6, 1, 20), datetime.datetime(2019, 6, 2, 8), naive_ten_sec_time_arr_np)"
   ]
  },
  {
   "cell_type": "code",
   "execution_count": 80,
   "metadata": {},
   "outputs": [],
   "source": [
    "ten_sec_time_arr_pm = ten_sec_time_arr[ten_sec_time_arr_pm_mask]\n",
    "ten_sec_dBAS_arr_pm = ten_sec_dBAS_arr[ten_sec_time_arr_pm_mask]\n",
    "ten_sec_dBAS_max_pm = ten_sec_dBAS_max[ten_sec_time_arr_pm_mask]\n",
    "ten_sec_dBAS_median_pm = ten_sec_dBAS_median[ten_sec_time_arr_pm_mask]"
   ]
  },
  {
   "cell_type": "markdown",
   "metadata": {},
   "source": [
    "# Plotting 1 hour intervals"
   ]
  },
  {
   "cell_type": "markdown",
   "metadata": {},
   "source": [
    "Slicing the SPL data"
   ]
  },
  {
   "cell_type": "markdown",
   "metadata": {},
   "source": [
    "Slicing for 2pm to 3pm"
   ]
  },
  {
   "cell_type": "code",
   "execution_count": 81,
   "metadata": {},
   "outputs": [],
   "source": [
    "ten_sec_time_arr_hour_mask = \\\n",
    "get_time_mask(datetime.datetime(2019, 6, 1, 14), datetime.datetime(2019, 6, 1, 15), naive_ten_sec_time_arr_np)"
   ]
  },
  {
   "cell_type": "code",
   "execution_count": 82,
   "metadata": {},
   "outputs": [],
   "source": [
    "ten_sec_time_arr_hour = ten_sec_time_arr[ten_sec_time_arr_hour_mask]\n",
    "ten_sec_dBAS_arr_hour = ten_sec_dBAS_arr[ten_sec_time_arr_hour_mask]\n",
    "ten_sec_dBAS_max_hour = ten_sec_dBAS_max[ten_sec_time_arr_hour_mask]\n",
    "ten_sec_dBAS_median_hour = ten_sec_dBAS_median[ten_sec_time_arr_hour_mask]"
   ]
  },
  {
   "cell_type": "code",
   "execution_count": 83,
   "metadata": {},
   "outputs": [],
   "source": [
    "# ten_sec_hour_bins = plot_clusters(64, b827ebc178d2_transformed[hour_mask], projected_45[index], \\\n",
    "#                           b827ebc178d2_timestamps_dt_hour, ten_sec_time_arr_hour, ten_sec_dBAS_arr_hour, \\\n",
    "#                           ten_sec_dBAS_max_hour, ten_sec_dBAS_median_hour, 600, truck_clusters)"
   ]
  },
  {
   "cell_type": "code",
   "execution_count": 84,
   "metadata": {},
   "outputs": [],
   "source": [
    "# plot_truck_clusters(64, b827ebc178d2_transformed[hour_mask], projected_45[index], \\\n",
    "#                           b827ebc178d2_timestamps_dt_hour, ten_sec_time_arr_hour, ten_sec_dBAS_arr_hour, \\\n",
    "#                           ten_sec_dBAS_max_hour, ten_sec_dBAS_median_hour, ten_sec_hour_bins, truck_clusters)"
   ]
  },
  {
   "cell_type": "markdown",
   "metadata": {},
   "source": [
    "# Dataframe with timestamps and cluster assignment"
   ]
  },
  {
   "cell_type": "markdown",
   "metadata": {},
   "source": [
    "Testing the dataframe with data from 1 hour"
   ]
  },
  {
   "cell_type": "code",
   "execution_count": 85,
   "metadata": {},
   "outputs": [],
   "source": [
    "cluster_assignments = get_cluster_assignments(64, b827ebc178d2_transformed[hour_mask], projected_45[index])\n",
    "seconds_b827ebc178d2_timestamps_dt_hour = [x.replace(microsecond=0) for x in b827ebc178d2_timestamps_dt_hour]"
   ]
  },
  {
   "cell_type": "code",
   "execution_count": 86,
   "metadata": {},
   "outputs": [],
   "source": [
    "duplicates = set([x for x in seconds_b827ebc178d2_timestamps_dt_hour if \\\n",
    "                  seconds_b827ebc178d2_timestamps_dt_hour.count(x) > 1])"
   ]
  },
  {
   "cell_type": "code",
   "execution_count": 87,
   "metadata": {
    "scrolled": true
   },
   "outputs": [
    {
     "data": {
      "text/html": [
       "<div>\n",
       "<style scoped>\n",
       "    .dataframe tbody tr th:only-of-type {\n",
       "        vertical-align: middle;\n",
       "    }\n",
       "\n",
       "    .dataframe tbody tr th {\n",
       "        vertical-align: top;\n",
       "    }\n",
       "\n",
       "    .dataframe thead th {\n",
       "        text-align: right;\n",
       "    }\n",
       "</style>\n",
       "<table border=\"1\" class=\"dataframe\">\n",
       "  <thead>\n",
       "    <tr style=\"text-align: right;\">\n",
       "      <th></th>\n",
       "      <th>assignment</th>\n",
       "    </tr>\n",
       "  </thead>\n",
       "  <tbody>\n",
       "    <tr>\n",
       "      <th>2019-06-01 14:00:08-04:00</th>\n",
       "      <td>38</td>\n",
       "    </tr>\n",
       "    <tr>\n",
       "      <th>2019-06-01 14:00:09-04:00</th>\n",
       "      <td>13</td>\n",
       "    </tr>\n",
       "    <tr>\n",
       "      <th>2019-06-01 14:00:10-04:00</th>\n",
       "      <td>13</td>\n",
       "    </tr>\n",
       "    <tr>\n",
       "      <th>2019-06-01 14:00:11-04:00</th>\n",
       "      <td>13</td>\n",
       "    </tr>\n",
       "    <tr>\n",
       "      <th>2019-06-01 14:00:12-04:00</th>\n",
       "      <td>13</td>\n",
       "    </tr>\n",
       "    <tr>\n",
       "      <th>2019-06-01 14:00:13-04:00</th>\n",
       "      <td>63</td>\n",
       "    </tr>\n",
       "    <tr>\n",
       "      <th>2019-06-01 14:00:14-04:00</th>\n",
       "      <td>13</td>\n",
       "    </tr>\n",
       "    <tr>\n",
       "      <th>2019-06-01 14:00:15-04:00</th>\n",
       "      <td>13</td>\n",
       "    </tr>\n",
       "    <tr>\n",
       "      <th>2019-06-01 14:00:16-04:00</th>\n",
       "      <td>12</td>\n",
       "    </tr>\n",
       "    <tr>\n",
       "      <th>2019-06-01 14:00:17-04:00</th>\n",
       "      <td>53</td>\n",
       "    </tr>\n",
       "    <tr>\n",
       "      <th>2019-06-01 14:00:18-04:00</th>\n",
       "      <td>31</td>\n",
       "    </tr>\n",
       "    <tr>\n",
       "      <th>2019-06-01 14:00:30-04:00</th>\n",
       "      <td>17</td>\n",
       "    </tr>\n",
       "    <tr>\n",
       "      <th>2019-06-01 14:00:31-04:00</th>\n",
       "      <td>24</td>\n",
       "    </tr>\n",
       "    <tr>\n",
       "      <th>2019-06-01 14:00:32-04:00</th>\n",
       "      <td>9</td>\n",
       "    </tr>\n",
       "    <tr>\n",
       "      <th>2019-06-01 14:00:33-04:00</th>\n",
       "      <td>24</td>\n",
       "    </tr>\n",
       "    <tr>\n",
       "      <th>2019-06-01 14:00:34-04:00</th>\n",
       "      <td>24</td>\n",
       "    </tr>\n",
       "    <tr>\n",
       "      <th>2019-06-01 14:00:35-04:00</th>\n",
       "      <td>24</td>\n",
       "    </tr>\n",
       "    <tr>\n",
       "      <th>2019-06-01 14:00:36-04:00</th>\n",
       "      <td>5</td>\n",
       "    </tr>\n",
       "    <tr>\n",
       "      <th>2019-06-01 14:00:37-04:00</th>\n",
       "      <td>24</td>\n",
       "    </tr>\n",
       "    <tr>\n",
       "      <th>2019-06-01 14:00:38-04:00</th>\n",
       "      <td>24</td>\n",
       "    </tr>\n",
       "    <tr>\n",
       "      <th>2019-06-01 14:00:39-04:00</th>\n",
       "      <td>24</td>\n",
       "    </tr>\n",
       "    <tr>\n",
       "      <th>2019-06-01 14:00:40-04:00</th>\n",
       "      <td>56</td>\n",
       "    </tr>\n",
       "    <tr>\n",
       "      <th>2019-06-01 14:00:51-04:00</th>\n",
       "      <td>17</td>\n",
       "    </tr>\n",
       "    <tr>\n",
       "      <th>2019-06-01 14:00:52-04:00</th>\n",
       "      <td>24</td>\n",
       "    </tr>\n",
       "    <tr>\n",
       "      <th>2019-06-01 14:00:53-04:00</th>\n",
       "      <td>28</td>\n",
       "    </tr>\n",
       "    <tr>\n",
       "      <th>2019-06-01 14:00:54-04:00</th>\n",
       "      <td>36</td>\n",
       "    </tr>\n",
       "    <tr>\n",
       "      <th>2019-06-01 14:00:55-04:00</th>\n",
       "      <td>5</td>\n",
       "    </tr>\n",
       "    <tr>\n",
       "      <th>2019-06-01 14:00:56-04:00</th>\n",
       "      <td>13</td>\n",
       "    </tr>\n",
       "    <tr>\n",
       "      <th>2019-06-01 14:00:57-04:00</th>\n",
       "      <td>9</td>\n",
       "    </tr>\n",
       "    <tr>\n",
       "      <th>2019-06-01 14:00:58-04:00</th>\n",
       "      <td>24</td>\n",
       "    </tr>\n",
       "    <tr>\n",
       "      <th>...</th>\n",
       "      <td>...</td>\n",
       "    </tr>\n",
       "    <tr>\n",
       "      <th>2019-06-01 14:59:11-04:00</th>\n",
       "      <td>4</td>\n",
       "    </tr>\n",
       "    <tr>\n",
       "      <th>2019-06-01 14:59:12-04:00</th>\n",
       "      <td>56</td>\n",
       "    </tr>\n",
       "    <tr>\n",
       "      <th>2019-06-01 14:59:19-04:00</th>\n",
       "      <td>17</td>\n",
       "    </tr>\n",
       "    <tr>\n",
       "      <th>2019-06-01 14:59:20-04:00</th>\n",
       "      <td>28</td>\n",
       "    </tr>\n",
       "    <tr>\n",
       "      <th>2019-06-01 14:59:21-04:00</th>\n",
       "      <td>5</td>\n",
       "    </tr>\n",
       "    <tr>\n",
       "      <th>2019-06-01 14:59:22-04:00</th>\n",
       "      <td>5</td>\n",
       "    </tr>\n",
       "    <tr>\n",
       "      <th>2019-06-01 14:59:23-04:00</th>\n",
       "      <td>28</td>\n",
       "    </tr>\n",
       "    <tr>\n",
       "      <th>2019-06-01 14:59:24-04:00</th>\n",
       "      <td>40</td>\n",
       "    </tr>\n",
       "    <tr>\n",
       "      <th>2019-06-01 14:59:25-04:00</th>\n",
       "      <td>40</td>\n",
       "    </tr>\n",
       "    <tr>\n",
       "      <th>2019-06-01 14:59:26-04:00</th>\n",
       "      <td>4</td>\n",
       "    </tr>\n",
       "    <tr>\n",
       "      <th>2019-06-01 14:59:27-04:00</th>\n",
       "      <td>0</td>\n",
       "    </tr>\n",
       "    <tr>\n",
       "      <th>2019-06-01 14:59:28-04:00</th>\n",
       "      <td>54</td>\n",
       "    </tr>\n",
       "    <tr>\n",
       "      <th>2019-06-01 14:59:29-04:00</th>\n",
       "      <td>56</td>\n",
       "    </tr>\n",
       "    <tr>\n",
       "      <th>2019-06-01 14:59:36-04:00</th>\n",
       "      <td>38</td>\n",
       "    </tr>\n",
       "    <tr>\n",
       "      <th>2019-06-01 14:59:37-04:00</th>\n",
       "      <td>24</td>\n",
       "    </tr>\n",
       "    <tr>\n",
       "      <th>2019-06-01 14:59:38-04:00</th>\n",
       "      <td>9</td>\n",
       "    </tr>\n",
       "    <tr>\n",
       "      <th>2019-06-01 14:59:39-04:00</th>\n",
       "      <td>28</td>\n",
       "    </tr>\n",
       "    <tr>\n",
       "      <th>2019-06-01 14:59:40-04:00</th>\n",
       "      <td>28</td>\n",
       "    </tr>\n",
       "    <tr>\n",
       "      <th>2019-06-01 14:59:41-04:00</th>\n",
       "      <td>4</td>\n",
       "    </tr>\n",
       "    <tr>\n",
       "      <th>2019-06-01 14:59:42-04:00</th>\n",
       "      <td>5</td>\n",
       "    </tr>\n",
       "    <tr>\n",
       "      <th>2019-06-01 14:59:43-04:00</th>\n",
       "      <td>9</td>\n",
       "    </tr>\n",
       "    <tr>\n",
       "      <th>2019-06-01 14:59:44-04:00</th>\n",
       "      <td>13</td>\n",
       "    </tr>\n",
       "    <tr>\n",
       "      <th>2019-06-01 14:59:45-04:00</th>\n",
       "      <td>5</td>\n",
       "    </tr>\n",
       "    <tr>\n",
       "      <th>2019-06-01 14:59:46-04:00</th>\n",
       "      <td>31</td>\n",
       "    </tr>\n",
       "    <tr>\n",
       "      <th>2019-06-01 14:59:54-04:00</th>\n",
       "      <td>38</td>\n",
       "    </tr>\n",
       "    <tr>\n",
       "      <th>2019-06-01 14:59:55-04:00</th>\n",
       "      <td>28</td>\n",
       "    </tr>\n",
       "    <tr>\n",
       "      <th>2019-06-01 14:59:56-04:00</th>\n",
       "      <td>28</td>\n",
       "    </tr>\n",
       "    <tr>\n",
       "      <th>2019-06-01 14:59:57-04:00</th>\n",
       "      <td>34</td>\n",
       "    </tr>\n",
       "    <tr>\n",
       "      <th>2019-06-01 14:59:58-04:00</th>\n",
       "      <td>24</td>\n",
       "    </tr>\n",
       "    <tr>\n",
       "      <th>2019-06-01 14:59:59-04:00</th>\n",
       "      <td>24</td>\n",
       "    </tr>\n",
       "  </tbody>\n",
       "</table>\n",
       "<p>1986 rows × 1 columns</p>\n",
       "</div>"
      ],
      "text/plain": [
       "                           assignment\n",
       "2019-06-01 14:00:08-04:00          38\n",
       "2019-06-01 14:00:09-04:00          13\n",
       "2019-06-01 14:00:10-04:00          13\n",
       "2019-06-01 14:00:11-04:00          13\n",
       "2019-06-01 14:00:12-04:00          13\n",
       "2019-06-01 14:00:13-04:00          63\n",
       "2019-06-01 14:00:14-04:00          13\n",
       "2019-06-01 14:00:15-04:00          13\n",
       "2019-06-01 14:00:16-04:00          12\n",
       "2019-06-01 14:00:17-04:00          53\n",
       "2019-06-01 14:00:18-04:00          31\n",
       "2019-06-01 14:00:30-04:00          17\n",
       "2019-06-01 14:00:31-04:00          24\n",
       "2019-06-01 14:00:32-04:00           9\n",
       "2019-06-01 14:00:33-04:00          24\n",
       "2019-06-01 14:00:34-04:00          24\n",
       "2019-06-01 14:00:35-04:00          24\n",
       "2019-06-01 14:00:36-04:00           5\n",
       "2019-06-01 14:00:37-04:00          24\n",
       "2019-06-01 14:00:38-04:00          24\n",
       "2019-06-01 14:00:39-04:00          24\n",
       "2019-06-01 14:00:40-04:00          56\n",
       "2019-06-01 14:00:51-04:00          17\n",
       "2019-06-01 14:00:52-04:00          24\n",
       "2019-06-01 14:00:53-04:00          28\n",
       "2019-06-01 14:00:54-04:00          36\n",
       "2019-06-01 14:00:55-04:00           5\n",
       "2019-06-01 14:00:56-04:00          13\n",
       "2019-06-01 14:00:57-04:00           9\n",
       "2019-06-01 14:00:58-04:00          24\n",
       "...                               ...\n",
       "2019-06-01 14:59:11-04:00           4\n",
       "2019-06-01 14:59:12-04:00          56\n",
       "2019-06-01 14:59:19-04:00          17\n",
       "2019-06-01 14:59:20-04:00          28\n",
       "2019-06-01 14:59:21-04:00           5\n",
       "2019-06-01 14:59:22-04:00           5\n",
       "2019-06-01 14:59:23-04:00          28\n",
       "2019-06-01 14:59:24-04:00          40\n",
       "2019-06-01 14:59:25-04:00          40\n",
       "2019-06-01 14:59:26-04:00           4\n",
       "2019-06-01 14:59:27-04:00           0\n",
       "2019-06-01 14:59:28-04:00          54\n",
       "2019-06-01 14:59:29-04:00          56\n",
       "2019-06-01 14:59:36-04:00          38\n",
       "2019-06-01 14:59:37-04:00          24\n",
       "2019-06-01 14:59:38-04:00           9\n",
       "2019-06-01 14:59:39-04:00          28\n",
       "2019-06-01 14:59:40-04:00          28\n",
       "2019-06-01 14:59:41-04:00           4\n",
       "2019-06-01 14:59:42-04:00           5\n",
       "2019-06-01 14:59:43-04:00           9\n",
       "2019-06-01 14:59:44-04:00          13\n",
       "2019-06-01 14:59:45-04:00           5\n",
       "2019-06-01 14:59:46-04:00          31\n",
       "2019-06-01 14:59:54-04:00          38\n",
       "2019-06-01 14:59:55-04:00          28\n",
       "2019-06-01 14:59:56-04:00          28\n",
       "2019-06-01 14:59:57-04:00          34\n",
       "2019-06-01 14:59:58-04:00          24\n",
       "2019-06-01 14:59:59-04:00          24\n",
       "\n",
       "[1986 rows x 1 columns]"
      ]
     },
     "execution_count": 87,
     "metadata": {},
     "output_type": "execute_result"
    }
   ],
   "source": [
    "assignments_df = pd.DataFrame(data={'assignment':cluster_assignments}, \\\n",
    "                              index = seconds_b827ebc178d2_timestamps_dt_hour)\n",
    "assignments_df"
   ]
  },
  {
   "cell_type": "code",
   "execution_count": 88,
   "metadata": {},
   "outputs": [],
   "source": [
    "complete_hour = pd.date_range(datetime.datetime(2019, 6, 1, 18), datetime.datetime(2019, 6, 1, 19), periods=3601)\n",
    "seconds_complete_hour = [x.replace(microsecond=0, nanosecond=0) for x in complete_hour]\n",
    "aware_seconds_complete_hour = [pytz.utc.localize(x) for x in seconds_complete_hour]\n",
    "tz_seconds_complete_hour = [x.astimezone(pytz.timezone('US/Eastern')) for x in aware_seconds_complete_hour]"
   ]
  },
  {
   "cell_type": "markdown",
   "metadata": {},
   "source": [
    "0 is unknown, 1 is truck, 2 is other"
   ]
  },
  {
   "cell_type": "code",
   "execution_count": 89,
   "metadata": {
    "scrolled": false
   },
   "outputs": [],
   "source": [
    "complete_assignments_df_hour = assignments_df.reindex(tz_seconds_complete_hour[:3600], axis='index', fill_value = 0)"
   ]
  },
  {
   "cell_type": "code",
   "execution_count": 90,
   "metadata": {},
   "outputs": [],
   "source": [
    "complete_assignments_df_hour = complete_assignments_df_hour.replace(truck_clusters, 1)\n",
    "complete_assignments_df_hour = complete_assignments_df_hour.replace(range(2,64), 2)"
   ]
  },
  {
   "cell_type": "code",
   "execution_count": 91,
   "metadata": {},
   "outputs": [
    {
     "data": {
      "text/html": [
       "<div>\n",
       "<style scoped>\n",
       "    .dataframe tbody tr th:only-of-type {\n",
       "        vertical-align: middle;\n",
       "    }\n",
       "\n",
       "    .dataframe tbody tr th {\n",
       "        vertical-align: top;\n",
       "    }\n",
       "\n",
       "    .dataframe thead th {\n",
       "        text-align: right;\n",
       "    }\n",
       "</style>\n",
       "<table border=\"1\" class=\"dataframe\">\n",
       "  <thead>\n",
       "    <tr style=\"text-align: right;\">\n",
       "      <th></th>\n",
       "      <th>assignment</th>\n",
       "    </tr>\n",
       "  </thead>\n",
       "  <tbody>\n",
       "    <tr>\n",
       "      <th>2019-06-01 14:59:55-04:00</th>\n",
       "      <td>2</td>\n",
       "    </tr>\n",
       "    <tr>\n",
       "      <th>2019-06-01 14:59:56-04:00</th>\n",
       "      <td>2</td>\n",
       "    </tr>\n",
       "    <tr>\n",
       "      <th>2019-06-01 14:59:57-04:00</th>\n",
       "      <td>2</td>\n",
       "    </tr>\n",
       "    <tr>\n",
       "      <th>2019-06-01 14:59:58-04:00</th>\n",
       "      <td>2</td>\n",
       "    </tr>\n",
       "    <tr>\n",
       "      <th>2019-06-01 14:59:59-04:00</th>\n",
       "      <td>2</td>\n",
       "    </tr>\n",
       "  </tbody>\n",
       "</table>\n",
       "</div>"
      ],
      "text/plain": [
       "                           assignment\n",
       "2019-06-01 14:59:55-04:00           2\n",
       "2019-06-01 14:59:56-04:00           2\n",
       "2019-06-01 14:59:57-04:00           2\n",
       "2019-06-01 14:59:58-04:00           2\n",
       "2019-06-01 14:59:59-04:00           2"
      ]
     },
     "execution_count": 91,
     "metadata": {},
     "output_type": "execute_result"
    }
   ],
   "source": [
    "complete_assignments_df_hour.tail()"
   ]
  },
  {
   "cell_type": "markdown",
   "metadata": {},
   "source": [
    "Dataframe spanning over the whole month\n"
   ]
  },
  {
   "cell_type": "code",
   "execution_count": 92,
   "metadata": {},
   "outputs": [],
   "source": [
    "all_cluster_assignments = get_cluster_assignments(64, b827ebc178d2_transformed, projected_45[index])\n",
    "seconds_b827ebc178d2_timestamps_dt = [x.replace(microsecond=0) for x in b827ebc178d2_timestamps_dt]"
   ]
  },
  {
   "cell_type": "code",
   "execution_count": 93,
   "metadata": {},
   "outputs": [
    {
     "data": {
      "text/html": [
       "<div>\n",
       "<style scoped>\n",
       "    .dataframe tbody tr th:only-of-type {\n",
       "        vertical-align: middle;\n",
       "    }\n",
       "\n",
       "    .dataframe tbody tr th {\n",
       "        vertical-align: top;\n",
       "    }\n",
       "\n",
       "    .dataframe thead th {\n",
       "        text-align: right;\n",
       "    }\n",
       "</style>\n",
       "<table border=\"1\" class=\"dataframe\">\n",
       "  <thead>\n",
       "    <tr style=\"text-align: right;\">\n",
       "      <th></th>\n",
       "      <th>assignment</th>\n",
       "    </tr>\n",
       "  </thead>\n",
       "  <tbody>\n",
       "    <tr>\n",
       "      <th>2019-06-01 00:00:16-04:00</th>\n",
       "      <td>17</td>\n",
       "    </tr>\n",
       "    <tr>\n",
       "      <th>2019-06-01 00:00:17-04:00</th>\n",
       "      <td>52</td>\n",
       "    </tr>\n",
       "    <tr>\n",
       "      <th>2019-06-01 00:00:18-04:00</th>\n",
       "      <td>52</td>\n",
       "    </tr>\n",
       "    <tr>\n",
       "      <th>2019-06-01 00:00:19-04:00</th>\n",
       "      <td>4</td>\n",
       "    </tr>\n",
       "    <tr>\n",
       "      <th>2019-06-01 00:00:20-04:00</th>\n",
       "      <td>52</td>\n",
       "    </tr>\n",
       "  </tbody>\n",
       "</table>\n",
       "</div>"
      ],
      "text/plain": [
       "                           assignment\n",
       "2019-06-01 00:00:16-04:00          17\n",
       "2019-06-01 00:00:17-04:00          52\n",
       "2019-06-01 00:00:18-04:00          52\n",
       "2019-06-01 00:00:19-04:00           4\n",
       "2019-06-01 00:00:20-04:00          52"
      ]
     },
     "execution_count": 93,
     "metadata": {},
     "output_type": "execute_result"
    }
   ],
   "source": [
    "assignments_df = pd.DataFrame(data={'assignment':all_cluster_assignments}, \\\n",
    "                              index = seconds_b827ebc178d2_timestamps_dt)\n",
    "assignments_df.head()"
   ]
  },
  {
   "cell_type": "code",
   "execution_count": 94,
   "metadata": {},
   "outputs": [],
   "source": [
    "x1 = pd.DataFrame({'test':np.arange(10)})\n",
    "x2 = pd.DataFrame({'test':np.arange(10,20)})\n",
    "x3 = pd.concat([x1, x2])"
   ]
  },
  {
   "cell_type": "code",
   "execution_count": 95,
   "metadata": {},
   "outputs": [
    {
     "data": {
      "text/plain": [
       "array([False, False, False, False, False, False, False, False, False,\n",
       "       False,  True,  True,  True,  True,  True,  True,  True,  True,\n",
       "        True,  True])"
      ]
     },
     "execution_count": 95,
     "metadata": {},
     "output_type": "execute_result"
    }
   ],
   "source": [
    "x3.index.duplicated()"
   ]
  },
  {
   "cell_type": "code",
   "execution_count": 96,
   "metadata": {},
   "outputs": [
    {
     "data": {
      "text/html": [
       "<div>\n",
       "<style scoped>\n",
       "    .dataframe tbody tr th:only-of-type {\n",
       "        vertical-align: middle;\n",
       "    }\n",
       "\n",
       "    .dataframe tbody tr th {\n",
       "        vertical-align: top;\n",
       "    }\n",
       "\n",
       "    .dataframe thead th {\n",
       "        text-align: right;\n",
       "    }\n",
       "</style>\n",
       "<table border=\"1\" class=\"dataframe\">\n",
       "  <thead>\n",
       "    <tr style=\"text-align: right;\">\n",
       "      <th></th>\n",
       "      <th>assignment</th>\n",
       "    </tr>\n",
       "  </thead>\n",
       "  <tbody>\n",
       "    <tr>\n",
       "      <th>2019-06-12 02:10:12-04:00</th>\n",
       "      <td>48</td>\n",
       "    </tr>\n",
       "    <tr>\n",
       "      <th>2019-06-12 02:10:12-04:00</th>\n",
       "      <td>38</td>\n",
       "    </tr>\n",
       "  </tbody>\n",
       "</table>\n",
       "</div>"
      ],
      "text/plain": [
       "                           assignment\n",
       "2019-06-12 02:10:12-04:00          48\n",
       "2019-06-12 02:10:12-04:00          38"
      ]
     },
     "execution_count": 96,
     "metadata": {},
     "output_type": "execute_result"
    }
   ],
   "source": [
    "assignments_df.loc[assignments_df[assignments_df.index.duplicated()].index[6]]"
   ]
  },
  {
   "cell_type": "markdown",
   "metadata": {},
   "source": [
    "Removed all duplicate entries in dataframe"
   ]
  },
  {
   "cell_type": "code",
   "execution_count": 97,
   "metadata": {},
   "outputs": [],
   "source": [
    "removed_assignments_df = assignments_df[~assignments_df.index.duplicated()]"
   ]
  },
  {
   "cell_type": "code",
   "execution_count": 98,
   "metadata": {},
   "outputs": [],
   "source": [
    "complete = pd.date_range(datetime.datetime(2019, 6, 1, 4), datetime.datetime(2019, 7, 1, 4), periods=3600*24*30)\n",
    "seconds_complete = [x.replace(microsecond=0, nanosecond=0) for x in complete]\n",
    "aware_seconds_complete = [pytz.utc.localize(x) for x in seconds_complete]\n",
    "tz_seconds_complete = [x.astimezone(pytz.timezone('US/Eastern')) for x in aware_seconds_complete]"
   ]
  },
  {
   "cell_type": "markdown",
   "metadata": {},
   "source": [
    "Replaces actual cluster assignment with 0 for no assignment value, 1 for a truck cluster, 2 for every other cluster"
   ]
  },
  {
   "cell_type": "code",
   "execution_count": 99,
   "metadata": {
    "scrolled": false
   },
   "outputs": [],
   "source": [
    "complete_assignments_df = removed_assignments_df.reindex(tz_seconds_complete, axis='index', fill_value = 0)"
   ]
  },
  {
   "cell_type": "code",
   "execution_count": 100,
   "metadata": {},
   "outputs": [],
   "source": [
    "complete_assignments_df = complete_assignments_df.replace(truck_clusters, 1)\n",
    "complete_assignments_df = complete_assignments_df.replace(range(2,64), 2)"
   ]
  },
  {
   "cell_type": "code",
   "execution_count": 101,
   "metadata": {},
   "outputs": [
    {
     "data": {
      "text/html": [
       "<div>\n",
       "<style scoped>\n",
       "    .dataframe tbody tr th:only-of-type {\n",
       "        vertical-align: middle;\n",
       "    }\n",
       "\n",
       "    .dataframe tbody tr th {\n",
       "        vertical-align: top;\n",
       "    }\n",
       "\n",
       "    .dataframe thead th {\n",
       "        text-align: right;\n",
       "    }\n",
       "</style>\n",
       "<table border=\"1\" class=\"dataframe\">\n",
       "  <thead>\n",
       "    <tr style=\"text-align: right;\">\n",
       "      <th></th>\n",
       "      <th>assignment</th>\n",
       "    </tr>\n",
       "  </thead>\n",
       "  <tbody>\n",
       "    <tr>\n",
       "      <th>2019-06-01 00:00:00-04:00</th>\n",
       "      <td>0</td>\n",
       "    </tr>\n",
       "    <tr>\n",
       "      <th>2019-06-01 00:00:01-04:00</th>\n",
       "      <td>0</td>\n",
       "    </tr>\n",
       "    <tr>\n",
       "      <th>2019-06-01 00:00:02-04:00</th>\n",
       "      <td>0</td>\n",
       "    </tr>\n",
       "    <tr>\n",
       "      <th>2019-06-01 00:00:03-04:00</th>\n",
       "      <td>0</td>\n",
       "    </tr>\n",
       "    <tr>\n",
       "      <th>2019-06-01 00:00:04-04:00</th>\n",
       "      <td>0</td>\n",
       "    </tr>\n",
       "  </tbody>\n",
       "</table>\n",
       "</div>"
      ],
      "text/plain": [
       "                           assignment\n",
       "2019-06-01 00:00:00-04:00           0\n",
       "2019-06-01 00:00:01-04:00           0\n",
       "2019-06-01 00:00:02-04:00           0\n",
       "2019-06-01 00:00:03-04:00           0\n",
       "2019-06-01 00:00:04-04:00           0"
      ]
     },
     "execution_count": 101,
     "metadata": {},
     "output_type": "execute_result"
    }
   ],
   "source": [
    "complete_assignments_df.head()"
   ]
  },
  {
   "cell_type": "code",
   "execution_count": 102,
   "metadata": {},
   "outputs": [
    {
     "data": {
      "text/html": [
       "<div>\n",
       "<style scoped>\n",
       "    .dataframe tbody tr th:only-of-type {\n",
       "        vertical-align: middle;\n",
       "    }\n",
       "\n",
       "    .dataframe tbody tr th {\n",
       "        vertical-align: top;\n",
       "    }\n",
       "\n",
       "    .dataframe thead th {\n",
       "        text-align: right;\n",
       "    }\n",
       "</style>\n",
       "<table border=\"1\" class=\"dataframe\">\n",
       "  <thead>\n",
       "    <tr style=\"text-align: right;\">\n",
       "      <th></th>\n",
       "      <th>assignment</th>\n",
       "    </tr>\n",
       "  </thead>\n",
       "  <tbody>\n",
       "    <tr>\n",
       "      <th>2019-06-30 23:59:55-04:00</th>\n",
       "      <td>2</td>\n",
       "    </tr>\n",
       "    <tr>\n",
       "      <th>2019-06-30 23:59:56-04:00</th>\n",
       "      <td>0</td>\n",
       "    </tr>\n",
       "    <tr>\n",
       "      <th>2019-06-30 23:59:57-04:00</th>\n",
       "      <td>0</td>\n",
       "    </tr>\n",
       "    <tr>\n",
       "      <th>2019-06-30 23:59:58-04:00</th>\n",
       "      <td>0</td>\n",
       "    </tr>\n",
       "    <tr>\n",
       "      <th>2019-07-01 00:00:00-04:00</th>\n",
       "      <td>0</td>\n",
       "    </tr>\n",
       "  </tbody>\n",
       "</table>\n",
       "</div>"
      ],
      "text/plain": [
       "                           assignment\n",
       "2019-06-30 23:59:55-04:00           2\n",
       "2019-06-30 23:59:56-04:00           0\n",
       "2019-06-30 23:59:57-04:00           0\n",
       "2019-06-30 23:59:58-04:00           0\n",
       "2019-07-01 00:00:00-04:00           0"
      ]
     },
     "execution_count": 102,
     "metadata": {},
     "output_type": "execute_result"
    }
   ],
   "source": [
    "complete_assignments_df.tail()"
   ]
  },
  {
   "cell_type": "markdown",
   "metadata": {},
   "source": [
    "# Dataframe with timestamp and SPL value"
   ]
  },
  {
   "cell_type": "code",
   "execution_count": 103,
   "metadata": {},
   "outputs": [
    {
     "data": {
      "text/html": [
       "<div>\n",
       "<style scoped>\n",
       "    .dataframe tbody tr th:only-of-type {\n",
       "        vertical-align: middle;\n",
       "    }\n",
       "\n",
       "    .dataframe tbody tr th {\n",
       "        vertical-align: top;\n",
       "    }\n",
       "\n",
       "    .dataframe thead th {\n",
       "        text-align: right;\n",
       "    }\n",
       "</style>\n",
       "<table border=\"1\" class=\"dataframe\">\n",
       "  <thead>\n",
       "    <tr style=\"text-align: right;\">\n",
       "      <th></th>\n",
       "      <th>timestamp</th>\n",
       "      <th>dBAS</th>\n",
       "    </tr>\n",
       "  </thead>\n",
       "  <tbody>\n",
       "    <tr>\n",
       "      <th>0</th>\n",
       "      <td>2019-06-01 00:00:42.690000-04:00</td>\n",
       "      <td>63.53</td>\n",
       "    </tr>\n",
       "    <tr>\n",
       "      <th>1</th>\n",
       "      <td>2019-06-01 00:00:43.690000-04:00</td>\n",
       "      <td>63.73</td>\n",
       "    </tr>\n",
       "    <tr>\n",
       "      <th>2</th>\n",
       "      <td>2019-06-01 00:00:44.690000-04:00</td>\n",
       "      <td>64.94</td>\n",
       "    </tr>\n",
       "    <tr>\n",
       "      <th>3</th>\n",
       "      <td>2019-06-01 00:00:45.690000-04:00</td>\n",
       "      <td>63.09</td>\n",
       "    </tr>\n",
       "    <tr>\n",
       "      <th>4</th>\n",
       "      <td>2019-06-01 00:00:46.690000-04:00</td>\n",
       "      <td>61.66</td>\n",
       "    </tr>\n",
       "  </tbody>\n",
       "</table>\n",
       "</div>"
      ],
      "text/plain": [
       "                         timestamp   dBAS\n",
       "0 2019-06-01 00:00:42.690000-04:00  63.53\n",
       "1 2019-06-01 00:00:43.690000-04:00  63.73\n",
       "2 2019-06-01 00:00:44.690000-04:00  64.94\n",
       "3 2019-06-01 00:00:45.690000-04:00  63.09\n",
       "4 2019-06-01 00:00:46.690000-04:00  61.66"
      ]
     },
     "execution_count": 103,
     "metadata": {},
     "output_type": "execute_result"
    }
   ],
   "source": [
    "time_df.head()"
   ]
  },
  {
   "cell_type": "code",
   "execution_count": 104,
   "metadata": {},
   "outputs": [],
   "source": [
    "naive_time_df = [x.replace(tzinfo=None) for x in time_df['timestamp']]"
   ]
  },
  {
   "cell_type": "code",
   "execution_count": 105,
   "metadata": {},
   "outputs": [],
   "source": [
    "complete_hour_mask = get_time_mask(datetime.datetime(2019, 6, 1, 14), \\\n",
    "                                   datetime.datetime(2019, 6, 1, 15), np.asarray(naive_time_df))"
   ]
  },
  {
   "cell_type": "code",
   "execution_count": 106,
   "metadata": {},
   "outputs": [],
   "source": [
    "seconds_complete_hour_timestamp = [x.replace(microsecond=0) for x in time_df['timestamp'][complete_hour_mask]]"
   ]
  },
  {
   "cell_type": "code",
   "execution_count": 107,
   "metadata": {},
   "outputs": [],
   "source": [
    "dBAS_hour = np.asarray(time_df['dBAS'][complete_hour_mask])"
   ]
  },
  {
   "cell_type": "code",
   "execution_count": 108,
   "metadata": {},
   "outputs": [],
   "source": [
    "spl_hour_df = pd.DataFrame(data={'dBAS': dBAS_hour}, index=seconds_complete_hour_timestamp)"
   ]
  },
  {
   "cell_type": "code",
   "execution_count": 109,
   "metadata": {},
   "outputs": [
    {
     "data": {
      "text/html": [
       "<div>\n",
       "<style scoped>\n",
       "    .dataframe tbody tr th:only-of-type {\n",
       "        vertical-align: middle;\n",
       "    }\n",
       "\n",
       "    .dataframe tbody tr th {\n",
       "        vertical-align: top;\n",
       "    }\n",
       "\n",
       "    .dataframe thead th {\n",
       "        text-align: right;\n",
       "    }\n",
       "</style>\n",
       "<table border=\"1\" class=\"dataframe\">\n",
       "  <thead>\n",
       "    <tr style=\"text-align: right;\">\n",
       "      <th></th>\n",
       "      <th>dBAS</th>\n",
       "    </tr>\n",
       "  </thead>\n",
       "  <tbody>\n",
       "    <tr>\n",
       "      <th>2019-06-01 14:59:55-04:00</th>\n",
       "      <td>63.58</td>\n",
       "    </tr>\n",
       "    <tr>\n",
       "      <th>2019-06-01 14:59:56-04:00</th>\n",
       "      <td>65.32</td>\n",
       "    </tr>\n",
       "    <tr>\n",
       "      <th>2019-06-01 14:59:57-04:00</th>\n",
       "      <td>67.63</td>\n",
       "    </tr>\n",
       "    <tr>\n",
       "      <th>2019-06-01 14:59:58-04:00</th>\n",
       "      <td>69.10</td>\n",
       "    </tr>\n",
       "    <tr>\n",
       "      <th>2019-06-01 14:59:59-04:00</th>\n",
       "      <td>71.14</td>\n",
       "    </tr>\n",
       "  </tbody>\n",
       "</table>\n",
       "</div>"
      ],
      "text/plain": [
       "                            dBAS\n",
       "2019-06-01 14:59:55-04:00  63.58\n",
       "2019-06-01 14:59:56-04:00  65.32\n",
       "2019-06-01 14:59:57-04:00  67.63\n",
       "2019-06-01 14:59:58-04:00  69.10\n",
       "2019-06-01 14:59:59-04:00  71.14"
      ]
     },
     "execution_count": 109,
     "metadata": {},
     "output_type": "execute_result"
    }
   ],
   "source": [
    "spl_hour_df.tail()"
   ]
  },
  {
   "cell_type": "markdown",
   "metadata": {},
   "source": [
    "Complete SPL dataframe"
   ]
  },
  {
   "cell_type": "code",
   "execution_count": 110,
   "metadata": {},
   "outputs": [],
   "source": [
    "seconds_complete_timestamp = [x.replace(microsecond=0) for x in time_df['timestamp']]"
   ]
  },
  {
   "cell_type": "code",
   "execution_count": 111,
   "metadata": {},
   "outputs": [],
   "source": [
    "spl_df = pd.DataFrame(data={'dBAS': dBAS_arr}, index=seconds_complete_timestamp)"
   ]
  },
  {
   "cell_type": "code",
   "execution_count": 112,
   "metadata": {},
   "outputs": [
    {
     "data": {
      "text/html": [
       "<div>\n",
       "<style scoped>\n",
       "    .dataframe tbody tr th:only-of-type {\n",
       "        vertical-align: middle;\n",
       "    }\n",
       "\n",
       "    .dataframe tbody tr th {\n",
       "        vertical-align: top;\n",
       "    }\n",
       "\n",
       "    .dataframe thead th {\n",
       "        text-align: right;\n",
       "    }\n",
       "</style>\n",
       "<table border=\"1\" class=\"dataframe\">\n",
       "  <thead>\n",
       "    <tr style=\"text-align: right;\">\n",
       "      <th></th>\n",
       "      <th>dBAS</th>\n",
       "    </tr>\n",
       "  </thead>\n",
       "  <tbody>\n",
       "    <tr>\n",
       "      <th>2019-07-01 00:00:38-04:00</th>\n",
       "      <td>66.04</td>\n",
       "    </tr>\n",
       "    <tr>\n",
       "      <th>2019-07-01 00:00:39-04:00</th>\n",
       "      <td>69.75</td>\n",
       "    </tr>\n",
       "    <tr>\n",
       "      <th>2019-07-01 00:00:40-04:00</th>\n",
       "      <td>68.68</td>\n",
       "    </tr>\n",
       "    <tr>\n",
       "      <th>2019-07-01 00:00:41-04:00</th>\n",
       "      <td>73.17</td>\n",
       "    </tr>\n",
       "    <tr>\n",
       "      <th>2019-07-01 00:00:42-04:00</th>\n",
       "      <td>77.04</td>\n",
       "    </tr>\n",
       "  </tbody>\n",
       "</table>\n",
       "</div>"
      ],
      "text/plain": [
       "                            dBAS\n",
       "2019-07-01 00:00:38-04:00  66.04\n",
       "2019-07-01 00:00:39-04:00  69.75\n",
       "2019-07-01 00:00:40-04:00  68.68\n",
       "2019-07-01 00:00:41-04:00  73.17\n",
       "2019-07-01 00:00:42-04:00  77.04"
      ]
     },
     "execution_count": 112,
     "metadata": {},
     "output_type": "execute_result"
    }
   ],
   "source": [
    "spl_df.tail()"
   ]
  },
  {
   "cell_type": "markdown",
   "metadata": {},
   "source": [
    "# Joining cluster assignment dataframe and SPL dataframe"
   ]
  },
  {
   "cell_type": "markdown",
   "metadata": {},
   "source": [
    "This dataframe is for the whole month, so if you slice it based on date, it will give you different subsets of information. There is no need to recreate any dataframes."
   ]
  },
  {
   "cell_type": "code",
   "execution_count": 113,
   "metadata": {},
   "outputs": [],
   "source": [
    "all_joined_df = spl_df.join(complete_assignments_df)"
   ]
  },
  {
   "cell_type": "code",
   "execution_count": 114,
   "metadata": {},
   "outputs": [],
   "source": [
    "all_joined_df.loc[pd.isnull(all_joined_df['assignment']), 'assignment'] = 0"
   ]
  },
  {
   "cell_type": "markdown",
   "metadata": {},
   "source": [
    "Gets rid of the extra 42 seconds of data in July 1st"
   ]
  },
  {
   "cell_type": "code",
   "execution_count": 115,
   "metadata": {},
   "outputs": [],
   "source": [
    "all_joined_df_cut = all_joined_df[:-42]"
   ]
  },
  {
   "cell_type": "code",
   "execution_count": 116,
   "metadata": {},
   "outputs": [
    {
     "data": {
      "text/html": [
       "<div>\n",
       "<style scoped>\n",
       "    .dataframe tbody tr th:only-of-type {\n",
       "        vertical-align: middle;\n",
       "    }\n",
       "\n",
       "    .dataframe tbody tr th {\n",
       "        vertical-align: top;\n",
       "    }\n",
       "\n",
       "    .dataframe thead th {\n",
       "        text-align: right;\n",
       "    }\n",
       "</style>\n",
       "<table border=\"1\" class=\"dataframe\">\n",
       "  <thead>\n",
       "    <tr style=\"text-align: right;\">\n",
       "      <th></th>\n",
       "      <th>dBAS</th>\n",
       "      <th>assignment</th>\n",
       "    </tr>\n",
       "  </thead>\n",
       "  <tbody>\n",
       "    <tr>\n",
       "      <th>2019-06-01 00:00:42-04:00</th>\n",
       "      <td>63.53</td>\n",
       "      <td>1.0</td>\n",
       "    </tr>\n",
       "    <tr>\n",
       "      <th>2019-06-01 00:00:43-04:00</th>\n",
       "      <td>63.73</td>\n",
       "      <td>2.0</td>\n",
       "    </tr>\n",
       "    <tr>\n",
       "      <th>2019-06-01 00:00:44-04:00</th>\n",
       "      <td>64.94</td>\n",
       "      <td>2.0</td>\n",
       "    </tr>\n",
       "    <tr>\n",
       "      <th>2019-06-01 00:00:45-04:00</th>\n",
       "      <td>63.09</td>\n",
       "      <td>1.0</td>\n",
       "    </tr>\n",
       "    <tr>\n",
       "      <th>2019-06-01 00:00:46-04:00</th>\n",
       "      <td>61.66</td>\n",
       "      <td>2.0</td>\n",
       "    </tr>\n",
       "  </tbody>\n",
       "</table>\n",
       "</div>"
      ],
      "text/plain": [
       "                            dBAS  assignment\n",
       "2019-06-01 00:00:42-04:00  63.53         1.0\n",
       "2019-06-01 00:00:43-04:00  63.73         2.0\n",
       "2019-06-01 00:00:44-04:00  64.94         2.0\n",
       "2019-06-01 00:00:45-04:00  63.09         1.0\n",
       "2019-06-01 00:00:46-04:00  61.66         2.0"
      ]
     },
     "execution_count": 116,
     "metadata": {},
     "output_type": "execute_result"
    }
   ],
   "source": [
    "all_joined_df_cut.head()"
   ]
  },
  {
   "cell_type": "code",
   "execution_count": 117,
   "metadata": {},
   "outputs": [],
   "source": [
    "hour_joined_df = complete_assignments_df_hour.join(spl_hour_df)"
   ]
  },
  {
   "cell_type": "code",
   "execution_count": 118,
   "metadata": {},
   "outputs": [
    {
     "data": {
      "text/html": [
       "<div>\n",
       "<style scoped>\n",
       "    .dataframe tbody tr th:only-of-type {\n",
       "        vertical-align: middle;\n",
       "    }\n",
       "\n",
       "    .dataframe tbody tr th {\n",
       "        vertical-align: top;\n",
       "    }\n",
       "\n",
       "    .dataframe thead th {\n",
       "        text-align: right;\n",
       "    }\n",
       "</style>\n",
       "<table border=\"1\" class=\"dataframe\">\n",
       "  <thead>\n",
       "    <tr style=\"text-align: right;\">\n",
       "      <th></th>\n",
       "      <th>assignment</th>\n",
       "      <th>dBAS</th>\n",
       "    </tr>\n",
       "  </thead>\n",
       "  <tbody>\n",
       "    <tr>\n",
       "      <th>2019-06-01 14:00:00-04:00</th>\n",
       "      <td>0</td>\n",
       "      <td>58.68</td>\n",
       "    </tr>\n",
       "    <tr>\n",
       "      <th>2019-06-01 14:00:01-04:00</th>\n",
       "      <td>0</td>\n",
       "      <td>58.77</td>\n",
       "    </tr>\n",
       "    <tr>\n",
       "      <th>2019-06-01 14:00:02-04:00</th>\n",
       "      <td>0</td>\n",
       "      <td>59.14</td>\n",
       "    </tr>\n",
       "    <tr>\n",
       "      <th>2019-06-01 14:00:03-04:00</th>\n",
       "      <td>0</td>\n",
       "      <td>57.87</td>\n",
       "    </tr>\n",
       "    <tr>\n",
       "      <th>2019-06-01 14:00:04-04:00</th>\n",
       "      <td>0</td>\n",
       "      <td>58.71</td>\n",
       "    </tr>\n",
       "  </tbody>\n",
       "</table>\n",
       "</div>"
      ],
      "text/plain": [
       "                           assignment   dBAS\n",
       "2019-06-01 14:00:00-04:00           0  58.68\n",
       "2019-06-01 14:00:01-04:00           0  58.77\n",
       "2019-06-01 14:00:02-04:00           0  59.14\n",
       "2019-06-01 14:00:03-04:00           0  57.87\n",
       "2019-06-01 14:00:04-04:00           0  58.71"
      ]
     },
     "execution_count": 118,
     "metadata": {},
     "output_type": "execute_result"
    }
   ],
   "source": [
    "hour_joined_df.head()"
   ]
  },
  {
   "cell_type": "code",
   "execution_count": 119,
   "metadata": {},
   "outputs": [],
   "source": [
    "am_joined_df = all_joined_df_cut['2019-06-01 08:00:00-04:00':'2019-06-01 20:00:00-04:00']"
   ]
  },
  {
   "cell_type": "code",
   "execution_count": 120,
   "metadata": {},
   "outputs": [
    {
     "data": {
      "text/html": [
       "<div>\n",
       "<style scoped>\n",
       "    .dataframe tbody tr th:only-of-type {\n",
       "        vertical-align: middle;\n",
       "    }\n",
       "\n",
       "    .dataframe tbody tr th {\n",
       "        vertical-align: top;\n",
       "    }\n",
       "\n",
       "    .dataframe thead th {\n",
       "        text-align: right;\n",
       "    }\n",
       "</style>\n",
       "<table border=\"1\" class=\"dataframe\">\n",
       "  <thead>\n",
       "    <tr style=\"text-align: right;\">\n",
       "      <th></th>\n",
       "      <th>dBAS</th>\n",
       "      <th>assignment</th>\n",
       "    </tr>\n",
       "  </thead>\n",
       "  <tbody>\n",
       "    <tr>\n",
       "      <th>2019-06-01 19:59:56-04:00</th>\n",
       "      <td>65.82</td>\n",
       "      <td>1.0</td>\n",
       "    </tr>\n",
       "    <tr>\n",
       "      <th>2019-06-01 19:59:57-04:00</th>\n",
       "      <td>62.40</td>\n",
       "      <td>2.0</td>\n",
       "    </tr>\n",
       "    <tr>\n",
       "      <th>2019-06-01 19:59:58-04:00</th>\n",
       "      <td>63.28</td>\n",
       "      <td>2.0</td>\n",
       "    </tr>\n",
       "    <tr>\n",
       "      <th>2019-06-01 19:59:59-04:00</th>\n",
       "      <td>62.96</td>\n",
       "      <td>2.0</td>\n",
       "    </tr>\n",
       "    <tr>\n",
       "      <th>2019-06-01 20:00:00-04:00</th>\n",
       "      <td>63.38</td>\n",
       "      <td>0.0</td>\n",
       "    </tr>\n",
       "  </tbody>\n",
       "</table>\n",
       "</div>"
      ],
      "text/plain": [
       "                            dBAS  assignment\n",
       "2019-06-01 19:59:56-04:00  65.82         1.0\n",
       "2019-06-01 19:59:57-04:00  62.40         2.0\n",
       "2019-06-01 19:59:58-04:00  63.28         2.0\n",
       "2019-06-01 19:59:59-04:00  62.96         2.0\n",
       "2019-06-01 20:00:00-04:00  63.38         0.0"
      ]
     },
     "execution_count": 120,
     "metadata": {},
     "output_type": "execute_result"
    }
   ],
   "source": [
    "am_joined_df.tail()"
   ]
  },
  {
   "cell_type": "code",
   "execution_count": 121,
   "metadata": {},
   "outputs": [],
   "source": [
    "import scipy.signal\n",
    "import scipy.ndimage"
   ]
  },
  {
   "cell_type": "markdown",
   "metadata": {},
   "source": [
    "Sample plot of median filtering of SPL"
   ]
  },
  {
   "cell_type": "code",
   "execution_count": 122,
   "metadata": {},
   "outputs": [
    {
     "data": {
      "text/plain": [
       "[<matplotlib.lines.Line2D at 0x7f602d9594e0>]"
      ]
     },
     "execution_count": 122,
     "metadata": {},
     "output_type": "execute_result"
    },
    {
     "data": {
      "image/png": "[encoded data removed]",
      "text/plain": [
       "<Figure size 1080x360 with 1 Axes>"
      ]
     },
     "metadata": {
      "needs_background": "light"
     },
     "output_type": "display_data"
    }
   ],
   "source": [
    "ds_factor = 1\n",
    "plt.figure(figsize=(15,5))\n",
    "#plt.plot(hour_joined_df['dBAS'].values[::ds_factor], color='b')\n",
    "#plt.plot(scipy.signal.medfilt(hour_joined_df['dBAS'].values[::10], 61), color='g')\n",
    "plt.plot(scipy.signal.medfilt(hour_joined_df['dBAS'].values[::ds_factor], 15), color='g')\n",
    "#plt.plot(scipy.ndimage.maximum_filter(hour_joined_df['dBAS'].values[::ds_factor], 15), color='r')"
   ]
  },
  {
   "cell_type": "markdown",
   "metadata": {},
   "source": [
    "# Plotting truck activity and SPL"
   ]
  },
  {
   "cell_type": "code",
   "execution_count": 123,
   "metadata": {},
   "outputs": [],
   "source": [
    "def plot_truck_clusters_scatter(joined_df, peak_window_size, smoothing_window_size, ds_factor, smoothing):\n",
    "    \"\"\"\n",
    "    Plots the SPL over time with visual cues indicating the presence of trucks over time for one sensor.\n",
    "    \n",
    "    Parameters\n",
    "    ----------\n",
    "    joined_df : dataframe\n",
    "        A dataframe containing timestamps, a column for cluster assignments, and dBAS values.\n",
    "    \n",
    "    peak_window_size : int\n",
    "        Parameter for peak picking\n",
    "        \n",
    "    ds_factor : int\n",
    "        Downsample factor for getting the median\n",
    "        \n",
    "    smoothing : String\n",
    "        Smoothing type, e.g. mean, median, or gaussian.\n",
    "    \"\"\"\n",
    "    y_vals = []\n",
    "    joined_df_reset_index = joined_df.reset_index()\n",
    "    \n",
    "    #Peaks for all SPL values\n",
    "    window = int((peak_window_size-1)/2)\n",
    "    spl_peaks = librosa.util.peak_pick(joined_df['dBAS'], window, window, window, window, 3, 0)\n",
    "    spl_peaks_arr = joined_df_reset_index.loc[spl_peaks]\n",
    "    dBAS_peaks = joined_df['dBAS'][spl_peaks]\n",
    "    timestamp_peaks = joined_df_reset_index['index'][spl_peaks]\n",
    "   \n",
    "    truck_timestamp_peaks = spl_peaks_arr['index'].loc[spl_peaks_arr['assignment']==1]\n",
    "    print(truck_timestamp_peaks)\n",
    "    truck_dBAS_peaks = spl_peaks_arr['dBAS'].loc[spl_peaks_arr['assignment']==1]\n",
    "    print(truck_dBAS_peaks)\n",
    "    \n",
    "    \n",
    "    #Peaks for SPL values corresponding to other clusters\n",
    "    other_dBAS_peaks = spl_peaks_arr.loc[spl_peaks_arr['assignment']==2]['dBAS']\n",
    "    other_timestamp_peaks = spl_peaks_arr.loc[spl_peaks_arr['assignment']==2]['index']\n",
    "    \n",
    "    fig, ax1 = plt.subplots()  \n",
    "    color = 'b'\n",
    "    \n",
    "    ax1.set_xlabel('time')\n",
    "    ax1.set_ylabel('SPL', color=color)\n",
    "        \n",
    "    #Plot all SPL peaks\n",
    "    #Plot dot over max SPL value when that value corresponds to a trucking instance\n",
    "    ax1.scatter(truck_timestamp_peaks, truck_dBAS_peaks, color='r', s=20)\n",
    "    ax1.tick_params(axis='y', labelcolor=color)\n",
    "    \n",
    "    #Plot SPL peaks corresponding to other clusters\n",
    "    ax1.scatter(other_timestamp_peaks, other_dBAS_peaks, color='tab:gray', s=20)\n",
    "    ax1.set_xlim([joined_df_reset_index['index'].iloc[0], joined_df_reset_index['index'].iloc[-1]])\n",
    "    \n",
    "    if smoothing == 'median':\n",
    "        medfit = scipy.signal.medfilt(joined_df['dBAS'].values, smoothing_window_size)[::ds_factor]\n",
    "        ax1.plot(joined_df.iloc[::ds_factor].reset_index()['index'], medfit, color='g')\n",
    "        max_y = medfit\n",
    "    elif smoothing == 'mean':\n",
    "        mean_filter = scipy.ndimage.convolve(joined_df['dBAS'].values, \n",
    "                                             np.ones(smoothing_window_size) / smoothing_window_size)[::ds_factor]\n",
    "        ax1.plot(joined_df.iloc[::ds_factor].reset_index()['index'], mean_filter, color='g')\n",
    "        max_y = mean_filter        \n",
    "    elif smoothing == 'gaussian':\n",
    "        gaussian_filter = scipy.ndimage.filters.gaussian_filter(joined_df['dBAS'].values, smoothing_window_size)[::ds_factor]\n",
    "        ax1.plot(joined_df.iloc[::ds_factor].reset_index()['index'], gaussian_filter, color='g')\n",
    "        max_y = gaussian_filter\n",
    "    else:\n",
    "        raise Exception('Unknown smoothing type')\n",
    "    \n",
    "    print(len(joined_df.iloc[::ds_factor]))\n",
    "    #Plot regions corresponding to trucks\n",
    "    ax1.fill_between(x=joined_df.iloc[::ds_factor].reset_index()['index'], \\\n",
    "                     y1=len(joined_df.iloc[::ds_factor]['dBAS'])*[joined_df['dBAS'].min()], \\\n",
    "                     y2=max_y, \\\n",
    "                     where=joined_df.iloc[::ds_factor].reset_index()['assignment']==1, \\\n",
    "                     color='r', alpha=0.5)\n",
    "    \n",
    "    #Plot regions corresponding to other clusters\n",
    "    ax1.fill_between(x=joined_df.iloc[::ds_factor].reset_index()['index'], \\\n",
    "                     y1=len(joined_df.iloc[::ds_factor]['dBAS'])*[joined_df['dBAS'].min()], \\\n",
    "                     y2=max_y, where=joined_df.iloc[::ds_factor].reset_index()['assignment']==2, \\\n",
    "                     color='tab:gray', alpha=0.5)\n",
    "    \n",
    "    ax1.set_ylim(joined_df['dBAS'].min())\n",
    "    fig.set_size_inches(18.5, 10.5)\n",
    "    fig.tight_layout()\n",
    "    fig.show()"
   ]
  },
  {
   "cell_type": "code",
   "execution_count": 124,
   "metadata": {
    "scrolled": false
   },
   "outputs": [],
   "source": [
    "# plot_truck_clusters_scatter(hour_joined_df, hour_joined_df.index[0], hour_joined_df.index[-1], 7, 11, 1, 'gaussian')"
   ]
  },
  {
   "cell_type": "code",
   "execution_count": 125,
   "metadata": {},
   "outputs": [],
   "source": [
    "# all_joined_df_cut['2019-06-03 14:00:00-04:00':'2019-06-03 14:30:00-04:00'].iloc[::15].reset_index()['index']"
   ]
  },
  {
   "cell_type": "code",
   "execution_count": 126,
   "metadata": {},
   "outputs": [
    {
     "name": "stderr",
     "output_type": "stream",
     "text": [
      "/home/cusp/meh708/.conda/envs/redhook_analysis_storage/lib/python3.7/site-packages/numpy/core/fromnumeric.py:56: FutureWarning: Series.nonzero() is deprecated and will be removed in a future version.Use Series.to_numpy().nonzero() instead\n",
      "  return getattr(obj, method)(*args, **kwds)\n"
     ]
    },
    {
     "name": "stdout",
     "output_type": "stream",
     "text": [
      "859    2019-06-03 14:14:19-04:00\n",
      "1715   2019-06-03 14:28:35-04:00\n",
      "Name: index, dtype: datetime64[ns, US/Eastern]\n",
      "859     79.20\n",
      "1715    69.24\n",
      "Name: dBAS, dtype: float64\n",
      "121\n"
     ]
    },
    {
     "data": {
      "image/png": "[encoded data removed]",
      "text/plain": [
       "<Figure size 1332x756 with 1 Axes>"
      ]
     },
     "metadata": {
      "needs_background": "light"
     },
     "output_type": "display_data"
    }
   ],
   "source": [
    "plot_truck_clusters_scatter(all_joined_df_cut['2019-06-03 14:00:00-04:00':'2019-06-03 14:30:00-04:00'], \\\n",
    "                            7, 11, 15, 'mean')"
   ]
  },
  {
   "cell_type": "code",
   "execution_count": 127,
   "metadata": {},
   "outputs": [],
   "source": [
    "# plot_truck_clusters_scatter(all_joined_df_cut['2019-06-03 14:40:00-04:00':'2019-06-03 14:50:00-04:00'], \\\n",
    "#                             7, 0.5, 1, 'gaussian')"
   ]
  },
  {
   "cell_type": "markdown",
   "metadata": {},
   "source": [
    "# Creating matrix of SPL values over each day"
   ]
  },
  {
   "cell_type": "markdown",
   "metadata": {},
   "source": [
    "Matrix of time and day, containing SPL values for every second of every day (only weekdays)"
   ]
  },
  {
   "cell_type": "code",
   "execution_count": 128,
   "metadata": {},
   "outputs": [],
   "source": [
    "spl_complete = spl_df['dBAS']"
   ]
  },
  {
   "cell_type": "code",
   "execution_count": 129,
   "metadata": {},
   "outputs": [],
   "source": [
    "beginning_spl_indices = \\\n",
    "pd.date_range(datetime.datetime(2019, 6, 1, 4, 0, 0), datetime.datetime(2019, 6, 1, 4, 0, 42), periods=42)\n",
    "beginning_spl_indices = [x.replace(microsecond=0, nanosecond=0) for x in beginning_spl_indices]\n",
    "beginning_spl_indices = [pytz.utc.localize(x) for x in beginning_spl_indices]\n",
    "beginning_spl_indices = [x.astimezone(pytz.timezone('US/Eastern')) for x in beginning_spl_indices]"
   ]
  },
  {
   "cell_type": "code",
   "execution_count": 130,
   "metadata": {},
   "outputs": [],
   "source": [
    "beginning_spl = pd.Series(np.nan, index=beginning_spl_indices)"
   ]
  },
  {
   "cell_type": "code",
   "execution_count": 131,
   "metadata": {
    "scrolled": true
   },
   "outputs": [],
   "source": [
    "spl_complete_2 = pd.concat([beginning_spl, spl_complete])"
   ]
  },
  {
   "cell_type": "code",
   "execution_count": 132,
   "metadata": {},
   "outputs": [],
   "source": [
    "spl_complete_month = spl_complete_2[:-43]"
   ]
  },
  {
   "cell_type": "markdown",
   "metadata": {},
   "source": [
    "Filtering to only include weekday values"
   ]
  },
  {
   "cell_type": "code",
   "execution_count": 133,
   "metadata": {},
   "outputs": [],
   "source": [
    "spl_complete_month_weekdays = spl_complete_month[spl_complete_month.index.dayofweek < 5]"
   ]
  },
  {
   "cell_type": "code",
   "execution_count": 134,
   "metadata": {},
   "outputs": [
    {
     "data": {
      "image/png": "[encoded data removed]",
      "text/plain": [
       "<Figure size 1440x360 with 1 Axes>"
      ]
     },
     "metadata": {
      "needs_background": "light"
     },
     "output_type": "display_data"
    }
   ],
   "source": [
    "plt.figure(figsize=(20,5))\n",
    "plt.plot(spl_complete_month_weekdays)\n",
    "plt.show()"
   ]
  },
  {
   "cell_type": "markdown",
   "metadata": {},
   "source": [
    "Removing duplicate values"
   ]
  },
  {
   "cell_type": "code",
   "execution_count": 135,
   "metadata": {},
   "outputs": [],
   "source": [
    "spl_complete_month_weekdays = spl_complete_month_weekdays[~spl_complete_month_weekdays.index.duplicated()]"
   ]
  },
  {
   "cell_type": "code",
   "execution_count": 136,
   "metadata": {},
   "outputs": [],
   "source": [
    "def get_median(spl_arr):\n",
    "    \"\"\"\n",
    "    Returns an array of median SPL values for each second over every weekday in June. For each second of the day, it \n",
    "    takes the median SPL over all weekdays, so that there is a medial SPL value for each second.\n",
    "    \n",
    "    Parameters\n",
    "    ----------\n",
    "    spl_arr : float array with datetime index\n",
    "        Array with a datetime index and SPL values corresponding to the index.\n",
    "    \"\"\"\n",
    "    \n",
    "    #Creates an array of all days in the spl arr\n",
    "    all_day_arr = []\n",
    "    print(np.unique(spl_arr.index.day))\n",
    "    for day in np.unique(spl_arr.index.day):\n",
    "        day_arr = [x for x in spl_arr.reset_index()['index'] \\\n",
    "                   if x.day==day]\n",
    "        all_day_arr.append(day_arr)\n",
    "        print(str(day) + ': ' + str(len(day_arr)))\n",
    "\n",
    "    #Creates a matrix of each second of the day and all the days in the all_day_arr, in order to get the median across\n",
    "    #the days\n",
    "    day_time_matrix = np.ndarray((86400,len(all_day_arr)))\n",
    "    for i,day in enumerate(all_day_arr):\n",
    "        complete_day_arr = np.zeros(86400)\n",
    "        for time in day:\n",
    "            num_secs_since_beginning = 3600*time.hour + 60*time.minute + time.second\n",
    "            complete_day_arr[num_secs_since_beginning] = \\\n",
    "            spl_arr.loc[time]\n",
    "        #changes zeros to NaN values for the purposes of getting a median\n",
    "        complete_day_arr[complete_day_arr<1] = np.nan\n",
    "\n",
    "        day_time_matrix[:,i] = complete_day_arr\n",
    "    \n",
    "    median_arr = np.nanmedian(day_time_matrix, axis=1)\n",
    "    \n",
    "    return median_arr"
   ]
  },
  {
   "cell_type": "markdown",
   "metadata": {},
   "source": [
    "# Creating median array for weekends"
   ]
  },
  {
   "cell_type": "code",
   "execution_count": 137,
   "metadata": {},
   "outputs": [],
   "source": [
    "spl_complete_month_weekends = spl_complete_month[spl_complete_month.index.dayofweek >= 5]"
   ]
  },
  {
   "cell_type": "code",
   "execution_count": 138,
   "metadata": {},
   "outputs": [],
   "source": [
    "spl_complete_month_weekends = spl_complete_month_weekends[~spl_complete_month_weekends.index.duplicated()]"
   ]
  },
  {
   "cell_type": "code",
   "execution_count": 139,
   "metadata": {},
   "outputs": [
    {
     "name": "stdout",
     "output_type": "stream",
     "text": [
      "[ 1  2  8  9 15 16 22 23 29 30]\n",
      "1: 86337\n",
      "2: 86338\n",
      "8: 86335\n",
      "9: 86201\n",
      "15: 86335\n",
      "16: 86338\n",
      "22: 86335\n",
      "23: 86244\n",
      "29: 86335\n",
      "30: 86340\n"
     ]
    },
    {
     "name": "stderr",
     "output_type": "stream",
     "text": [
      "/home/cusp/meh708/.conda/envs/redhook_analysis_storage/lib/python3.7/site-packages/ipykernel_launcher.py:31: RuntimeWarning: invalid value encountered in less\n"
     ]
    }
   ],
   "source": [
    "weekend_medians = get_median(spl_complete_month_weekends)"
   ]
  },
  {
   "cell_type": "code",
   "execution_count": 140,
   "metadata": {},
   "outputs": [
    {
     "data": {
      "text/plain": [
       "array([61.01, 63.16, 64.48, ..., 59.1 , 59.  , 59.37])"
      ]
     },
     "execution_count": 140,
     "metadata": {},
     "output_type": "execute_result"
    }
   ],
   "source": [
    "weekend_medians"
   ]
  },
  {
   "cell_type": "code",
   "execution_count": 141,
   "metadata": {},
   "outputs": [
    {
     "name": "stdout",
     "output_type": "stream",
     "text": [
      "[ 3  4  5  6  7 10 11 12 13 14 17 18 19 20 21 24 25 26 27 28]\n",
      "3: 86340\n",
      "4: 86338\n",
      "5: 86339\n",
      "6: 86333\n",
      "7: 86341\n",
      "10: 86361\n",
      "11: 86337\n",
      "12: 86325\n",
      "13: 86349\n",
      "14: 86338\n",
      "17: 86338\n",
      "18: 86337\n",
      "19: 86339\n",
      "20: 86341\n",
      "21: 86336\n",
      "24: 86316\n",
      "25: 86338\n",
      "26: 86087\n",
      "27: 86218\n",
      "28: 86356\n"
     ]
    }
   ],
   "source": [
    "weekday_medians = get_median(spl_complete_month_weekdays)"
   ]
  },
  {
   "cell_type": "code",
   "execution_count": 142,
   "metadata": {},
   "outputs": [
    {
     "data": {
      "text/plain": [
       "array([57.755, 58.22 , 57.98 , ..., 58.86 , 58.805, 59.135])"
      ]
     },
     "execution_count": 142,
     "metadata": {},
     "output_type": "execute_result"
    }
   ],
   "source": [
    "weekday_medians"
   ]
  },
  {
   "cell_type": "code",
   "execution_count": 143,
   "metadata": {},
   "outputs": [
    {
     "data": {
      "text/plain": [
       "84298"
      ]
     },
     "execution_count": 143,
     "metadata": {},
     "output_type": "execute_result"
    }
   ],
   "source": [
    "2589898 % len(weekday_medians)"
   ]
  },
  {
   "cell_type": "markdown",
   "metadata": {},
   "source": [
    "Plot of weekday median SPL over one day"
   ]
  },
  {
   "cell_type": "code",
   "execution_count": 144,
   "metadata": {},
   "outputs": [
    {
     "data": {
      "image/png": "[encoded data removed]",
      "text/plain": [
       "<Figure size 1440x360 with 1 Axes>"
      ]
     },
     "metadata": {
      "needs_background": "light"
     },
     "output_type": "display_data"
    }
   ],
   "source": [
    "plt.figure(figsize=(20,5))\n",
    "# plt.plot(spl_complete_month_weekdays)\n",
    "#plt.plot(scipy.ndimage.convolve(weekday_medians, np.ones(1001)/1001))\n",
    "plt.plot(scipy.ndimage.gaussian_filter1d(weekday_medians, 1000))\n",
    "plt.show()"
   ]
  },
  {
   "cell_type": "markdown",
   "metadata": {},
   "source": [
    "Plot of weekend median SPL over one day"
   ]
  },
  {
   "cell_type": "code",
   "execution_count": 145,
   "metadata": {},
   "outputs": [
    {
     "data": {
      "image/png": "[encoded data removed]",
      "text/plain": [
       "<Figure size 1440x360 with 1 Axes>"
      ]
     },
     "metadata": {
      "needs_background": "light"
     },
     "output_type": "display_data"
    }
   ],
   "source": [
    "plt.figure(figsize=(20,5))\n",
    "# plt.plot(spl_complete_month_weekdays)\n",
    "#plt.plot(scipy.ndimage.convolve(weekday_medians, np.ones(1001)/1001))\n",
    "plt.plot(scipy.ndimage.gaussian_filter1d(weekend_medians, 1000))\n",
    "plt.show()"
   ]
  },
  {
   "cell_type": "markdown",
   "metadata": {},
   "source": [
    "# Creating dataframe with weekday medians for whole month"
   ]
  },
  {
   "cell_type": "markdown",
   "metadata": {},
   "source": [
    "First 42 seconds of June that somehow didn't get included in the measured SPL data"
   ]
  },
  {
   "cell_type": "code",
   "execution_count": 146,
   "metadata": {
    "scrolled": true
   },
   "outputs": [],
   "source": [
    "beginning_spl_indices_series = pd.Series(data=beginning_spl_indices)"
   ]
  },
  {
   "cell_type": "markdown",
   "metadata": {},
   "source": [
    "Creating datetime indices spanning the whole month, with the additional 42 secs in the beginning of June"
   ]
  },
  {
   "cell_type": "code",
   "execution_count": 147,
   "metadata": {},
   "outputs": [],
   "source": [
    "medians_df_index = pd.concat([beginning_spl_indices_series[0:42], all_joined_df.reset_index()['index']])"
   ]
  },
  {
   "cell_type": "code",
   "execution_count": 148,
   "metadata": {},
   "outputs": [],
   "source": [
    "month_weekday_median = np.empty(len(medians_df_index))"
   ]
  },
  {
   "cell_type": "code",
   "execution_count": 149,
   "metadata": {},
   "outputs": [],
   "source": [
    "for i in range(len(medians_df_index)):\n",
    "    month_weekday_median[i] = weekday_medians[i%len(weekday_medians)]"
   ]
  },
  {
   "cell_type": "code",
   "execution_count": 150,
   "metadata": {},
   "outputs": [
    {
     "data": {
      "text/plain": [
       "array([57.755, 58.22 , 57.98 , ..., 62.44 , 60.525, 62.255])"
      ]
     },
     "execution_count": 150,
     "metadata": {},
     "output_type": "execute_result"
    }
   ],
   "source": [
    "month_weekday_median"
   ]
  },
  {
   "cell_type": "code",
   "execution_count": 151,
   "metadata": {},
   "outputs": [],
   "source": [
    "weekday_medians_df = pd.DataFrame({'median_dBAS':month_weekday_median}, index=medians_df_index)"
   ]
  },
  {
   "cell_type": "code",
   "execution_count": 152,
   "metadata": {},
   "outputs": [
    {
     "data": {
      "text/html": [
       "<div>\n",
       "<style scoped>\n",
       "    .dataframe tbody tr th:only-of-type {\n",
       "        vertical-align: middle;\n",
       "    }\n",
       "\n",
       "    .dataframe tbody tr th {\n",
       "        vertical-align: top;\n",
       "    }\n",
       "\n",
       "    .dataframe thead th {\n",
       "        text-align: right;\n",
       "    }\n",
       "</style>\n",
       "<table border=\"1\" class=\"dataframe\">\n",
       "  <thead>\n",
       "    <tr style=\"text-align: right;\">\n",
       "      <th></th>\n",
       "      <th>median_dBAS</th>\n",
       "    </tr>\n",
       "  </thead>\n",
       "  <tbody>\n",
       "    <tr>\n",
       "      <th>2019-07-01 00:00:38-04:00</th>\n",
       "      <td>61.100</td>\n",
       "    </tr>\n",
       "    <tr>\n",
       "      <th>2019-07-01 00:00:39-04:00</th>\n",
       "      <td>61.420</td>\n",
       "    </tr>\n",
       "    <tr>\n",
       "      <th>2019-07-01 00:00:40-04:00</th>\n",
       "      <td>62.440</td>\n",
       "    </tr>\n",
       "    <tr>\n",
       "      <th>2019-07-01 00:00:41-04:00</th>\n",
       "      <td>60.525</td>\n",
       "    </tr>\n",
       "    <tr>\n",
       "      <th>2019-07-01 00:00:42-04:00</th>\n",
       "      <td>62.255</td>\n",
       "    </tr>\n",
       "  </tbody>\n",
       "</table>\n",
       "</div>"
      ],
      "text/plain": [
       "                           median_dBAS\n",
       "2019-07-01 00:00:38-04:00       61.100\n",
       "2019-07-01 00:00:39-04:00       61.420\n",
       "2019-07-01 00:00:40-04:00       62.440\n",
       "2019-07-01 00:00:41-04:00       60.525\n",
       "2019-07-01 00:00:42-04:00       62.255"
      ]
     },
     "execution_count": 152,
     "metadata": {},
     "output_type": "execute_result"
    }
   ],
   "source": [
    "weekday_medians_df.tail()"
   ]
  },
  {
   "cell_type": "code",
   "execution_count": 153,
   "metadata": {},
   "outputs": [],
   "source": [
    "# plt.figure(figsize=(20,5))\n",
    "# # plt.plot(spl_complete_month_weekdays)\n",
    "# #plt.plot(scipy.ndimage.convolve(weekday_medians, np.ones(1001)/1001))\n",
    "# plt.plot(weekday_medians_df.reset_index()['index'], \\\n",
    "#          scipy.ndimage.gaussian_filter1d(weekday_medians_df['median_dBAS'], 1000))\n",
    "# plt.show()"
   ]
  },
  {
   "cell_type": "markdown",
   "metadata": {},
   "source": [
    "# Creating dataframe with weekday medians for whole month"
   ]
  },
  {
   "cell_type": "code",
   "execution_count": 154,
   "metadata": {},
   "outputs": [],
   "source": [
    "weekend_medians_df_indices = weekday_medians_df.loc[weekday_medians_df.index.dayofweek>=5].index"
   ]
  },
  {
   "cell_type": "code",
   "execution_count": 159,
   "metadata": {},
   "outputs": [],
   "source": [
    "weekend_medians_df_values = np.empty(len(weekend_medians_df_indices))"
   ]
  },
  {
   "cell_type": "markdown",
   "metadata": {},
   "source": [
    "Replacing weekday values in weekend times with the weekend median SPL"
   ]
  },
  {
   "cell_type": "code",
   "execution_count": 161,
   "metadata": {},
   "outputs": [],
   "source": [
    "for x in range(len(weekend_medians_df_values)):\n",
    "    weekend_medians_df_values[x] = weekend_medians[x % len(weekend_medians)]"
   ]
  },
  {
   "cell_type": "code",
   "execution_count": 162,
   "metadata": {},
   "outputs": [
    {
     "data": {
      "text/plain": [
       "array([61.01, 63.16, 64.48, ..., 59.41, 58.84, 58.08])"
      ]
     },
     "execution_count": 162,
     "metadata": {},
     "output_type": "execute_result"
    }
   ],
   "source": [
    "weekend_medians_df_values"
   ]
  },
  {
   "cell_type": "markdown",
   "metadata": {},
   "source": [
    "Making a dataframe with weekend medians"
   ]
  },
  {
   "cell_type": "code",
   "execution_count": 163,
   "metadata": {},
   "outputs": [],
   "source": [
    "weekend_medians_df = pd.DataFrame({'median_dBAS':weekend_medians_df_values}, index=weekend_medians_df_indices)"
   ]
  },
  {
   "cell_type": "code",
   "execution_count": 164,
   "metadata": {},
   "outputs": [],
   "source": [
    "weekend_medians_df = weekend_medians_df[~weekend_medians_df.index.duplicated()]"
   ]
  },
  {
   "cell_type": "code",
   "execution_count": 165,
   "metadata": {},
   "outputs": [
    {
     "data": {
      "text/html": [
       "<div>\n",
       "<style scoped>\n",
       "    .dataframe tbody tr th:only-of-type {\n",
       "        vertical-align: middle;\n",
       "    }\n",
       "\n",
       "    .dataframe tbody tr th {\n",
       "        vertical-align: top;\n",
       "    }\n",
       "\n",
       "    .dataframe thead th {\n",
       "        text-align: right;\n",
       "    }\n",
       "</style>\n",
       "<table border=\"1\" class=\"dataframe\">\n",
       "  <thead>\n",
       "    <tr style=\"text-align: right;\">\n",
       "      <th></th>\n",
       "      <th>median_dBAS</th>\n",
       "    </tr>\n",
       "  </thead>\n",
       "  <tbody>\n",
       "    <tr>\n",
       "      <th>2019-06-30 23:59:55-04:00</th>\n",
       "      <td>58.480</td>\n",
       "    </tr>\n",
       "    <tr>\n",
       "      <th>2019-06-30 23:59:56-04:00</th>\n",
       "      <td>59.075</td>\n",
       "    </tr>\n",
       "    <tr>\n",
       "      <th>2019-06-30 23:59:57-04:00</th>\n",
       "      <td>59.410</td>\n",
       "    </tr>\n",
       "    <tr>\n",
       "      <th>2019-06-30 23:59:58-04:00</th>\n",
       "      <td>58.840</td>\n",
       "    </tr>\n",
       "    <tr>\n",
       "      <th>2019-06-30 23:59:59-04:00</th>\n",
       "      <td>58.080</td>\n",
       "    </tr>\n",
       "  </tbody>\n",
       "</table>\n",
       "</div>"
      ],
      "text/plain": [
       "                           median_dBAS\n",
       "2019-06-30 23:59:55-04:00       58.480\n",
       "2019-06-30 23:59:56-04:00       59.075\n",
       "2019-06-30 23:59:57-04:00       59.410\n",
       "2019-06-30 23:59:58-04:00       58.840\n",
       "2019-06-30 23:59:59-04:00       58.080"
      ]
     },
     "execution_count": 165,
     "metadata": {},
     "output_type": "execute_result"
    }
   ],
   "source": [
    "weekend_medians_df.tail()"
   ]
  },
  {
   "cell_type": "markdown",
   "metadata": {},
   "source": [
    "# Replacing weekend values in dataframe with correct values"
   ]
  },
  {
   "cell_type": "markdown",
   "metadata": {},
   "source": [
    "Merging dataframe with weekday median values and dataframe with weekend median values. The dataframe with weekday median values has indices for the whole month. Indices that are on the weekend will be replaced with the weekend median values."
   ]
  },
  {
   "cell_type": "code",
   "execution_count": 166,
   "metadata": {},
   "outputs": [],
   "source": [
    "both_medians_df = weekday_medians_df.merge(weekend_medians_df, how='outer', left_index=True, right_index=True)"
   ]
  },
  {
   "cell_type": "markdown",
   "metadata": {},
   "source": [
    "median_dBAS_x is the weekday median values, median_dBAS_y is the weekend median values. Since this is an outer join, many values in median_dBAS_y will be NaN."
   ]
  },
  {
   "cell_type": "code",
   "execution_count": 167,
   "metadata": {},
   "outputs": [
    {
     "data": {
      "text/html": [
       "<div>\n",
       "<style scoped>\n",
       "    .dataframe tbody tr th:only-of-type {\n",
       "        vertical-align: middle;\n",
       "    }\n",
       "\n",
       "    .dataframe tbody tr th {\n",
       "        vertical-align: top;\n",
       "    }\n",
       "\n",
       "    .dataframe thead th {\n",
       "        text-align: right;\n",
       "    }\n",
       "</style>\n",
       "<table border=\"1\" class=\"dataframe\">\n",
       "  <thead>\n",
       "    <tr style=\"text-align: right;\">\n",
       "      <th></th>\n",
       "      <th>median_dBAS_x</th>\n",
       "      <th>median_dBAS_y</th>\n",
       "    </tr>\n",
       "  </thead>\n",
       "  <tbody>\n",
       "    <tr>\n",
       "      <th>2019-06-01 00:00:00-04:00</th>\n",
       "      <td>57.755</td>\n",
       "      <td>61.01</td>\n",
       "    </tr>\n",
       "    <tr>\n",
       "      <th>2019-06-01 00:00:01-04:00</th>\n",
       "      <td>58.220</td>\n",
       "      <td>63.16</td>\n",
       "    </tr>\n",
       "    <tr>\n",
       "      <th>2019-06-01 00:00:02-04:00</th>\n",
       "      <td>57.980</td>\n",
       "      <td>64.48</td>\n",
       "    </tr>\n",
       "    <tr>\n",
       "      <th>2019-06-01 00:00:03-04:00</th>\n",
       "      <td>58.360</td>\n",
       "      <td>63.70</td>\n",
       "    </tr>\n",
       "    <tr>\n",
       "      <th>2019-06-01 00:00:04-04:00</th>\n",
       "      <td>58.730</td>\n",
       "      <td>63.76</td>\n",
       "    </tr>\n",
       "  </tbody>\n",
       "</table>\n",
       "</div>"
      ],
      "text/plain": [
       "                           median_dBAS_x  median_dBAS_y\n",
       "2019-06-01 00:00:00-04:00         57.755          61.01\n",
       "2019-06-01 00:00:01-04:00         58.220          63.16\n",
       "2019-06-01 00:00:02-04:00         57.980          64.48\n",
       "2019-06-01 00:00:03-04:00         58.360          63.70\n",
       "2019-06-01 00:00:04-04:00         58.730          63.76"
      ]
     },
     "execution_count": 167,
     "metadata": {},
     "output_type": "execute_result"
    }
   ],
   "source": [
    "both_medians_df.head()"
   ]
  },
  {
   "cell_type": "markdown",
   "metadata": {},
   "source": [
    "Creates a new column that replaces weekday median values that are in the weekend index with the weekend median values."
   ]
  },
  {
   "cell_type": "code",
   "execution_count": 168,
   "metadata": {},
   "outputs": [],
   "source": [
    "both_medians_df['median_dBAS'] = \\\n",
    "both_medians_df['median_dBAS_x'].where(both_medians_df['median_dBAS_y'].isnull(), \\\n",
    "                                                                              both_medians_df['median_dBAS_y'])"
   ]
  },
  {
   "cell_type": "markdown",
   "metadata": {},
   "source": [
    "Example: "
   ]
  },
  {
   "cell_type": "code",
   "execution_count": 169,
   "metadata": {},
   "outputs": [
    {
     "data": {
      "text/plain": [
       "median_dBAS_x    67.365\n",
       "median_dBAS_y       NaN\n",
       "median_dBAS      67.365\n",
       "Name: 2019-06-28 23:00:33-04:00, dtype: float64"
      ]
     },
     "execution_count": 169,
     "metadata": {},
     "output_type": "execute_result"
    }
   ],
   "source": [
    "both_medians_df.loc['2019-06-28 23:00:33-04:00']"
   ]
  },
  {
   "cell_type": "markdown",
   "metadata": {},
   "source": [
    "Gets rid of the columns with weekday and weekend median values, since we have a column with the correct median values for both weekdays and weekends."
   ]
  },
  {
   "cell_type": "code",
   "execution_count": 170,
   "metadata": {},
   "outputs": [],
   "source": [
    "both_medians_df = both_medians_df.drop(['median_dBAS_x', 'median_dBAS_y'], axis=1)"
   ]
  },
  {
   "cell_type": "code",
   "execution_count": 171,
   "metadata": {},
   "outputs": [
    {
     "data": {
      "text/html": [
       "<div>\n",
       "<style scoped>\n",
       "    .dataframe tbody tr th:only-of-type {\n",
       "        vertical-align: middle;\n",
       "    }\n",
       "\n",
       "    .dataframe tbody tr th {\n",
       "        vertical-align: top;\n",
       "    }\n",
       "\n",
       "    .dataframe thead th {\n",
       "        text-align: right;\n",
       "    }\n",
       "</style>\n",
       "<table border=\"1\" class=\"dataframe\">\n",
       "  <thead>\n",
       "    <tr style=\"text-align: right;\">\n",
       "      <th></th>\n",
       "      <th>median_dBAS</th>\n",
       "    </tr>\n",
       "  </thead>\n",
       "  <tbody>\n",
       "    <tr>\n",
       "      <th>2019-06-01 00:00:00-04:00</th>\n",
       "      <td>61.01</td>\n",
       "    </tr>\n",
       "    <tr>\n",
       "      <th>2019-06-01 00:00:01-04:00</th>\n",
       "      <td>63.16</td>\n",
       "    </tr>\n",
       "    <tr>\n",
       "      <th>2019-06-01 00:00:02-04:00</th>\n",
       "      <td>64.48</td>\n",
       "    </tr>\n",
       "    <tr>\n",
       "      <th>2019-06-01 00:00:03-04:00</th>\n",
       "      <td>63.70</td>\n",
       "    </tr>\n",
       "    <tr>\n",
       "      <th>2019-06-01 00:00:04-04:00</th>\n",
       "      <td>63.76</td>\n",
       "    </tr>\n",
       "  </tbody>\n",
       "</table>\n",
       "</div>"
      ],
      "text/plain": [
       "                           median_dBAS\n",
       "2019-06-01 00:00:00-04:00        61.01\n",
       "2019-06-01 00:00:01-04:00        63.16\n",
       "2019-06-01 00:00:02-04:00        64.48\n",
       "2019-06-01 00:00:03-04:00        63.70\n",
       "2019-06-01 00:00:04-04:00        63.76"
      ]
     },
     "execution_count": 171,
     "metadata": {},
     "output_type": "execute_result"
    }
   ],
   "source": [
    "both_medians_df.head()"
   ]
  },
  {
   "cell_type": "markdown",
   "metadata": {},
   "source": [
    "# Joining weekday and weekend medians to dataframe"
   ]
  },
  {
   "cell_type": "markdown",
   "metadata": {},
   "source": [
    "Joining the median dataframe to the dataframe with SPL and cluster assignment"
   ]
  },
  {
   "cell_type": "code",
   "execution_count": 172,
   "metadata": {},
   "outputs": [],
   "source": [
    "all_joined_df_cut_median = all_joined_df_cut.join(both_medians_df)"
   ]
  },
  {
   "cell_type": "code",
   "execution_count": 173,
   "metadata": {
    "scrolled": true
   },
   "outputs": [
    {
     "data": {
      "text/html": [
       "<div>\n",
       "<style scoped>\n",
       "    .dataframe tbody tr th:only-of-type {\n",
       "        vertical-align: middle;\n",
       "    }\n",
       "\n",
       "    .dataframe tbody tr th {\n",
       "        vertical-align: top;\n",
       "    }\n",
       "\n",
       "    .dataframe thead th {\n",
       "        text-align: right;\n",
       "    }\n",
       "</style>\n",
       "<table border=\"1\" class=\"dataframe\">\n",
       "  <thead>\n",
       "    <tr style=\"text-align: right;\">\n",
       "      <th></th>\n",
       "      <th>dBAS</th>\n",
       "      <th>assignment</th>\n",
       "      <th>median_dBAS</th>\n",
       "    </tr>\n",
       "  </thead>\n",
       "  <tbody>\n",
       "    <tr>\n",
       "      <th>2019-06-29 23:00:33-04:00</th>\n",
       "      <td>65.27</td>\n",
       "      <td>1.0</td>\n",
       "      <td>61.59</td>\n",
       "    </tr>\n",
       "    <tr>\n",
       "      <th>2019-06-29 23:00:33-04:00</th>\n",
       "      <td>65.27</td>\n",
       "      <td>1.0</td>\n",
       "      <td>61.59</td>\n",
       "    </tr>\n",
       "    <tr>\n",
       "      <th>2019-06-29 23:00:33-04:00</th>\n",
       "      <td>71.26</td>\n",
       "      <td>1.0</td>\n",
       "      <td>61.59</td>\n",
       "    </tr>\n",
       "    <tr>\n",
       "      <th>2019-06-29 23:00:33-04:00</th>\n",
       "      <td>71.26</td>\n",
       "      <td>1.0</td>\n",
       "      <td>61.59</td>\n",
       "    </tr>\n",
       "  </tbody>\n",
       "</table>\n",
       "</div>"
      ],
      "text/plain": [
       "                            dBAS  assignment  median_dBAS\n",
       "2019-06-29 23:00:33-04:00  65.27         1.0        61.59\n",
       "2019-06-29 23:00:33-04:00  65.27         1.0        61.59\n",
       "2019-06-29 23:00:33-04:00  71.26         1.0        61.59\n",
       "2019-06-29 23:00:33-04:00  71.26         1.0        61.59"
      ]
     },
     "execution_count": 173,
     "metadata": {},
     "output_type": "execute_result"
    }
   ],
   "source": [
    "all_joined_df_cut_median.loc['2019-06-29 23:00:33-04:00']"
   ]
  },
  {
   "cell_type": "markdown",
   "metadata": {},
   "source": [
    "Removing duplicate values"
   ]
  },
  {
   "cell_type": "code",
   "execution_count": 174,
   "metadata": {},
   "outputs": [],
   "source": [
    "removed_all_joined_df_cut_median = all_joined_df_cut_median[~all_joined_df_cut_median.index.duplicated()]"
   ]
  },
  {
   "cell_type": "code",
   "execution_count": 175,
   "metadata": {},
   "outputs": [],
   "source": [
    "def plot_truck_clusters_scatter_median(joined_df_median, peak_window_size, \\\n",
    "                                       smoothing_window_size, smoothing_window_size_ambient, ds_factor, smoothing):\n",
    "    \"\"\"\n",
    "    Plots the SPL over time with visual cues indicating the presence of trucks over time for one sensor. The shaded\n",
    "    regions indicate time when sound was recorded (versuss just SPL, which is constantly recorded). There is only\n",
    "    shading when the SPL recorded at the time is greater than the median SPL. \n",
    "    SPL peaks corresponding to truck activity are plotted with red dots. SPL peaks corresponding to other noises are \n",
    "    plotted with gray dots. The median SPL is plotted in blue. The SPL is plotted in green. The recorded sound \n",
    "    corresponding to trucks is plotted in red. The recorded sound corresponding to anything other than a truck is \n",
    "    plotted in light gray.\n",
    "    \n",
    "    Parameters\n",
    "    ----------\n",
    "    joined_df : dataframe\n",
    "        A dataframe containing timestamps, a column for cluster assignments, and dBAS values.\n",
    "    \n",
    "    peak_window_size : int\n",
    "        Parameter for peak picking. Cannot be lower than 3.\n",
    "        \n",
    "    smoothing_window : float\n",
    "        Parameter for smoothing the current SPL. Increasing it smoothes the curve more.\n",
    "        \n",
    "    smoothing_window_size_ambient : int\n",
    "        Parameter for smoothing the ambient SPL. Increasing it smoothes the curve more.\n",
    "        \n",
    "    ds_factor : int\n",
    "        Downsample factor for getting the median\n",
    "        \n",
    "    'smoothing' : String\n",
    "        Type of smoothing. Either median, mean, or gaussian.\n",
    "    \"\"\"\n",
    "    y_vals = []\n",
    "    joined_df_reset_index = joined_df_median.reset_index()\n",
    "\n",
    "    #Peaks for all SPL values\n",
    "    window = int((peak_window_size-1)/2)\n",
    "    spl_peaks = librosa.util.peak_pick(joined_df_median['dBAS'], window, window, window, window, 3, 0)\n",
    "    spl_peaks_arr = joined_df_reset_index.loc[spl_peaks]\n",
    "    dBAS_peaks = joined_df_median['dBAS'][spl_peaks]\n",
    "    timestamp_peaks = joined_df_reset_index['index'][spl_peaks]\n",
    "   \n",
    "    truck_timestamp_peaks = spl_peaks_arr['index'].loc[spl_peaks_arr['assignment']==1]\n",
    "    truck_dBAS_peaks = spl_peaks_arr['dBAS'].loc[spl_peaks_arr['assignment']==1]\n",
    "    \n",
    "    #Peaks for SPL values corresponding to other clusters\n",
    "    other_dBAS_peaks = spl_peaks_arr.loc[spl_peaks_arr['assignment']==2]['dBAS']\n",
    "    other_timestamp_peaks = spl_peaks_arr.loc[spl_peaks_arr['assignment']==2]['index']\n",
    "    \n",
    "    fig, ax1 = plt.subplots()  \n",
    "    color = 'b'\n",
    "    \n",
    "    ax1.set_xlabel('time')\n",
    "    ax1.set_ylabel('SPL', color=color)\n",
    "        \n",
    "    #Plot dot over max SPL value when that value corresponds to a trucking instance\n",
    "    ax1.scatter(truck_timestamp_peaks, truck_dBAS_peaks, color='r', s=20)\n",
    "    ax1.tick_params(axis='y', labelcolor=color)\n",
    "    \n",
    "    #Plot SPL peaks corresponding to other clusters\n",
    "    ax1.scatter(other_timestamp_peaks, other_dBAS_peaks, color='tab:gray', s=20)\n",
    "    ax1.set_xlim([joined_df_reset_index['index'].iloc[0], joined_df_reset_index['index'].iloc[-1]])\n",
    "    \n",
    "    if smoothing == 'median':\n",
    "        plot_y = scipy.signal.medfilt(joined_df_median['dBAS'].values, smoothing_window_size)[::ds_factor]\n",
    "        plot_y_median = scipy.signal.medfilt(joined_df_median['median_dBAS'].values, \\\n",
    "                                             smoothing_window_size_ambient)[::ds_factor]\n",
    "    elif smoothing == 'mean':\n",
    "        plot_y = scipy.ndimage.convolve(joined_df_median['dBAS'].values, \n",
    "                                             np.ones(smoothing_window_size) / smoothing_window_size)[::ds_factor]\n",
    "        plot_y_median = scipy.ndimage.convolve(joined_df_median['median_dBAS'].values, \\\n",
    "                                                    np.ones(smoothing_window_size_ambient) / smoothing_window_size_ambient)[::ds_factor]\n",
    "    elif smoothing == 'gaussian':\n",
    "        plot_y = scipy.ndimage.filters.gaussian_filter(joined_df_median['dBAS'].values, \\\n",
    "                                                                smoothing_window_size)[::ds_factor]\n",
    "        plot_y_median = scipy.ndimage.filters.gaussian_filter(joined_df_median['median_dBAS'].values, \\\n",
    "                                                                smoothing_window_size_ambient)[::ds_factor]\n",
    "    else:\n",
    "        raise Exception('Unknown smoothing type')\n",
    "        \n",
    "    #Plot SPL and median SPL\n",
    "    ax1.plot(joined_df_median.iloc[::ds_factor].reset_index()['index'], plot_y, color='g')\n",
    "    ax1.plot(joined_df_median.iloc[::ds_factor].reset_index()['index'], plot_y_median, color='b')\n",
    "    \n",
    "    #Shade regions of sound that correspond to trucks according to cluster assignment\n",
    "    ax1.fill_between(x=joined_df_median.iloc[::ds_factor].reset_index()['index'], \\\n",
    "                     y1=len(joined_df_median.iloc[::ds_factor]['dBAS'])*[joined_df_median['dBAS'].min()], \\\n",
    "                     y2=plot_y, \\\n",
    "                     where=joined_df_median.iloc[::ds_factor]['assignment']==1, \\\n",
    "                     color='r', alpha=0.5)\n",
    "    \n",
    "    #Plot regions corresponding to other clusters\n",
    "    ax1.fill_between(x=joined_df_median.iloc[::ds_factor].reset_index()['index'], \\\n",
    "                     y1=len(joined_df_median.iloc[::ds_factor]['dBAS'])*[joined_df_median['dBAS'].min()], \\\n",
    "                     y2=plot_y, where=joined_df_median.iloc[::ds_factor]['assignment']==2, \\\n",
    "                     color='tab:gray', alpha=0.5)\n",
    "    \n",
    "    ax1.set_ylim(joined_df_median['dBAS'].min())\n",
    "    fig.set_size_inches(18.5, 10.5)\n",
    "    fig.tight_layout()\n",
    "    fig.show()"
   ]
  },
  {
   "cell_type": "code",
   "execution_count": 176,
   "metadata": {},
   "outputs": [
    {
     "name": "stderr",
     "output_type": "stream",
     "text": [
      "/home/cusp/meh708/.conda/envs/redhook_analysis_storage/lib/python3.7/site-packages/numpy/core/fromnumeric.py:56: FutureWarning: Series.nonzero() is deprecated and will be removed in a future version.Use Series.to_numpy().nonzero() instead\n",
      "  return getattr(obj, method)(*args, **kwds)\n"
     ]
    },
    {
     "data": {
      "image/png": "[encoded data removed]",
      "text/plain": [
       "<Figure size 1332x756 with 1 Axes>"
      ]
     },
     "metadata": {
      "needs_background": "light"
     },
     "output_type": "display_data"
    }
   ],
   "source": [
    "plot_truck_clusters_scatter_median(all_joined_df_cut_median['2019-06-03 14:40:00-04:00':'2019-06-03 14:50:00-04:00'], \\\n",
    "                            3, 0.5, 10, 1, 'gaussian')"
   ]
  },
  {
   "cell_type": "code",
   "execution_count": 177,
   "metadata": {},
   "outputs": [],
   "source": [
    "def plot_truck_clusters_scatter_median_shading(joined_df_median, peak_window_size, \\\n",
    "                                       smoothing_window_size, smoothing_window_size_ambient, ds_factor, smoothing):\n",
    "    \"\"\"\n",
    "    Plots the SPL over time with visual cues indicating the presence of trucks over time for one sensor. The shaded\n",
    "    regions indicate time when sound was recorded (versuss just SPL, which is constantly recorded). There is only\n",
    "    shading when the SPL recorded at the time is greater than the median SPL. \n",
    "    SPL peaks corresponding to truck activity are plotted with red dots. SPL peaks corresponding to other noises are \n",
    "    plotted with gray dots. The median SPL is plotted in blue. The SPL is plotted in green. The recorded sound \n",
    "    corresponding to trucks is plotted in red. The recorded sound corresponding to anything other than a truck is \n",
    "    plotted in light gray.\n",
    "    \n",
    "    Parameters\n",
    "    ----------\n",
    "    joined_df : dataframe\n",
    "        A dataframe containing timestamps, a column for cluster assignments, and dBAS values.\n",
    "    \n",
    "    peak_window_size : int\n",
    "        Parameter for peak picking. Cannot be lower than 3.\n",
    "        \n",
    "    smoothing_window : float\n",
    "        Parameter for smoothing the current SPL. Increasing it smoothes the curve more.\n",
    "        \n",
    "    smoothing_window_size_ambient : int\n",
    "        Parameter for smoothing the ambient SPL. Increasing it smoothes the curve more.\n",
    "        \n",
    "    ds_factor : int\n",
    "        Downsample factor for getting the median.\n",
    "        \n",
    "    'smoothing' : String\n",
    "        Type of smoothing. Either median, mean, or gaussian.\n",
    "    \"\"\"\n",
    "    y_vals = []\n",
    "    joined_df_reset_index = joined_df_median.reset_index()\n",
    "\n",
    "    #Peaks for all SPL values\n",
    "    window = int((peak_window_size-1)/2)\n",
    "    spl_peaks = librosa.util.peak_pick(joined_df_median['dBAS'], window, window, window, window, 3, 0)\n",
    "    spl_peaks_arr = joined_df_reset_index.loc[spl_peaks]\n",
    "    dBAS_peaks = joined_df_median['dBAS'][spl_peaks]\n",
    "    timestamp_peaks = joined_df_reset_index['index'][spl_peaks]\n",
    "   \n",
    "    truck_timestamp_peaks = spl_peaks_arr['index'].loc[spl_peaks_arr['assignment']==1]\n",
    "    truck_dBAS_peaks = spl_peaks_arr['dBAS'].loc[spl_peaks_arr['assignment']==1] \n",
    "    \n",
    "    #Peaks for SPL values corresponding to other clusters\n",
    "    other_dBAS_peaks = spl_peaks_arr.loc[spl_peaks_arr['assignment']==2]['dBAS']\n",
    "    other_timestamp_peaks = spl_peaks_arr.loc[spl_peaks_arr['assignment']==2]['index']\n",
    "    \n",
    "    fig, ax1 = plt.subplots()  \n",
    "    color = 'b'\n",
    "    \n",
    "    ax1.set_xlabel('time')\n",
    "    ax1.set_ylabel('SPL', color=color)\n",
    "        \n",
    "    #Plot dot over max SPL value when that value corresponds to a trucking instance\n",
    "    ax1.scatter(truck_timestamp_peaks, truck_dBAS_peaks, color='r', s=20)\n",
    "    ax1.tick_params(axis='y', labelcolor=color)\n",
    "    \n",
    "    #Plot SPL peaks corresponding to other clusters\n",
    "    ax1.scatter(other_timestamp_peaks, other_dBAS_peaks, color='tab:gray', s=20)\n",
    "    ax1.set_xlim([joined_df_reset_index['index'].iloc[0], joined_df_reset_index['index'].iloc[-1]])\n",
    "    \n",
    "    if smoothing == 'median':\n",
    "        plot_y = scipy.signal.medfilt(joined_df_median['dBAS'].values, smoothing_window_size)[::ds_factor]\n",
    "        plot_y_median = scipy.signal.medfilt(joined_df_median['median_dBAS'].values, \\\n",
    "                                             smoothing_window_size_ambient)[::ds_factor]\n",
    "    elif smoothing == 'mean':\n",
    "        plot_y = scipy.ndimage.convolve(joined_df_median['dBAS'].values, \n",
    "                                             np.ones(smoothing_window_size) / smoothing_window_size)[::ds_factor]\n",
    "        plot_y_median = scipy.ndimage.convolve(joined_df_median['median_dBAS'].values, \\\n",
    "                                                    np.ones(smoothing_window_size_ambient) / smoothing_window_size_ambient)[::ds_factor]\n",
    "    elif smoothing == 'gaussian':\n",
    "        plot_y = scipy.ndimage.filters.gaussian_filter(joined_df_median['dBAS'].values, \\\n",
    "                                                                smoothing_window_size)[::ds_factor]\n",
    "        plot_y_median = scipy.ndimage.filters.gaussian_filter(joined_df_median['median_dBAS'].values, \\\n",
    "                                                                smoothing_window_size_ambient)[::ds_factor]\n",
    "    else:\n",
    "        raise Exception('Unknown smoothing type')\n",
    "        \n",
    "    ax1.plot(joined_df_median.iloc[::ds_factor].reset_index()['index'], plot_y, color='g')\n",
    "    ax1.plot(joined_df_median.iloc[::ds_factor].reset_index()['index'], plot_y_median, color='b')\n",
    "    \n",
    "    #Plot regions corresponding to trucks\n",
    "    ax1.fill_between( \\\n",
    "                     x=joined_df_median.iloc[::ds_factor].reset_index()['index'], \\\n",
    "                     y1=plot_y_median, \\\n",
    "                     y2=plot_y, \\\n",
    "                     where=(joined_df_median.iloc[::ds_factor]['assignment']==1) & (plot_y>plot_y_median), \\\n",
    "                     color='r', alpha=0.5, interpolate=True)\n",
    "    \n",
    "    #Plot regions corresponding to other clusters\n",
    "    ax1.fill_between(x=joined_df_median.iloc[::ds_factor].reset_index()['index'], \\\n",
    "                     y1=plot_y_median, \\\n",
    "                     y2=plot_y, \\\n",
    "                     where=(joined_df_median.iloc[::ds_factor]['assignment']==2) & (plot_y>plot_y_median), \n",
    "                     color='tab:gray', alpha=0.5, interpolate=True)\n",
    "    \n",
    "    ax1.set_ylim(joined_df_median['dBAS'].min())\n",
    "    fig.set_size_inches(18.5, 10.5)\n",
    "    fig.tight_layout()\n",
    "    fig.show()"
   ]
  },
  {
   "cell_type": "code",
   "execution_count": 178,
   "metadata": {
    "scrolled": false
   },
   "outputs": [],
   "source": [
    "# plot_truck_clusters_scatter_median_shading(all_joined_df_cut_median['2019-06-03 14:40:00-04:00':'2019-06-03 14:50:00-04:00'], \\\n",
    "#                             7, 0.5, 10, 2, 'gaussian')"
   ]
  },
  {
   "cell_type": "code",
   "execution_count": 179,
   "metadata": {},
   "outputs": [],
   "source": [
    "def plot_truck_clusters_scatter_median_final(joined_df_median, peak_window_size, \\\n",
    "                                       smoothing_window_size, smoothing_window_size_ambient, ds_factor, smoothing):\n",
    "    \"\"\"\n",
    "    Plots the SPL over time with visual cues indicating the presence of trucks over time for one sensor. The shaded\n",
    "    regions indicate time when sound was recorded (versuss just SPL, which is constantly recorded). There is only\n",
    "    shading when the SPL recorded at the time is greater than the median SPL. \n",
    "    There are dots indicating SPL peaks that correspond to truck activity, plotted in red. The median SPL is plotted \n",
    "    in dark gray. The SPL is plotted in light gray. The recorded sound corresponding to trucks is plotted in red. The\n",
    "    recorded sound corresponding to anything other than a truck is plotted in light blue.\n",
    "    \n",
    "    Parameters\n",
    "    ----------\n",
    "    joined_df : dataframe\n",
    "        A dataframe containing timestamps, a column for cluster assignments, and dBAS values.\n",
    "    \n",
    "    peak_window_size : int\n",
    "        Parameter for peak picking. Cannot be lower than 3.\n",
    "        \n",
    "    smoothing_window : float\n",
    "        Parameter for smoothing the current SPL. Increasing it smoothes the curve more.\n",
    "        \n",
    "    smoothing_window_size_ambient : int\n",
    "        Parameter for smoothing the ambient SPL. Increasing it smoothes the curve more.\n",
    "        \n",
    "    ds_factor : int\n",
    "        Downsample factor for getting the median.\n",
    "        \n",
    "    'smoothing' : String\n",
    "        Type of smoothing. Either median, mean, or gaussian.\n",
    "    \"\"\"\n",
    "    y_vals = []\n",
    "    joined_df_reset_index = joined_df_median.reset_index()\n",
    "    \n",
    "    #Peaks for all SPL values\n",
    "    window = int((peak_window_size-1)/2)\n",
    "    spl_peaks = librosa.util.peak_pick(joined_df_median['dBAS'], window, window, window, window, 3, 0)\n",
    "    spl_peaks_arr = joined_df_reset_index.loc[spl_peaks]\n",
    "    dBAS_peaks = joined_df_median['dBAS'][spl_peaks]\n",
    "    timestamp_peaks = joined_df_reset_index['index'][spl_peaks]\n",
    "\n",
    "    truck_timestamp_peaks = spl_peaks_arr['index'].loc[spl_peaks_arr['assignment']==1]\n",
    "    truck_dBAS_peaks = spl_peaks_arr['dBAS'].loc[spl_peaks_arr['assignment']==1]\n",
    "    \n",
    "    other_dBAS_peaks = spl_peaks_arr.loc[spl_peaks_arr['assignment']==2]['dBAS']\n",
    "    other_timestamp_peaks = spl_peaks_arr.loc[spl_peaks_arr['assignment']==2]['index']\n",
    "    \n",
    "    fig, ax1 = plt.subplots()  \n",
    "    \n",
    "    ax1.set_xlabel('Time', fontweight='bold', fontsize=25)\n",
    "    ax1.set_ylabel('SPL (dB)', fontweight='bold', fontsize=25)\n",
    "    ax1.set_title('SPL Levels', fontweight='bold', fontsize=30)   \n",
    "    \n",
    "    #Plot dot over max SPL value when that value corresponds to a trucking instance\n",
    "    ax1.scatter(truck_timestamp_peaks, truck_dBAS_peaks, color='r', s=50)\n",
    "    ax1.tick_params(labelsize=20)\n",
    "    \n",
    "#     #Plot SPL peaks corresponding to other clusters\n",
    "#     ax1.scatter(other_timestamp_peaks, other_dBAS_peaks, color='tab:gray', s=20)\n",
    "# #     ax1.plot(sliced_joined_df_reset_index['index'], sliced_joined_df['dBAS'])\n",
    "    ax1.set_xlim([joined_df_reset_index['index'].iloc[0], joined_df_reset_index['index'].iloc[-1]])\n",
    "    \n",
    "    if smoothing == 'median':\n",
    "        plot_y = scipy.signal.medfilt(joined_df_median['dBAS'].values, smoothing_window_size)[::ds_factor]\n",
    "        plot_y_median = scipy.signal.medfilt(joined_df_median['median_dBAS'].values, \\\n",
    "                                             smoothing_window_size_ambient)[::ds_factor]\n",
    "    elif smoothing == 'mean':\n",
    "        plot_y = scipy.ndimage.convolve(joined_df_median['dBAS'].values, \n",
    "                                             np.ones(smoothing_window_size) / smoothing_window_size)[::ds_factor]\n",
    "        plot_y_median = scipy.ndimage.convolve(joined_df_median['median_dBAS'].values, \\\n",
    "                                                    np.ones(smoothing_window_size_ambient) / smoothing_window_size_ambient)[::ds_factor]\n",
    "    elif smoothing == 'gaussian':\n",
    "        plot_y = scipy.ndimage.filters.gaussian_filter(joined_df_median['dBAS'].values, \\\n",
    "                                                                smoothing_window_size)[::ds_factor]\n",
    "        plot_y_median = scipy.ndimage.filters.gaussian_filter(joined_df_median['median_dBAS'].values, \\\n",
    "                                                                smoothing_window_size_ambient)[::ds_factor]\n",
    "    else:\n",
    "        raise Exception('Unknown smoothing type')\n",
    "    \n",
    "    ax1.plot(joined_df_median.iloc[::ds_factor].reset_index()['index'], \\\n",
    "                 plot_y, color='lightgray', linewidth=3)\n",
    "    ax1.plot(joined_df_median.iloc[::ds_factor].reset_index()['index'], \\\n",
    "                 plot_y_median, color='dimgray', linewidth=3)\n",
    "    \n",
    "#     Plot regions corresponding to other clusters\n",
    "    other_where = (joined_df_median.iloc[::ds_factor]['assignment']==2) & (plot_y > plot_y_median)\n",
    "    other_where |= np.roll(other_where, 1)\n",
    "    ax1.fill_between(x=joined_df_median.iloc[::ds_factor].reset_index()['index'], \\\n",
    "                     y1=plot_y_median, \\\n",
    "                     y2=plot_y, \\\n",
    "                     where=other_where, \n",
    "                     color='lightblue', interpolate=False)\n",
    "\n",
    "    \n",
    "    #Plot regions corresponding to trucks\n",
    "    truck_where = (joined_df_median.iloc[::ds_factor]['assignment']==1) & (plot_y > plot_y_median)\n",
    "    truck_where |= np.roll(truck_where, 1)\n",
    "    ax1.fill_between(x=joined_df_median.iloc[::ds_factor].reset_index()['index'], \\\n",
    "                     y1=plot_y_median, \\\n",
    "                     y2=plot_y, \\\n",
    "                     where=truck_where, \\\n",
    "                     color='r', interpolate=False)\n",
    "\n",
    "    ax1.set_ylim(joined_df_median['median_dBAS'].min())\n",
    "    fig.set_size_inches(18.5, 10.5)\n",
    "    fig.tight_layout()\n",
    "    fig.show()"
   ]
  },
  {
   "cell_type": "code",
   "execution_count": 197,
   "metadata": {
    "scrolled": false
   },
   "outputs": [],
   "source": [
    "# plot_truck_clusters_scatter_median_final\\\n",
    "# (removed_all_joined_df_cut_median['2019-06-03 08:00:00-04:00':'2019-06-03 08:10:00-04:00'], \\\n",
    "#                             7, 10, 10, 1, 'gaussian')"
   ]
  },
  {
   "cell_type": "code",
   "execution_count": 181,
   "metadata": {},
   "outputs": [],
   "source": [
    "def plot_truck_clusters_scatter_median_normalized(joined_df_median, peak_window_size, \\\n",
    "                                       smoothing_window_size, smoothing_window_size_ambient, ds_factor, smoothing):\n",
    "    \"\"\"\n",
    "    Plots the SPL normalized to the median.\n",
    "    \n",
    "    Parameters\n",
    "    ----------\n",
    "    joined_df : dataframe\n",
    "        A dataframe containing timestamps, a column for cluster assignments, and dBAS values.\n",
    "    \n",
    "    peak_window_size : int\n",
    "        Parameter for peak picking. Cannot be lower than 3.\n",
    "        \n",
    "    smoothing_window : float\n",
    "        Parameter for smoothing the current SPL. Increasing it smoothes the curve more.\n",
    "        \n",
    "    smoothing_window_size_ambient : int\n",
    "        Parameter for smoothing the ambient SPL. Increasing it smoothes the curve more.\n",
    "        \n",
    "    ds_factor : int\n",
    "        Downsample factor for getting the median.\n",
    "        \n",
    "    'smoothing' : String\n",
    "        Type of smoothing. Either median, mean, or gaussian.\n",
    "    \"\"\"\n",
    "    y_vals = []\n",
    "    joined_df_reset_index = joined_df_median.reset_index()\n",
    "    \n",
    "    joined_df_difference = joined_df_median['dBAS'] - joined_df_median['median_dBAS']\n",
    "    for i,x in enumerate(joined_df_difference):\n",
    "        if x < 0:\n",
    "            joined_df_difference[i] = 0\n",
    "\n",
    "    #Peaks for all SPL values\n",
    "    window = int((peak_window_size-1)/2)\n",
    "    spl_peaks = librosa.util.peak_pick(joined_df_median['dBAS'], window, window, window, window, 3, 0)\n",
    "    spl_peaks_arr = joined_df_reset_index.loc[spl_peaks]\n",
    "    dBAS_peaks = joined_df_median['dBAS'][spl_peaks]\n",
    "    timestamp_peaks = joined_df_reset_index['index'][spl_peaks]\n",
    "   \n",
    "    truck_timestamp_peaks = spl_peaks_arr['index'].loc[spl_peaks_arr['assignment']==1]\n",
    "    print(truck_timestamp_peaks)\n",
    "    truck_dBAS_peaks = spl_peaks_arr['dBAS'].loc[spl_peaks_arr['assignment']==1]\n",
    "    print(truck_dBAS_peaks)\n",
    "    \n",
    "    \n",
    "    #Peaks for SPL values corresponding to other clusters\n",
    "    other_dBAS_peaks = spl_peaks_arr.loc[spl_peaks_arr['assignment']==2]['dBAS']\n",
    "    other_timestamp_peaks = spl_peaks_arr.loc[spl_peaks_arr['assignment']==2]['index']\n",
    "    \n",
    "    fig, ax1 = plt.subplots()  \n",
    "    color = 'b'\n",
    "    \n",
    "    ax1.set_xlabel('time')\n",
    "    ax1.set_ylabel('SPL', color=color)\n",
    "    ax1.tick_params(axis='y', labelcolor=color)\n",
    "    ax1.set_xlim([joined_df_reset_index['index'].iloc[0], joined_df_reset_index['index'].iloc[-1]])\n",
    "    \n",
    "    if smoothing == 'median':\n",
    "        plot_y = scipy.signal.medfilt(joined_df_median['dBAS'].values, smoothing_window_size)[::ds_factor]\n",
    "        plot_y_median = scipy.signal.medfilt(joined_df_median['median_dBAS'].values, \\\n",
    "                                             smoothing_window_size_ambient)[::ds_factor]\n",
    "    elif smoothing == 'mean':\n",
    "        plot_y = scipy.ndimage.convolve(joined_df_median['dBAS'].values, \n",
    "                                             np.ones(smoothing_window_size) / smoothing_window_size)[::ds_factor]\n",
    "        plot_y_median = scipy.ndimage.convolve(joined_df_median['median_dBAS'].values, \\\n",
    "                                                    np.ones(smoothing_window_size_ambient) / \\\n",
    "                                                    smoothing_window_size_ambient)[::ds_factor]       \n",
    "    elif smoothing == 'gaussian':\n",
    "        plot_y = scipy.ndimage.filters.gaussian_filter(joined_df_median['dBAS'].values, \\\n",
    "                                                                smoothing_window_size)[::ds_factor]\n",
    "        plot_y_median = scipy.ndimage.filters.gaussian_filter(joined_df_median['median_dBAS'].values, \\\n",
    "                                                                smoothing_window_size_ambient)[::ds_factor]\n",
    "    else:\n",
    "        raise Exception('Unknown smoothing type')\n",
    "        \n",
    "    normalized_plot_y = plot_y - plot_y_median\n",
    "    \n",
    "    #For areas where SPL is lower than the median, change it to 0\n",
    "    for i,x in enumerate(normalized_plot_y):\n",
    "        if x < 0:\n",
    "            plot_y[i] = 0\n",
    "            \n",
    "    #Plot dot over max SPL value when that value corresponds to a trucking instance\n",
    "    normalized_truck_peaks = joined_df_difference.loc[truck_timestamp_peaks]\n",
    "    ax1.scatter(truck_timestamp_peaks, normalized_truck_peaks, color='r', s=20)\n",
    "    \n",
    "    ax1.plot(joined_df_median.iloc[::ds_factor].reset_index()['index'], normalized_plot_y, color='g')\n",
    "    \n",
    "    #Plot regions corresponding to trucks\n",
    "    ax1.fill_between( \\\n",
    "                     x=joined_df_median.iloc[::ds_factor].reset_index()['index'], \\\n",
    "                     y1=len(plot_y_median)*[0], \\\n",
    "                     y2=normalized_plot_y, \\\n",
    "                     where=(joined_df_median.iloc[::ds_factor]['assignment']==1), \\\n",
    "                     color='r', alpha=0.5, interpolate=True)\n",
    "    \n",
    "    #Plot regions corresponding to other clusters\n",
    "    ax1.fill_between(x=joined_df_median.iloc[::ds_factor].reset_index()['index'], \\\n",
    "                     y1=len(plot_y_median)*[0], \\\n",
    "                     y2=normalized_plot_y, \\\n",
    "                     where=(joined_df_median.iloc[::ds_factor]['assignment']==2), \n",
    "                     color='tab:gray', alpha=0.5, interpolate=True)\n",
    "    \n",
    "    ax1.set_ylim(0)\n",
    "    fig.set_size_inches(18.5, 10.5)\n",
    "    fig.tight_layout()\n",
    "    fig.show()"
   ]
  },
  {
   "cell_type": "code",
   "execution_count": 195,
   "metadata": {
    "scrolled": false
   },
   "outputs": [],
   "source": [
    "# plot_truck_clusters_scatter_median_normalized(all_joined_df_cut_median['2019-06-03 14:40:00-04:00':'2019-06-03 14:50:00-04:00'], \\\n",
    "#                             7, 0.5, 10, 2, 'gaussian')"
   ]
  },
  {
   "cell_type": "code",
   "execution_count": 193,
   "metadata": {},
   "outputs": [],
   "source": [
    "def plot_truck_clusters_scatter_median_normalized_final(joined_df_median, peak_window_size, \\\n",
    "                                       smoothing_window_size, smoothing_window_size_ambient, ds_factor, smoothing):\n",
    "    \"\"\"\n",
    "    Plots the SPL normalized to the median.\n",
    "    \n",
    "    Parameters\n",
    "    ----------\n",
    "    joined_df : dataframe\n",
    "        A dataframe containing timestamps, a column for cluster assignments, and dBAS values.\n",
    "    \n",
    "    peak_window_size : int\n",
    "        Parameter for peak picking. Cannot be lower than 3.\n",
    "        \n",
    "    smoothing_window : float\n",
    "        Parameter for smoothing the current SPL. Increasing it smoothes the curve more.\n",
    "        \n",
    "    smoothing_window_size_ambient : int\n",
    "        Parameter for smoothing the ambient SPL. Increasing it smoothes the curve more.\n",
    "        \n",
    "    ds_factor : int\n",
    "        Downsample factor for getting the median.\n",
    "        \n",
    "    'smoothing' : String\n",
    "        Type of smoothing. Either median, mean, or gaussian.\n",
    "    \"\"\"\n",
    "    y_vals = []\n",
    "    joined_df_reset_index = joined_df_median.reset_index()\n",
    "\n",
    "    #Peaks for all SPL values\n",
    "    window = int((peak_window_size-1)/2)\n",
    "    spl_peaks = librosa.util.peak_pick(joined_df_median['dBAS'], window, window, window, window, 3, 0)\n",
    "    spl_peaks_arr = joined_df_reset_index.loc[spl_peaks]\n",
    "    dBAS_peaks = joined_df_median['dBAS'][spl_peaks]\n",
    "    timestamp_peaks = joined_df_reset_index['index'][spl_peaks]\n",
    "   \n",
    "    truck_timestamp_peaks = spl_peaks_arr['index'].loc[spl_peaks_arr['assignment']==1]\n",
    "    truck_dBAS_peaks = spl_peaks_arr['dBAS'].loc[spl_peaks_arr['assignment']==1]\n",
    "    print(len(truck_timestamp_peaks))\n",
    "    \n",
    "    #Peaks for SPL values corresponding to other clusters\n",
    "    other_dBAS_peaks = spl_peaks_arr.loc[spl_peaks_arr['assignment']==2]['dBAS']\n",
    "    other_timestamp_peaks = spl_peaks_arr.loc[spl_peaks_arr['assignment']==2]['index']\n",
    "    \n",
    "    fig, ax1 = plt.subplots()  \n",
    "    \n",
    "    ax1.set_xlabel('Time (One Month)', fontweight='bold', fontsize=25)\n",
    "    ax1.set_ylabel('Increase Above Ambient SPL (dB)', fontweight='bold', fontsize=25)\n",
    "    ax1.set_title('Truck Noise Contribution Over June', fontweight='bold', fontsize=30)\n",
    "        \n",
    "    #Plot all SPL peaks\n",
    "    ax1.tick_params(labelsize='20')\n",
    "    \n",
    "    #Plot SPL peaks corresponding to other clusters\n",
    "    ax1.set_xlim([joined_df_reset_index['index'].iloc[0], joined_df_reset_index['index'].iloc[-1]])\n",
    "    \n",
    "    if smoothing == 'median':\n",
    "        plot_y = scipy.signal.medfilt(joined_df_median['dBAS'].values, smoothing_window_size)[::ds_factor]\n",
    "        plot_y_median = scipy.signal.medfilt(joined_df_median['median_dBAS'].values, \\\n",
    "                                               smoothing_window_size_ambient)[::ds_factor]\n",
    "    elif smoothing == 'mean':\n",
    "        plot_y = scipy.ndimage.convolve(joined_df_median['dBAS'].values, \n",
    "                                             np.ones(smoothing_window_size) / smoothing_window_size)[::ds_factor]\n",
    "        plot_y_median = scipy.ndimage.convolve(joined_df_median['median_dBAS'].values, \\\n",
    "                                                    np.ones(smoothing_window_size_ambient) / \\\n",
    "                                                    smoothing_window_size_ambient)[::ds_factor]\n",
    "    elif smoothing == 'gaussian':\n",
    "        plot_y = scipy.ndimage.filters.gaussian_filter(joined_df_median['dBAS'].values, \\\n",
    "                                                                smoothing_window_size)[::ds_factor]\n",
    "        plot_y_median = scipy.ndimage.filters.gaussian_filter(joined_df_median['median_dBAS'].values, \\\n",
    "                                                                smoothing_window_size_ambient)[::ds_factor]\n",
    "    else:\n",
    "        raise Exception('Unknown smoothing type')\n",
    "        \n",
    "    normalized_plot_y = plot_y - plot_y_median\n",
    "        \n",
    "    for i,x in enumerate(normalized_plot_y):\n",
    "        if x < 0:\n",
    "            normalized_plot_y[i] = 0\n",
    "    \n",
    "#     Plot regions corresponding to trucks\n",
    "    truck_where = (joined_df_median.iloc[::ds_factor]['assignment']==1)\n",
    "    truck_where |= np.roll(truck_where, 1)\n",
    "    ax1.fill_between( \\\n",
    "                     x=joined_df_median.iloc[::ds_factor].reset_index()['index'], \\\n",
    "                     y1=len(plot_y_median)*[0], \\\n",
    "                     y2=normalized_plot_y, \\\n",
    "                     where=truck_where, \\\n",
    "                     color='r', alpha=0.5, interpolate=True)\n",
    "    \n",
    "#   Plots vertical lines to mark each week\n",
    "    ax1.vlines(joined_df_median.reset_index()['index'][::604800], \\\n",
    "               0, plot_y.max() + 5, color='dimgray')\n",
    "    ax1.set_ylim(0, normalized_plot_y.max())\n",
    "    fig.set_size_inches(18.5, 10.5)\n",
    "    fig.tight_layout()\n",
    "    fig.show()"
   ]
  },
  {
   "cell_type": "markdown",
   "metadata": {},
   "source": [
    "Example plots"
   ]
  },
  {
   "cell_type": "code",
   "execution_count": 189,
   "metadata": {},
   "outputs": [],
   "source": [
    "# plot_truck_clusters_scatter_median_normalized_final\\\n",
    "# (removed_all_joined_df_cut_median['2019-06-03 08:00:00-04:00':'2019-06-03 20:00:00-04:00'], \\\n",
    "#                             7, 1, 10, 2, 'mean')"
   ]
  },
  {
   "cell_type": "code",
   "execution_count": 190,
   "metadata": {},
   "outputs": [],
   "source": [
    "# plot_truck_clusters_scatter_median_normalized_final\\\n",
    "# (removed_all_joined_df_cut_median['2019-06-04 00:00:00-04:00':'2019-06-05 00:00:00-04:00'], \\\n",
    "#                             7, 1, 10, 2, 'mean')"
   ]
  },
  {
   "cell_type": "code",
   "execution_count": 191,
   "metadata": {},
   "outputs": [],
   "source": [
    "# plot_truck_clusters_scatter_median_normalized_final\\\n",
    "# (removed_all_joined_df_cut_median['2019-06-10 08:00:00-04:00':'2019-06-17 08:00:00-04:00'], \\\n",
    "#                             7, 1, 10, 2, 'mean')"
   ]
  },
  {
   "cell_type": "code",
   "execution_count": 196,
   "metadata": {},
   "outputs": [],
   "source": [
    "# plot_truck_clusters_scatter_median_normalized_final\\\n",
    "# (removed_all_joined_df_cut_median['2019-06-01 08:00:00-04:00':'2019-06-30 08:00:00-04:00'], \\\n",
    "#                             7, 1, 10, 2, 'mean')"
   ]
  },
  {
   "cell_type": "code",
   "execution_count": null,
   "metadata": {},
   "outputs": [],
   "source": []
  }
 ],
 "metadata": {
  "kernelspec": {
   "display_name": "Clustering_1",
   "language": "python",
   "name": "clustering_1"
  },
  "language_info": {
   "codemirror_mode": {
    "name": "ipython",
    "version": 3
   },
   "file_extension": ".py",
   "mimetype": "text/x-python",
   "name": "python",
   "nbconvert_exporter": "python",
   "pygments_lexer": "ipython3",
   "version": "3.7.3"
  }
 },
 "nbformat": 4,
 "nbformat_minor": 2
}
