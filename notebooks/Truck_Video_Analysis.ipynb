{
 "cells": [
  {
   "cell_type": "code",
   "execution_count": 2,
   "metadata": {},
   "outputs": [],
   "source": [
    "import pickle\n",
    "import pandas as pd\n",
    "import math\n",
    "import json\n",
    "import numpy as np"
   ]
  },
  {
   "cell_type": "code",
   "execution_count": 3,
   "metadata": {},
   "outputs": [],
   "source": [
    "data = json.load(open('/green-projects/project-sonyc_redhook/workspace/share/video_info_copy.json'))"
   ]
  },
  {
   "cell_type": "markdown",
   "metadata": {},
   "source": [
    "File is structured with master keys being name of file, the values being other dictionaries, with inner keys being the frame number, and the value being an array of border coordinates and probability"
   ]
  },
  {
   "cell_type": "markdown",
   "metadata": {},
   "source": [
    "Step 1: loop through dictionaries and make dataframe"
   ]
  },
  {
   "cell_type": "code",
   "execution_count": 4,
   "metadata": {},
   "outputs": [
    {
     "data": {
      "text/plain": [
       "{'308': [[[18.5, 321.0, 191, 132]], [0.225791335105896]],\n",
       " '310': [[[18.5, 320.5, 193, 133]], [0.2184540182352066]],\n",
       " '630': [[[19.0, 316.5, 192, 139], [27.0, 340.5, 176, 115]],\n",
       "  [0.5922264456748962, 0.5686070322990417]],\n",
       " '632': [[[12.5, 330.0, 203, 132], [24.5, 341.0, 181, 110]],\n",
       "  [0.7574986815452576, 0.7172761559486389]]}"
      ]
     },
     "execution_count": 4,
     "metadata": {},
     "output_type": "execute_result"
    }
   ],
   "source": [
    "data['/home/cusp/cmydlarz/redhook_video/data/1573276672.ts']"
   ]
  },
  {
   "cell_type": "code",
   "execution_count": 5,
   "metadata": {},
   "outputs": [
    {
     "data": {
      "text/plain": [
       "25212"
      ]
     },
     "execution_count": 5,
     "metadata": {},
     "output_type": "execute_result"
    }
   ],
   "source": [
    "data['/home/cusp/cmydlarz/redhook_video/data/1573276672.ts']['308'][0][0][2] * data['/home/cusp/cmydlarz/redhook_video/data/1573276672.ts']['308'][0][0][3]"
   ]
  },
  {
   "cell_type": "code",
   "execution_count": 6,
   "metadata": {},
   "outputs": [],
   "source": [
    "start_timestamp = []\n",
    "frame = []\n",
    "actual_timestamp = []\n",
    "area = []\n",
    "probability = []"
   ]
  },
  {
   "cell_type": "code",
   "execution_count": 79,
   "metadata": {},
   "outputs": [],
   "source": [
    "for master_key in data:\n",
    "    for key in data[master_key]:\n",
    "        start_timestamp.append(int(master_key[39:49]))\n",
    "        frame.append(int(key))\n",
    "        actual_timestamp.append(int(int(master_key[39:49]) + int(key)/15))\n",
    "        area.append(data[master_key][key][0][0][2] * data[master_key][key][0][0][3])\n",
    "        probability.append(data[master_key][key][1][0])"
   ]
  },
  {
   "cell_type": "code",
   "execution_count": 80,
   "metadata": {},
   "outputs": [],
   "source": [
    "df = pd.DataFrame(data = {'start_timestamp': start_timestamp, 'frame': frame, \\\n",
    "                          'actual_timestamp': actual_timestamp, 'area': area, \\\n",
    "                          'probability': probability})"
   ]
  },
  {
   "cell_type": "code",
   "execution_count": 81,
   "metadata": {
    "scrolled": true
   },
   "outputs": [
    {
     "data": {
      "text/html": [
       "<div>\n",
       "<style scoped>\n",
       "    .dataframe tbody tr th:only-of-type {\n",
       "        vertical-align: middle;\n",
       "    }\n",
       "\n",
       "    .dataframe tbody tr th {\n",
       "        vertical-align: top;\n",
       "    }\n",
       "\n",
       "    .dataframe thead th {\n",
       "        text-align: right;\n",
       "    }\n",
       "</style>\n",
       "<table border=\"1\" class=\"dataframe\">\n",
       "  <thead>\n",
       "    <tr style=\"text-align: right;\">\n",
       "      <th></th>\n",
       "      <th>start_timestamp</th>\n",
       "      <th>frame</th>\n",
       "      <th>actual_timestamp</th>\n",
       "      <th>area</th>\n",
       "      <th>probability</th>\n",
       "    </tr>\n",
       "  </thead>\n",
       "  <tbody>\n",
       "    <tr>\n",
       "      <th>0</th>\n",
       "      <td>1573276672</td>\n",
       "      <td>308</td>\n",
       "      <td>1573276692</td>\n",
       "      <td>25212</td>\n",
       "      <td>0.225791</td>\n",
       "    </tr>\n",
       "    <tr>\n",
       "      <th>1</th>\n",
       "      <td>1573276672</td>\n",
       "      <td>310</td>\n",
       "      <td>1573276692</td>\n",
       "      <td>25669</td>\n",
       "      <td>0.218454</td>\n",
       "    </tr>\n",
       "    <tr>\n",
       "      <th>2</th>\n",
       "      <td>1573276672</td>\n",
       "      <td>630</td>\n",
       "      <td>1573276714</td>\n",
       "      <td>26688</td>\n",
       "      <td>0.592226</td>\n",
       "    </tr>\n",
       "    <tr>\n",
       "      <th>3</th>\n",
       "      <td>1573276672</td>\n",
       "      <td>632</td>\n",
       "      <td>1573276714</td>\n",
       "      <td>26796</td>\n",
       "      <td>0.757499</td>\n",
       "    </tr>\n",
       "    <tr>\n",
       "      <th>4</th>\n",
       "      <td>1573061868</td>\n",
       "      <td>164</td>\n",
       "      <td>1573061878</td>\n",
       "      <td>25134</td>\n",
       "      <td>0.202466</td>\n",
       "    </tr>\n",
       "  </tbody>\n",
       "</table>\n",
       "</div>"
      ],
      "text/plain": [
       "   start_timestamp  frame  actual_timestamp   area  probability\n",
       "0       1573276672    308        1573276692  25212     0.225791\n",
       "1       1573276672    310        1573276692  25669     0.218454\n",
       "2       1573276672    630        1573276714  26688     0.592226\n",
       "3       1573276672    632        1573276714  26796     0.757499\n",
       "4       1573061868    164        1573061878  25134     0.202466"
      ]
     },
     "execution_count": 81,
     "metadata": {},
     "output_type": "execute_result"
    }
   ],
   "source": [
    "df.head()"
   ]
  },
  {
   "cell_type": "code",
   "execution_count": 82,
   "metadata": {},
   "outputs": [
    {
     "data": {
      "text/plain": [
       "103710"
      ]
     },
     "execution_count": 82,
     "metadata": {},
     "output_type": "execute_result"
    }
   ],
   "source": [
    "len(df)"
   ]
  },
  {
   "cell_type": "code",
   "execution_count": 83,
   "metadata": {},
   "outputs": [],
   "source": [
    "max_set = []"
   ]
  },
  {
   "cell_type": "code",
   "execution_count": 84,
   "metadata": {},
   "outputs": [],
   "source": [
    "def truck_filter(df, max_set, window_size, min_area, min_probability):\n",
    "    \"\"\"\n",
    "    Returns an array of indices that most likely correspond to trucks, based on the probability value given by\n",
    "    the image recognition algorithm.\n",
    "    \n",
    "    Parameters\n",
    "    ----------\n",
    "    df : dataframe\n",
    "        The dataframe containing information gathered from an image recognition algorithm. Should contain \n",
    "        a starting timestamp column, a frame column, an area column, and a probability column.\n",
    "        \n",
    "    max_set : array\n",
    "        The array to store the indices of likely instances of a truck.\n",
    "        \n",
    "    window_size : int\n",
    "        The number of seconds before and after the timestamp of each row.\n",
    "        \n",
    "    min_area : int\n",
    "        The minimum area of the bounding box. \n",
    "    \n",
    "    min_probability : float\n",
    "        The minimum probability given by the classifier.\n",
    "        \n",
    "    \"\"\"\n",
    "    for i in df.index:\n",
    "        #Gets subsection of dataframe inside the window \n",
    "        min_timestamp = int(df['actual_timestamp'][i] - window_size/2)\n",
    "#         print(str(i) + \" \" + str(min_timestamp))\n",
    "        max_timestamp = int(df['actual_timestamp'][i] + window_size/2)\n",
    "#         print(str(i) + \" \" + str(max_timestamp))\n",
    "        window_df = df[(min_timestamp <= df['actual_timestamp']) & (max_timestamp >= df['actual_timestamp'])]\n",
    "\n",
    "        #Checks conditions for probability, window size, etc\n",
    "        if window_df['probability'].max() >= min_probability and window_df['area'].max() >= min_area:\n",
    "            if(np.argmax(window_df['probability']) == i and i not in max_set):\n",
    "                max_set.append(i)"
   ]
  },
  {
   "cell_type": "code",
   "execution_count": 85,
   "metadata": {},
   "outputs": [],
   "source": [
    "truck_filter(df, max_set, 10, 80000, 0.7)"
   ]
  },
  {
   "cell_type": "code",
   "execution_count": 86,
   "metadata": {},
   "outputs": [
    {
     "data": {
      "text/plain": [
       "7106"
      ]
     },
     "execution_count": 86,
     "metadata": {},
     "output_type": "execute_result"
    }
   ],
   "source": [
    "len(max_set)"
   ]
  },
  {
   "cell_type": "code",
   "execution_count": 7,
   "metadata": {},
   "outputs": [
    {
     "ename": "NameError",
     "evalue": "name 'df' is not defined",
     "output_type": "error",
     "traceback": [
      "\u001b[0;31m---------------------------------------------------------------------------\u001b[0m",
      "\u001b[0;31mNameError\u001b[0m                                 Traceback (most recent call last)",
      "\u001b[0;32m<ipython-input-7-4961e13649c4>\u001b[0m in \u001b[0;36m<module>\u001b[0;34m\u001b[0m\n\u001b[0;32m----> 1\u001b[0;31m \u001b[0mmax_dataframe\u001b[0m \u001b[0;34m=\u001b[0m \u001b[0mdf\u001b[0m\u001b[0;34m.\u001b[0m\u001b[0miloc\u001b[0m\u001b[0;34m[\u001b[0m\u001b[0mmax_set\u001b[0m\u001b[0;34m]\u001b[0m\u001b[0;34m\u001b[0m\u001b[0;34m\u001b[0m\u001b[0m\n\u001b[0m",
      "\u001b[0;31mNameError\u001b[0m: name 'df' is not defined"
     ]
    }
   ],
   "source": [
    "max_dataframe = df.iloc[max_set]"
   ]
  },
  {
   "cell_type": "code",
   "execution_count": 94,
   "metadata": {},
   "outputs": [
    {
     "data": {
      "text/html": [
       "<div>\n",
       "<style scoped>\n",
       "    .dataframe tbody tr th:only-of-type {\n",
       "        vertical-align: middle;\n",
       "    }\n",
       "\n",
       "    .dataframe tbody tr th {\n",
       "        vertical-align: top;\n",
       "    }\n",
       "\n",
       "    .dataframe thead th {\n",
       "        text-align: right;\n",
       "    }\n",
       "</style>\n",
       "<table border=\"1\" class=\"dataframe\">\n",
       "  <thead>\n",
       "    <tr style=\"text-align: right;\">\n",
       "      <th></th>\n",
       "      <th>start_timestamp</th>\n",
       "      <th>frame</th>\n",
       "      <th>actual_timestamp</th>\n",
       "      <th>area</th>\n",
       "      <th>probability</th>\n",
       "    </tr>\n",
       "  </thead>\n",
       "  <tbody>\n",
       "    <tr>\n",
       "      <th>103596</th>\n",
       "      <td>1573932897</td>\n",
       "      <td>364</td>\n",
       "      <td>1573932921</td>\n",
       "      <td>205440</td>\n",
       "      <td>0.944695</td>\n",
       "    </tr>\n",
       "    <tr>\n",
       "      <th>103660</th>\n",
       "      <td>1573931033</td>\n",
       "      <td>88</td>\n",
       "      <td>1573931038</td>\n",
       "      <td>55357</td>\n",
       "      <td>0.930733</td>\n",
       "    </tr>\n",
       "    <tr>\n",
       "      <th>103668</th>\n",
       "      <td>1573500724</td>\n",
       "      <td>504</td>\n",
       "      <td>1573500757</td>\n",
       "      <td>112950</td>\n",
       "      <td>0.898339</td>\n",
       "    </tr>\n",
       "    <tr>\n",
       "      <th>103674</th>\n",
       "      <td>1573921831</td>\n",
       "      <td>70</td>\n",
       "      <td>1573921835</td>\n",
       "      <td>280088</td>\n",
       "      <td>0.950858</td>\n",
       "    </tr>\n",
       "    <tr>\n",
       "      <th>103706</th>\n",
       "      <td>1573303753</td>\n",
       "      <td>88</td>\n",
       "      <td>1573303758</td>\n",
       "      <td>296973</td>\n",
       "      <td>0.978478</td>\n",
       "    </tr>\n",
       "  </tbody>\n",
       "</table>\n",
       "</div>"
      ],
      "text/plain": [
       "        start_timestamp  frame  actual_timestamp    area  probability\n",
       "103596       1573932897    364        1573932921  205440     0.944695\n",
       "103660       1573931033     88        1573931038   55357     0.930733\n",
       "103668       1573500724    504        1573500757  112950     0.898339\n",
       "103674       1573921831     70        1573921835  280088     0.950858\n",
       "103706       1573303753     88        1573303758  296973     0.978478"
      ]
     },
     "execution_count": 94,
     "metadata": {},
     "output_type": "execute_result"
    }
   ],
   "source": [
    "max_dataframe.tail()"
   ]
  },
  {
   "cell_type": "code",
   "execution_count": 89,
   "metadata": {},
   "outputs": [],
   "source": [
    "max_dataframe.to_csv('max_dataframe.csv')"
   ]
  },
  {
   "cell_type": "code",
   "execution_count": 1,
   "metadata": {},
   "outputs": [
    {
     "ename": "NameError",
     "evalue": "name 'max_dataframe' is not defined",
     "output_type": "error",
     "traceback": [
      "\u001b[0;31m---------------------------------------------------------------------------\u001b[0m",
      "\u001b[0;31mNameError\u001b[0m                                 Traceback (most recent call last)",
      "\u001b[0;32m<ipython-input-1-2db5a795b7cd>\u001b[0m in \u001b[0;36m<module>\u001b[0;34m\u001b[0m\n\u001b[0;32m----> 1\u001b[0;31m \u001b[0mmax_dataframe\u001b[0m\u001b[0;34m[\u001b[0m\u001b[0;34m'actual_timestamp'\u001b[0m\u001b[0;34m]\u001b[0m\u001b[0;34m\u001b[0m\u001b[0;34m\u001b[0m\u001b[0m\n\u001b[0m",
      "\u001b[0;31mNameError\u001b[0m: name 'max_dataframe' is not defined"
     ]
    }
   ],
   "source": [
    "max_dataframe['actual_timestamp']"
   ]
  },
  {
   "cell_type": "code",
   "execution_count": 92,
   "metadata": {},
   "outputs": [
    {
     "name": "stderr",
     "output_type": "stream",
     "text": [
      "/home/cusp/meh708/.conda/envs/truck_update/lib/python3.7/site-packages/ipykernel_launcher.py:1: FutureWarning: The signature of `Series.to_csv` was aligned to that of `DataFrame.to_csv`, and argument 'header' will change its default value from False to True: please pass an explicit value to suppress this warning.\n",
      "  \"\"\"Entry point for launching an IPython kernel.\n"
     ]
    }
   ],
   "source": [
    "max_dataframe['actual_timestamp'].to_csv('max_timestamps.csv')"
   ]
  },
  {
   "cell_type": "code",
   "execution_count": 93,
   "metadata": {},
   "outputs": [
    {
     "data": {
      "text/plain": [
       "7106"
      ]
     },
     "execution_count": 93,
     "metadata": {},
     "output_type": "execute_result"
    }
   ],
   "source": [
    "len(max_dataframe)"
   ]
  },
  {
   "cell_type": "code",
   "execution_count": null,
   "metadata": {},
   "outputs": [],
   "source": []
  }
 ],
 "metadata": {
  "kernelspec": {
   "display_name": "truck_update",
   "language": "python",
   "name": "truck_update"
  },
  "language_info": {
   "codemirror_mode": {
    "name": "ipython",
    "version": 3
   },
   "file_extension": ".py",
   "mimetype": "text/x-python",
   "name": "python",
   "nbconvert_exporter": "python",
   "pygments_lexer": "ipython3",
   "version": "3.7.4"
  }
 },
 "nbformat": 4,
 "nbformat_minor": 2
}
