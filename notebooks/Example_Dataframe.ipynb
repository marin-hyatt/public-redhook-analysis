{
 "cells": [
  {
   "cell_type": "code",
   "execution_count": 1,
   "metadata": {},
   "outputs": [],
   "source": [
    "import sys\n",
    "sys.path.insert(1, '../modules')\n",
    "import data\n",
    "import display\n",
    "import datetime\n",
    "import pandas as pd"
   ]
  },
  {
   "cell_type": "code",
   "execution_count": 2,
   "metadata": {},
   "outputs": [
    {
     "name": "stdout",
     "output_type": "stream",
     "text": [
      "done with reading hdf5 file\n",
      "done with indexing\n",
      "      timestamp   dBAS\n",
      "0  1.559362e+09  63.53\n",
      "1  1.559362e+09  63.73\n",
      "2  1.559362e+09  64.94\n",
      "3  1.559362e+09  63.09\n",
      "4  1.559362e+09  61.66\n",
      "done with creating spl dataframe\n",
      "                         timestamp   dBAS\n",
      "0 2019-06-01 00:00:42.690000-04:00  63.53\n",
      "1 2019-06-01 00:00:43.690000-04:00  63.73\n",
      "2 2019-06-01 00:00:44.690000-04:00  64.94\n",
      "3 2019-06-01 00:00:45.690000-04:00  63.09\n",
      "4 2019-06-01 00:00:46.690000-04:00  61.66\n",
      "done with PCA\n",
      "done with getting cluster assignments\n",
      "done with creating assignments_df\n",
      "                           assignment\n",
      "2019-06-01 00:00:16-04:00          20\n",
      "2019-06-01 00:00:17-04:00          37\n",
      "2019-06-01 00:00:18-04:00          27\n",
      "2019-06-01 00:00:19-04:00          37\n",
      "2019-06-01 00:00:20-04:00          37\n",
      "done with creating SPL dataframe with time index\n",
      "done with joining dataframe and replacing cluster assignments\n",
      "done with getting weekend medians\n",
      "done with getting weekday medians\n",
      "done with creating and filling median array\n",
      "done with creating dataframe for weekday and weekend medians\n",
      "done with joining dataframes and merging weekday and weekend data\n",
      "done with creating final dataframe\n",
      "done with saving dataframe to output\n"
     ]
    }
   ],
   "source": [
    "data.create_dataframe('../output/june_2019_df_test.csv', '../data/sound_data_improved.hdf5', \\\n",
    "                      '../data/sonycnode-b827ebc178d2.sonyc.csv', datetime.datetime(2019, 6, 1, 4), \\\n",
    "                      datetime.datetime(2019, 6, 30, 4), b'sonycnode-b827ebc178d2.sonyc')"
   ]
  },
  {
   "cell_type": "code",
   "execution_count": 3,
   "metadata": {},
   "outputs": [],
   "source": [
    "df = pd.read_csv('../output/june_2019_df_test.csv', low_memory = False)"
   ]
  },
  {
   "cell_type": "markdown",
   "metadata": {},
   "source": [
    "Replacing index with datetime values, converting them to correct timezone"
   ]
  },
  {
   "cell_type": "code",
   "execution_count": 4,
   "metadata": {},
   "outputs": [],
   "source": [
    "df = df.set_index(pd.to_datetime(df.iloc[:, 0]))\n",
    "\n",
    "df = df.drop('Unnamed: 0', axis=1)\n",
    "\n",
    "df = df.tz_convert('US/Eastern')\n",
    "\n",
    "del df.index.name"
   ]
  },
  {
   "cell_type": "markdown",
   "metadata": {},
   "source": [
    "The dataframe, ready for visualization!"
   ]
  },
  {
   "cell_type": "code",
   "execution_count": 5,
   "metadata": {},
   "outputs": [
    {
     "data": {
      "text/html": [
       "<div>\n",
       "<style scoped>\n",
       "    .dataframe tbody tr th:only-of-type {\n",
       "        vertical-align: middle;\n",
       "    }\n",
       "\n",
       "    .dataframe tbody tr th {\n",
       "        vertical-align: top;\n",
       "    }\n",
       "\n",
       "    .dataframe thead th {\n",
       "        text-align: right;\n",
       "    }\n",
       "</style>\n",
       "<table border=\"1\" class=\"dataframe\">\n",
       "  <thead>\n",
       "    <tr style=\"text-align: right;\">\n",
       "      <th></th>\n",
       "      <th>dBAS</th>\n",
       "      <th>assignment</th>\n",
       "      <th>median_dBAS</th>\n",
       "    </tr>\n",
       "  </thead>\n",
       "  <tbody>\n",
       "    <tr>\n",
       "      <th>2019-06-01 00:00:42-04:00</th>\n",
       "      <td>63.53</td>\n",
       "      <td>2.0</td>\n",
       "      <td>61.01</td>\n",
       "    </tr>\n",
       "    <tr>\n",
       "      <th>2019-06-01 00:00:43-04:00</th>\n",
       "      <td>63.73</td>\n",
       "      <td>1.0</td>\n",
       "      <td>63.16</td>\n",
       "    </tr>\n",
       "    <tr>\n",
       "      <th>2019-06-01 00:00:44-04:00</th>\n",
       "      <td>64.94</td>\n",
       "      <td>2.0</td>\n",
       "      <td>64.48</td>\n",
       "    </tr>\n",
       "    <tr>\n",
       "      <th>2019-06-01 00:00:45-04:00</th>\n",
       "      <td>63.09</td>\n",
       "      <td>2.0</td>\n",
       "      <td>63.70</td>\n",
       "    </tr>\n",
       "    <tr>\n",
       "      <th>2019-06-01 00:00:46-04:00</th>\n",
       "      <td>61.66</td>\n",
       "      <td>2.0</td>\n",
       "      <td>63.76</td>\n",
       "    </tr>\n",
       "  </tbody>\n",
       "</table>\n",
       "</div>"
      ],
      "text/plain": [
       "                            dBAS  assignment  median_dBAS\n",
       "2019-06-01 00:00:42-04:00  63.53         2.0        61.01\n",
       "2019-06-01 00:00:43-04:00  63.73         1.0        63.16\n",
       "2019-06-01 00:00:44-04:00  64.94         2.0        64.48\n",
       "2019-06-01 00:00:45-04:00  63.09         2.0        63.70\n",
       "2019-06-01 00:00:46-04:00  61.66         2.0        63.76"
      ]
     },
     "execution_count": 5,
     "metadata": {},
     "output_type": "execute_result"
    }
   ],
   "source": [
    "df.head()"
   ]
  },
  {
   "cell_type": "code",
   "execution_count": null,
   "metadata": {},
   "outputs": [],
   "source": []
  }
 ],
 "metadata": {
  "kernelspec": {
   "display_name": "Clustering_1",
   "language": "python",
   "name": "clustering_1"
  },
  "language_info": {
   "codemirror_mode": {
    "name": "ipython",
    "version": 3
   },
   "file_extension": ".py",
   "mimetype": "text/x-python",
   "name": "python",
   "nbconvert_exporter": "python",
   "pygments_lexer": "ipython3",
   "version": "3.7.3"
  }
 },
 "nbformat": 4,
 "nbformat_minor": 2
}
