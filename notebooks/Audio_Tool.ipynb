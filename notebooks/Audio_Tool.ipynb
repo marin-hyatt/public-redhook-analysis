{
 "cells": [
  {
   "cell_type": "code",
   "execution_count": 4,
   "metadata": {},
   "outputs": [],
   "source": [
    "import numpy as np\n",
    "import pandas as pd\n",
    "import matplotlib\n",
    "import matplotlib.pyplot as plt\n",
    "from sklearn.cluster import MiniBatchKMeans\n",
    "import datetime \n",
    "from datetime import timedelta\n",
    "import pytz\n",
    "from pytz import timezone\n",
    "from numpy import load\n",
    "import os\n",
    "from sklearn.manifold import TSNE\n",
    "from sklearn.decomposition import PCA as sklearnPCA\n",
    "import h5py\n",
    "import pylab\n",
    "from pandas.plotting import register_matplotlib_converters\n",
    "register_matplotlib_converters()\n",
    "import librosa\n",
    "import matplotlib.dates as md\n",
    "import sys"
   ]
  },
  {
   "cell_type": "code",
   "execution_count": 8,
   "metadata": {},
   "outputs": [],
   "source": [
    "sys.path.insert(1, '../modules')\n",
    "import data\n",
    "import display"
   ]
  },
  {
   "cell_type": "code",
   "execution_count": 3,
   "metadata": {},
   "outputs": [],
   "source": [
    "h5 = h5py.File('../data/sound_data_improved.hdf5', 'r')"
   ]
  },
  {
   "cell_type": "code",
   "execution_count": 14,
   "metadata": {},
   "outputs": [],
   "source": [
    "d = h5['sound_data']"
   ]
  },
  {
   "cell_type": "code",
   "execution_count": 5,
   "metadata": {},
   "outputs": [],
   "source": [
    "df = pd.read_csv('../output/june_2019_df_test.csv', low_memory = False)"
   ]
  },
  {
   "cell_type": "code",
   "execution_count": 6,
   "metadata": {
    "scrolled": true
   },
   "outputs": [
    {
     "data": {
      "text/html": [
       "<div>\n",
       "<style scoped>\n",
       "    .dataframe tbody tr th:only-of-type {\n",
       "        vertical-align: middle;\n",
       "    }\n",
       "\n",
       "    .dataframe tbody tr th {\n",
       "        vertical-align: top;\n",
       "    }\n",
       "\n",
       "    .dataframe thead th {\n",
       "        text-align: right;\n",
       "    }\n",
       "</style>\n",
       "<table border=\"1\" class=\"dataframe\">\n",
       "  <thead>\n",
       "    <tr style=\"text-align: right;\">\n",
       "      <th></th>\n",
       "      <th>Unnamed: 0</th>\n",
       "      <th>dBAS</th>\n",
       "      <th>assignment</th>\n",
       "      <th>median_dBAS</th>\n",
       "    </tr>\n",
       "  </thead>\n",
       "  <tbody>\n",
       "    <tr>\n",
       "      <th>0</th>\n",
       "      <td>2019-06-01 00:00:42-04:00</td>\n",
       "      <td>63.53</td>\n",
       "      <td>2.0</td>\n",
       "      <td>61.01</td>\n",
       "    </tr>\n",
       "    <tr>\n",
       "      <th>1</th>\n",
       "      <td>2019-06-01 00:00:43-04:00</td>\n",
       "      <td>63.73</td>\n",
       "      <td>1.0</td>\n",
       "      <td>63.16</td>\n",
       "    </tr>\n",
       "    <tr>\n",
       "      <th>2</th>\n",
       "      <td>2019-06-01 00:00:44-04:00</td>\n",
       "      <td>64.94</td>\n",
       "      <td>2.0</td>\n",
       "      <td>64.48</td>\n",
       "    </tr>\n",
       "    <tr>\n",
       "      <th>3</th>\n",
       "      <td>2019-06-01 00:00:45-04:00</td>\n",
       "      <td>63.09</td>\n",
       "      <td>2.0</td>\n",
       "      <td>63.70</td>\n",
       "    </tr>\n",
       "    <tr>\n",
       "      <th>4</th>\n",
       "      <td>2019-06-01 00:00:46-04:00</td>\n",
       "      <td>61.66</td>\n",
       "      <td>2.0</td>\n",
       "      <td>63.76</td>\n",
       "    </tr>\n",
       "  </tbody>\n",
       "</table>\n",
       "</div>"
      ],
      "text/plain": [
       "                  Unnamed: 0   dBAS  assignment  median_dBAS\n",
       "0  2019-06-01 00:00:42-04:00  63.53         2.0        61.01\n",
       "1  2019-06-01 00:00:43-04:00  63.73         1.0        63.16\n",
       "2  2019-06-01 00:00:44-04:00  64.94         2.0        64.48\n",
       "3  2019-06-01 00:00:45-04:00  63.09         2.0        63.70\n",
       "4  2019-06-01 00:00:46-04:00  61.66         2.0        63.76"
      ]
     },
     "execution_count": 6,
     "metadata": {},
     "output_type": "execute_result"
    }
   ],
   "source": [
    "df.head()"
   ]
  },
  {
   "cell_type": "markdown",
   "metadata": {},
   "source": [
    "# Creating subsample of 10000 points from all four sensors"
   ]
  },
  {
   "cell_type": "code",
   "execution_count": 34,
   "metadata": {},
   "outputs": [],
   "source": [
    "sample_nums = np.random.choice(range(d.shape[0]), 10000, replace = False)"
   ]
  },
  {
   "cell_type": "code",
   "execution_count": 35,
   "metadata": {},
   "outputs": [],
   "source": [
    "index = np.zeros(d.shape[0]).astype('bool')\n",
    "index[sample_nums] = True"
   ]
  },
  {
   "cell_type": "code",
   "execution_count": null,
   "metadata": {},
   "outputs": [],
   "source": []
  },
  {
   "cell_type": "code",
   "execution_count": 9,
   "metadata": {},
   "outputs": [],
   "source": [
    "sensor_name = b'sonycnode-b827ebc178d2.sonyc'"
   ]
  },
  {
   "cell_type": "code",
   "execution_count": 13,
   "metadata": {},
   "outputs": [
    {
     "data": {
      "text/plain": [
       "<KeysViewHDF5 ['sound_data']>"
      ]
     },
     "execution_count": 13,
     "metadata": {},
     "output_type": "execute_result"
    }
   ],
   "source": [
    "h5.keys()"
   ]
  },
  {
   "cell_type": "code",
   "execution_count": 22,
   "metadata": {},
   "outputs": [],
   "source": [
    "sensor_mask = data.get_sensor_mask(sensor_name, d['sensor_id'])"
   ]
  },
  {
   "cell_type": "code",
   "execution_count": 27,
   "metadata": {},
   "outputs": [
    {
     "data": {
      "text/plain": [
       "(1423048,)"
      ]
     },
     "execution_count": 27,
     "metadata": {},
     "output_type": "execute_result"
    }
   ],
   "source": [
    "sensor_file_names.shape"
   ]
  },
  {
   "cell_type": "code",
   "execution_count": 24,
   "metadata": {},
   "outputs": [],
   "source": [
    "sensor_file_names = d['file_path'][sensor_mask]"
   ]
  },
  {
   "cell_type": "code",
   "execution_count": 28,
   "metadata": {},
   "outputs": [],
   "source": [
    "sensor_time_stamp = d['file_path'][sensor_mask]"
   ]
  },
  {
   "cell_type": "markdown",
   "metadata": {},
   "source": [
    "Changing feature vectors to assignments"
   ]
  },
  {
   "cell_type": "code",
   "execution_count": 31,
   "metadata": {},
   "outputs": [],
   "source": [
    "pca_45 = sklearnPCA(45)\n",
    "projected_45 = pca_45.fit_transform(d['feature_vector'])"
   ]
  },
  {
   "cell_type": "code",
   "execution_count": 36,
   "metadata": {},
   "outputs": [],
   "source": [
    "all_cluster_assignments = data.get_cluster_assignments(64, projected_45, projected_45[index])"
   ]
  },
  {
   "cell_type": "code",
   "execution_count": 37,
   "metadata": {},
   "outputs": [
    {
     "data": {
      "text/plain": [
       "3388858"
      ]
     },
     "execution_count": 37,
     "metadata": {},
     "output_type": "execute_result"
    }
   ],
   "source": [
    "len(all_cluster_assignments)"
   ]
  },
  {
   "cell_type": "code",
   "execution_count": 38,
   "metadata": {},
   "outputs": [
    {
     "data": {
      "text/plain": [
       "3388858"
      ]
     },
     "execution_count": 38,
     "metadata": {},
     "output_type": "execute_result"
    }
   ],
   "source": [
    "len(d['feature_vector'])"
   ]
  },
  {
   "cell_type": "markdown",
   "metadata": {},
   "source": [
    "Converting cluster assignments to truck/no truck"
   ]
  },
  {
   "cell_type": "code",
   "execution_count": 39,
   "metadata": {},
   "outputs": [],
   "source": [
    "truck_clusters = [5, 10, 11, 18, 20, 37, 42, 57, 63]"
   ]
  },
  {
   "cell_type": "code",
   "execution_count": 46,
   "metadata": {},
   "outputs": [],
   "source": [
    "def truck_label(x):\n",
    "    if x in truck_clusters:\n",
    "        return 1\n",
    "    else:\n",
    "        return 2"
   ]
  },
  {
   "cell_type": "code",
   "execution_count": 47,
   "metadata": {},
   "outputs": [],
   "source": [
    "all_truck_labels = [truck_label(x) for x in all_cluster_assignments]"
   ]
  },
  {
   "cell_type": "code",
   "execution_count": 49,
   "metadata": {},
   "outputs": [],
   "source": [
    "truck_label_df = pd.DataFrame(data={'timestamp': d['timestamp'], 'sensor_id': d['sensor_id'], \\\n",
    "                                   'filepath': d['file_path'], 'label': all_truck_labels})"
   ]
  },
  {
   "cell_type": "code",
   "execution_count": 50,
   "metadata": {},
   "outputs": [
    {
     "data": {
      "text/html": [
       "<div>\n",
       "<style scoped>\n",
       "    .dataframe tbody tr th:only-of-type {\n",
       "        vertical-align: middle;\n",
       "    }\n",
       "\n",
       "    .dataframe tbody tr th {\n",
       "        vertical-align: top;\n",
       "    }\n",
       "\n",
       "    .dataframe thead th {\n",
       "        text-align: right;\n",
       "    }\n",
       "</style>\n",
       "<table border=\"1\" class=\"dataframe\">\n",
       "  <thead>\n",
       "    <tr style=\"text-align: right;\">\n",
       "      <th></th>\n",
       "      <th>timestamp</th>\n",
       "      <th>sensor_id</th>\n",
       "      <th>filepath</th>\n",
       "      <th>label</th>\n",
       "    </tr>\n",
       "  </thead>\n",
       "  <tbody>\n",
       "    <tr>\n",
       "      <th>0</th>\n",
       "      <td>1.559362e+09</td>\n",
       "      <td>b'sonycnode-b827ebc178d2.sonyc'</td>\n",
       "      <td>b'/Users/marin/redhook/embeddings/sonycnode-b8...</td>\n",
       "      <td>2</td>\n",
       "    </tr>\n",
       "    <tr>\n",
       "      <th>1</th>\n",
       "      <td>1.559362e+09</td>\n",
       "      <td>b'sonycnode-b827ebc178d2.sonyc'</td>\n",
       "      <td>b'/Users/marin/redhook/embeddings/sonycnode-b8...</td>\n",
       "      <td>2</td>\n",
       "    </tr>\n",
       "    <tr>\n",
       "      <th>2</th>\n",
       "      <td>1.559362e+09</td>\n",
       "      <td>b'sonycnode-b827ebc178d2.sonyc'</td>\n",
       "      <td>b'/Users/marin/redhook/embeddings/sonycnode-b8...</td>\n",
       "      <td>2</td>\n",
       "    </tr>\n",
       "    <tr>\n",
       "      <th>3</th>\n",
       "      <td>1.559362e+09</td>\n",
       "      <td>b'sonycnode-b827ebc178d2.sonyc'</td>\n",
       "      <td>b'/Users/marin/redhook/embeddings/sonycnode-b8...</td>\n",
       "      <td>2</td>\n",
       "    </tr>\n",
       "    <tr>\n",
       "      <th>4</th>\n",
       "      <td>1.559362e+09</td>\n",
       "      <td>b'sonycnode-b827ebc178d2.sonyc'</td>\n",
       "      <td>b'/Users/marin/redhook/embeddings/sonycnode-b8...</td>\n",
       "      <td>2</td>\n",
       "    </tr>\n",
       "  </tbody>\n",
       "</table>\n",
       "</div>"
      ],
      "text/plain": [
       "      timestamp                        sensor_id  \\\n",
       "0  1.559362e+09  b'sonycnode-b827ebc178d2.sonyc'   \n",
       "1  1.559362e+09  b'sonycnode-b827ebc178d2.sonyc'   \n",
       "2  1.559362e+09  b'sonycnode-b827ebc178d2.sonyc'   \n",
       "3  1.559362e+09  b'sonycnode-b827ebc178d2.sonyc'   \n",
       "4  1.559362e+09  b'sonycnode-b827ebc178d2.sonyc'   \n",
       "\n",
       "                                            filepath  label  \n",
       "0  b'/Users/marin/redhook/embeddings/sonycnode-b8...      2  \n",
       "1  b'/Users/marin/redhook/embeddings/sonycnode-b8...      2  \n",
       "2  b'/Users/marin/redhook/embeddings/sonycnode-b8...      2  \n",
       "3  b'/Users/marin/redhook/embeddings/sonycnode-b8...      2  \n",
       "4  b'/Users/marin/redhook/embeddings/sonycnode-b8...      2  "
      ]
     },
     "execution_count": 50,
     "metadata": {},
     "output_type": "execute_result"
    }
   ],
   "source": [
    "truck_label_df.head()"
   ]
  },
  {
   "cell_type": "code",
   "execution_count": null,
   "metadata": {},
   "outputs": [],
   "source": []
  }
 ],
 "metadata": {
  "kernelspec": {
   "display_name": "Clustering_1",
   "language": "python",
   "name": "clustering_1"
  },
  "language_info": {
   "codemirror_mode": {
    "name": "ipython",
    "version": 3
   },
   "file_extension": ".py",
   "mimetype": "text/x-python",
   "name": "python",
   "nbconvert_exporter": "python",
   "pygments_lexer": "ipython3",
   "version": "3.7.3"
  }
 },
 "nbformat": 4,
 "nbformat_minor": 2
}
