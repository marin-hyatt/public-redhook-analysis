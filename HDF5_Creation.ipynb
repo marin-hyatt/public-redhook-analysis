{
 "cells": [
  {
   "cell_type": "code",
   "execution_count": 1,
   "metadata": {},
   "outputs": [],
   "source": [
    "import numpy as np\n",
    "import datetime \n",
    "import pytz\n",
    "from pytz import timezone\n",
    "from numpy import load\n",
    "import os\n",
    "import h5py"
   ]
  },
  {
   "cell_type": "code",
   "execution_count": 4,
   "metadata": {},
   "outputs": [],
   "source": [
    "sensor_timestamps = np.load('sensor_timestamps_arr.npy')\n",
    "sensor_id = np.load('sensor_id_arr.npy')\n",
    "sensor_timestamps_orig = np.load('sensor_timestamps_orig_arr.npy')\n",
    "file_path = np.load('file_path_arr.npy')"
   ]
  },
  {
   "cell_type": "code",
   "execution_count": 8,
   "metadata": {},
   "outputs": [],
   "source": [
    "sensor_data = np.load('sensor_data_arr.npy')"
   ]
  },
  {
   "cell_type": "code",
   "execution_count": 10,
   "metadata": {},
   "outputs": [],
   "source": [
    "with h5py.File('sound_data_improved.hdf5', 'w') as h5:\n",
    "    d = h5.create_dataset('sound_data',\n",
    "                          (3388858,),\n",
    "                          dtype=[('timestamp', 'f8'),\n",
    "                                 ('timestamp_orig', 'f8'),\n",
    "                                 ('sensor_id', 'S128'),\n",
    "                                 ('feature_vector', 'f4', (512,)),\n",
    "                                 ('file_path', 'S128')\n",
    "                                ],\n",
    "                            chunks=True,\n",
    "                            maxshape=(3388858 * 516,))\n",
    "#     print(d[0])\n",
    "    for idx in range(sensor_data.shape[0]):\n",
    "        d[idx] = (sensor_timestamps[idx], sensor_timestamps_orig[idx], sensor_id[idx], sensor_data[idx], file_path[idx])"
   ]
  },
  {
   "cell_type": "code",
   "execution_count": null,
   "metadata": {},
   "outputs": [],
   "source": []
  }
 ],
 "metadata": {
  "kernelspec": {
   "display_name": "Clustering_1",
   "language": "python",
   "name": "clustering_1"
  },
  "language_info": {
   "codemirror_mode": {
    "name": "ipython",
    "version": 3
   },
   "file_extension": ".py",
   "mimetype": "text/x-python",
   "name": "python",
   "nbconvert_exporter": "python",
   "pygments_lexer": "ipython3",
   "version": "3.7.3"
  }
 },
 "nbformat": 4,
 "nbformat_minor": 2
}
