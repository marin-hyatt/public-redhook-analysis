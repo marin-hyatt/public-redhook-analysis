{
 "cells": [
  {
   "cell_type": "code",
   "execution_count": 2,
   "metadata": {},
   "outputs": [],
   "source": [
    "import numpy as np\n",
    "import pandas as pd\n",
    "import matplotlib.pyplot as plt\n",
    "from sklearn.cluster import KMeans\n",
    "from sklearn.cluster import MiniBatchKMeans\n",
    "from sklearn.preprocessing import PolynomialFeatures\n",
    "import datetime\n",
    "import pytz\n",
    "from pytz import timezone\n",
    "import tarfile\n",
    "from numpy import load\n",
    "import os\n",
    "from sklearn.manifold import TSNE\n",
    "import h5py\n",
    "from sklearn.decomposition import PCA as sklearnPCA\n",
    "from sklearn import metrics\n",
    "from sklearn.metrics import pairwise_distances\n",
    "from sklearn import datasets\n",
    "from sklearn.metrics import davies_bouldin_score\n",
    "from sklearn.cluster import DBSCAN\n",
    "from sklearn.cluster import Birch\n",
    "import scipy as sp\n",
    "from scipy import spatial\n",
    "from scipy import stats"
   ]
  },
  {
   "cell_type": "code",
   "execution_count": 3,
   "metadata": {},
   "outputs": [],
   "source": [
    "h5 = h5py.File('sound_data_improved.hdf5', 'r')\n",
    "\n",
    "d = h5['sound_data']"
   ]
  },
  {
   "cell_type": "code",
   "execution_count": 4,
   "metadata": {},
   "outputs": [],
   "source": [
    "sample_nums = np.random.choice(range(d.shape[0]), 10000, replace=False)\n",
    "\n",
    "index = np.zeros(d.shape[0]).astype('bool')\n",
    "index[sample_nums] = True\n"
   ]
  },
  {
   "cell_type": "code",
   "execution_count": 5,
   "metadata": {},
   "outputs": [],
   "source": [
    "pca_106 = sklearnPCA(106)\n",
    "projected = pca_106.fit_transform(d['feature_vector'])"
   ]
  },
  {
   "cell_type": "code",
   "execution_count": 6,
   "metadata": {},
   "outputs": [],
   "source": [
    "def get_cluster_model(num_clusters):\n",
    "    \"\"\"\n",
    "\n",
    "    Parameters\n",
    "    ----------\n",
    "    num_clusters\n",
    "\n",
    "    Returns\n",
    "    -------\n",
    "    mbk.cluster_centers_ : array of shape (num_clusters, 45)\n",
    "        An array of the feature vectors for each centroid in each cluster.\n",
    "\n",
    "    \"\"\"\n",
    "    mbk = MiniBatchKMeans(n_clusters=num_clusters, random_state=0)\n",
    "    mbk.fit(projected[index])\n",
    "    return mbk"
   ]
  },
  {
   "cell_type": "code",
   "execution_count": 57,
   "metadata": {},
   "outputs": [],
   "source": [
    "def cut_file_path(neighbors_file_path):\n",
    "    \"\"\"\n",
    "    Cuts a file name to start with the sensor name.\n",
    "    \"\"\"\n",
    "    neighbors_file_path_cut = []\n",
    "    for path in neighbors_file_path:\n",
    "        neighbors_file_path_cut.append(path[32:])   \n",
    "        \n",
    "    return neighbors_file_path_cut"
   ]
  },
  {
   "cell_type": "code",
   "execution_count": 26,
   "metadata": {},
   "outputs": [],
   "source": [
    "def make_neighbors_dataframe(num_clusters):\n",
    "    \"\"\"\n",
    "    Returns a DataFrame with the information (timestamp, filepath, etc) from five neighbors of each centroid in each\n",
    "    cluster the data is grouped into.\n",
    "\n",
    "    Parameters\n",
    "    ----------\n",
    "    num_clusters : int\n",
    "        Number of clusters to group the projected data into.\n",
    "\n",
    "    Returns\n",
    "    -------\n",
    "    df : DataFrame\n",
    "        pandas DataFrame listing information about each neighbor, including timestamp, filepath, the centroid it is\n",
    "        associated with, and the number of clusters the projected data is grouped into.\n",
    "    \"\"\"\n",
    "    cluster_assignments = get_cluster_model(num_clusters).predict(projected[index])\n",
    "    cluster_centers = get_cluster_model(num_clusters).cluster_centers_\n",
    "    centroid_cluster_assignments = get_cluster_model(num_clusters).predict(cluster_centers)\n",
    "    \n",
    "    print(centroid_cluster_assignments)\n",
    "    print(len(cluster_centers))\n",
    "    \n",
    "    nearest_neighbors = []\n",
    "   \n",
    "    for cluster_index in range(num_clusters):\n",
    "        #for each cluster center, query only the cluster it belongs to\n",
    "        #projected[index] is all the points, how to filter out only the points belonging to one cluster\n",
    "        cluster_test = []\n",
    "        for i in cluster_assignments:\n",
    "            if i == cluster_index:\n",
    "                cluster_test.append(projected[index][i])\n",
    "        tree = spatial.KDTree(cluster_test)\n",
    "        nearest_neighbors = tree.query(cluster_centers, 5)\n",
    "    \n",
    "    \n",
    "    # Creates array of indices of elements in projected_45 that match the neighbors\n",
    "    # Creating array of centroid feature vectors corresponding to each neighbor, also which centroid the neighbor belongs to\n",
    "\n",
    "    neighbors_arr = []\n",
    "    centroids = []\n",
    "    centroid_num_arr = []\n",
    "    print(nearest_neighbors[0])\n",
    "    for centroid_num, x in enumerate(nearest_neighbors[1]):\n",
    "        for y in x:\n",
    "            neighbors_idx = np.nonzero(index)[0][y]\n",
    "            neighbors_arr.append(neighbors_idx)\n",
    "#             neighbors_arr.append(y)\n",
    "            centroids.append(cluster_centers[centroid_num])\n",
    "            centroid_num_arr.append(centroid_num + 1)\n",
    "\n",
    "    # Mask for elements of d that are neighbors\n",
    "    index_2 = np.zeros(d.shape[0]).astype('bool')\n",
    "#     print('unsorted: ' + str(len(neighbors_arr)))\n",
    "#     print('sorted: ' + str(len(np.sort(neighbors_arr))))\n",
    "    index_2[np.sort(neighbors_arr)] = True\n",
    "#     print(np.sort(neighbors_arr))\n",
    "#     print('i: ' + str(len(index_2[np.sort(neighbors_arr)])))\n",
    "#     import pdb; pdb.set_trace()\n",
    "    a_count = 0\n",
    "    for a in np.sort(neighbors_arr):\n",
    "        if index_2[a]:\n",
    "#             print(str(a) + ': ' + str(index_2[a]))\n",
    "            \n",
    "            a_count += 1\n",
    "    \n",
    "    count = 0\n",
    "    for b in index_2:\n",
    "        if b:\n",
    "#             print(str(b))\n",
    "            count += 1\n",
    "    \n",
    "    print(str(a_count))\n",
    "    print(str(count))\n",
    "            \n",
    "\n",
    "    # Creating array with number of clusters for each entry\n",
    "    num_clusters_arr = len(neighbors_arr) * [num_clusters]\n",
    "\n",
    "    # Converting timestamps to datetime format\n",
    "#     print(d['timestamp'].shape)\n",
    "    neighbors_timestamps_dt = []\n",
    "    for i in neighbors_arr:\n",
    "#         print(i) \n",
    "        j = d[i, 'timestamp']\n",
    "        dt = datetime.datetime.utcfromtimestamp(j)\n",
    "        dt = pytz.UTC.localize(dt)\n",
    "        dt = dt.astimezone(pytz.timezone('US/Eastern'))\n",
    "        neighbors_timestamps_dt.append(dt)\n",
    "\n",
    "    # Cutting the filepath so it starts with the sensor name\n",
    "    test_cut_path = cut_file_path(d[index_2]['file_path'])\n",
    "    print('cut file path size: ' + str(len(test_cut_path)))\n",
    "\n",
    "    # Making the dataframe\n",
    "    df = pd.DataFrame(centroids)\n",
    "    print('centroid: ' + str(len(centroids)))\n",
    "    df.insert(0, \"timestamp_orig\", d[index_2]['timestamp_orig'], True)\n",
    "    df.insert(1, \"timestamp_dt\", neighbors_timestamps_dt, True)\n",
    "    df.insert(2, \"sensor_id\", d[index_2]['sensor_id'], True)\n",
    "    df.insert(3, \"file_path\", test_cut_path, True)\n",
    "    df.insert(4, \"centroid_num\", centroid_num_arr, True)\n",
    "    df.insert(5, \"num_clusters\", num_clusters_arr, True)\n",
    "\n",
    "    return df\n"
   ]
  },
  {
   "cell_type": "code",
   "execution_count": 25,
   "metadata": {},
   "outputs": [
    {
     "name": "stdout",
     "output_type": "stream",
     "text": [
      "[ 0  1  2  3  4  5  6  7  8  9 10 11 12 13 14 15 16 17 18 19 20 21 22 23\n",
      " 24 25 26 27 28 29 30 31 32 33 34 35 36 37 38 39 40 41 42 43 44 45 46 47\n",
      " 48 49 50 51 52 53 54 55 56 57 58 59 60 61 62 63]\n",
      "64\n"
     ]
    },
    {
     "ename": "KeyboardInterrupt",
     "evalue": "",
     "output_type": "error",
     "traceback": [
      "\u001b[0;31m---------------------------------------------------------------------------\u001b[0m",
      "\u001b[0;31mKeyboardInterrupt\u001b[0m                         Traceback (most recent call last)",
      "\u001b[0;32m<ipython-input-25-cd6fa81eb857>\u001b[0m in \u001b[0;36m<module>\u001b[0;34m\u001b[0m\n\u001b[0;32m----> 1\u001b[0;31m \u001b[0mdf_2\u001b[0m \u001b[0;34m=\u001b[0m \u001b[0mmake_neighbors_dataframe\u001b[0m\u001b[0;34m(\u001b[0m\u001b[0;36m2\u001b[0m \u001b[0;34m**\u001b[0m \u001b[0;36m6\u001b[0m\u001b[0;34m)\u001b[0m\u001b[0;34m\u001b[0m\u001b[0;34m\u001b[0m\u001b[0m\n\u001b[0m",
      "\u001b[0;32m<ipython-input-24-78efe3312989>\u001b[0m in \u001b[0;36mmake_neighbors_dataframe\u001b[0;34m(num_clusters)\u001b[0m\n\u001b[1;32m     28\u001b[0m \u001b[0;34m\u001b[0m\u001b[0m\n\u001b[1;32m     29\u001b[0m         \u001b[0mtree\u001b[0m \u001b[0;34m=\u001b[0m \u001b[0mspatial\u001b[0m\u001b[0;34m.\u001b[0m\u001b[0mKDTree\u001b[0m\u001b[0;34m(\u001b[0m\u001b[0mprojected\u001b[0m\u001b[0;34m[\u001b[0m\u001b[0mindex\u001b[0m\u001b[0;34m]\u001b[0m\u001b[0;34m)\u001b[0m\u001b[0;34m\u001b[0m\u001b[0;34m\u001b[0m\u001b[0m\n\u001b[0;32m---> 30\u001b[0;31m         \u001b[0mnearest_neighbors\u001b[0m \u001b[0;34m=\u001b[0m \u001b[0mtree\u001b[0m\u001b[0;34m.\u001b[0m\u001b[0mquery\u001b[0m\u001b[0;34m(\u001b[0m\u001b[0mcluster_centers\u001b[0m\u001b[0;34m,\u001b[0m \u001b[0;36m5\u001b[0m\u001b[0;34m)\u001b[0m\u001b[0;34m\u001b[0m\u001b[0;34m\u001b[0m\u001b[0m\n\u001b[0m\u001b[1;32m     31\u001b[0m \u001b[0;34m\u001b[0m\u001b[0m\n\u001b[1;32m     32\u001b[0m \u001b[0;34m\u001b[0m\u001b[0m\n",
      "\u001b[0;32m~/.conda/envs/redhook_analysis_storage/lib/python3.7/site-packages/scipy/spatial/kdtree.py\u001b[0m in \u001b[0;36mquery\u001b[0;34m(self, x, k, eps, p, distance_upper_bound)\u001b[0m\n\u001b[1;32m    504\u001b[0m                 \u001b[0;32mraise\u001b[0m \u001b[0mValueError\u001b[0m\u001b[0;34m(\u001b[0m\u001b[0;34m\"Requested %s nearest neighbors; acceptable numbers are integers greater than or equal to one, or None\"\u001b[0m\u001b[0;34m)\u001b[0m\u001b[0;34m\u001b[0m\u001b[0;34m\u001b[0m\u001b[0m\n\u001b[1;32m    505\u001b[0m             \u001b[0;32mfor\u001b[0m \u001b[0mc\u001b[0m \u001b[0;32min\u001b[0m \u001b[0mnp\u001b[0m\u001b[0;34m.\u001b[0m\u001b[0mndindex\u001b[0m\u001b[0;34m(\u001b[0m\u001b[0mretshape\u001b[0m\u001b[0;34m)\u001b[0m\u001b[0;34m:\u001b[0m\u001b[0;34m\u001b[0m\u001b[0;34m\u001b[0m\u001b[0m\n\u001b[0;32m--> 506\u001b[0;31m                 \u001b[0mhits\u001b[0m \u001b[0;34m=\u001b[0m \u001b[0mself\u001b[0m\u001b[0;34m.\u001b[0m\u001b[0m__query\u001b[0m\u001b[0;34m(\u001b[0m\u001b[0mx\u001b[0m\u001b[0;34m[\u001b[0m\u001b[0mc\u001b[0m\u001b[0;34m]\u001b[0m\u001b[0;34m,\u001b[0m \u001b[0mk\u001b[0m\u001b[0;34m=\u001b[0m\u001b[0mk\u001b[0m\u001b[0;34m,\u001b[0m \u001b[0meps\u001b[0m\u001b[0;34m=\u001b[0m\u001b[0meps\u001b[0m\u001b[0;34m,\u001b[0m \u001b[0mp\u001b[0m\u001b[0;34m=\u001b[0m\u001b[0mp\u001b[0m\u001b[0;34m,\u001b[0m \u001b[0mdistance_upper_bound\u001b[0m\u001b[0;34m=\u001b[0m\u001b[0mdistance_upper_bound\u001b[0m\u001b[0;34m)\u001b[0m\u001b[0;34m\u001b[0m\u001b[0;34m\u001b[0m\u001b[0m\n\u001b[0m\u001b[1;32m    507\u001b[0m                 \u001b[0;32mif\u001b[0m \u001b[0mk\u001b[0m \u001b[0;32mis\u001b[0m \u001b[0;32mNone\u001b[0m\u001b[0;34m:\u001b[0m\u001b[0;34m\u001b[0m\u001b[0;34m\u001b[0m\u001b[0m\n\u001b[1;32m    508\u001b[0m                     \u001b[0mdd\u001b[0m\u001b[0;34m[\u001b[0m\u001b[0mc\u001b[0m\u001b[0;34m]\u001b[0m \u001b[0;34m=\u001b[0m \u001b[0;34m[\u001b[0m\u001b[0md\u001b[0m \u001b[0;32mfor\u001b[0m \u001b[0;34m(\u001b[0m\u001b[0md\u001b[0m\u001b[0;34m,\u001b[0m\u001b[0mi\u001b[0m\u001b[0;34m)\u001b[0m \u001b[0;32min\u001b[0m \u001b[0mhits\u001b[0m\u001b[0;34m]\u001b[0m\u001b[0;34m\u001b[0m\u001b[0;34m\u001b[0m\u001b[0m\n",
      "\u001b[0;32m~/.conda/envs/redhook_analysis_storage/lib/python3.7/site-packages/scipy/spatial/kdtree.py\u001b[0m in \u001b[0;36m__query\u001b[0;34m(self, x, k, eps, p, distance_upper_bound)\u001b[0m\n\u001b[1;32m    365\u001b[0m                 \u001b[0;31m# but since the distance_upper_bound decreases, we might get\u001b[0m\u001b[0;34m\u001b[0m\u001b[0;34m\u001b[0m\u001b[0;34m\u001b[0m\u001b[0m\n\u001b[1;32m    366\u001b[0m                 \u001b[0;31m# here even if the cell's too far\u001b[0m\u001b[0;34m\u001b[0m\u001b[0;34m\u001b[0m\u001b[0;34m\u001b[0m\u001b[0m\n\u001b[0;32m--> 367\u001b[0;31m                 \u001b[0;32mif\u001b[0m \u001b[0mmin_distance\u001b[0m \u001b[0;34m>\u001b[0m \u001b[0mdistance_upper_bound\u001b[0m\u001b[0;34m*\u001b[0m\u001b[0mepsfac\u001b[0m\u001b[0;34m:\u001b[0m\u001b[0;34m\u001b[0m\u001b[0;34m\u001b[0m\u001b[0m\n\u001b[0m\u001b[1;32m    368\u001b[0m                     \u001b[0;31m# since this is the nearest cell, we're done, bail out\u001b[0m\u001b[0;34m\u001b[0m\u001b[0;34m\u001b[0m\u001b[0;34m\u001b[0m\u001b[0m\n\u001b[1;32m    369\u001b[0m                     \u001b[0;32mbreak\u001b[0m\u001b[0;34m\u001b[0m\u001b[0;34m\u001b[0m\u001b[0m\n",
      "\u001b[0;31mKeyboardInterrupt\u001b[0m: "
     ]
    }
   ],
   "source": [
    "df_2 = make_neighbors_dataframe(2 ** 6)"
   ]
  },
  {
   "cell_type": "code",
   "execution_count": 103,
   "metadata": {
    "scrolled": false
   },
   "outputs": [
    {
     "name": "stdout",
     "output_type": "stream",
     "text": [
      "203\n",
      "285\n",
      "267\n",
      "232\n",
      "169\n",
      "120\n",
      "451\n",
      "131\n",
      "153\n",
      "277\n",
      "172\n",
      "125\n",
      "38\n",
      "112\n",
      "111\n",
      "129\n",
      "179\n",
      "126\n",
      "153\n",
      "217\n",
      "89\n",
      "31\n",
      "184\n",
      "217\n",
      "239\n",
      "155\n",
      "62\n",
      "192\n",
      "86\n",
      "36\n",
      "169\n",
      "51\n",
      "82\n",
      "195\n",
      "155\n",
      "505\n",
      "142\n",
      "224\n",
      "291\n",
      "144\n",
      "243\n",
      "33\n",
      "144\n",
      "129\n",
      "83\n",
      "106\n",
      "124\n",
      "71\n",
      "67\n",
      "135\n",
      "68\n",
      "79\n",
      "456\n",
      "39\n",
      "77\n",
      "176\n",
      "136\n",
      "23\n",
      "332\n",
      "124\n",
      "305\n",
      "34\n",
      "76\n",
      "41\n"
     ]
    }
   ],
   "source": [
    "cluster_assignments = get_cluster_model(64).predict(projected[index])\n",
    "cluster_centers = get_cluster_model(64).cluster_centers_\n",
    "centroid_cluster_assignments = get_cluster_model(64).predict(cluster_centers)\n",
    "    \n",
    "# print(centroid_cluster_assignments)\n",
    "# print(len(cluster_centers))\n",
    "\n",
    "centroids = []\n",
    "centroid_num_arr = []\n",
    "neighbor_timestamps = np.empty((64,5))\n",
    "neighbor_timestamps_orig = np.empty((64,5))\n",
    "neighbor_cut_file_path = np.empty((64,5), dtype='S60')\n",
    "neighbor_sensor_id = np.empty((64,5), dtype='S60')\n",
    "# neighbor_timestamps_dt = np.empty((64*5), dtype = datetime.datetime)\n",
    "# print(neighbor_timestamps_dt.dtype)\n",
    "   \n",
    "for i,cluster_index in enumerate(range(64)):\n",
    "    #for each cluster center, query only the cluster it belongs to\n",
    "    \n",
    "    #Filter out only the points belonging to one cluster\n",
    "    cluster_mask = (cluster_assignments==cluster_index)\n",
    "    cluster_test = projected[index][cluster_mask]\n",
    "    \n",
    "    #Makes a list of the centroid of the cluster with length of the number of the points in the cluster\n",
    "    centroid_list = len(cluster_test)*[cluster_centers[cluster_index]]\n",
    "    centroids += centroid_list\n",
    "    \n",
    "    #Makes a list of the cluster index with length of the number of the points in the cluster\n",
    "    centroid_num_list = len(cluster_test)*[cluster_index]\n",
    "    centroid_num_arr += centroid_num_list\n",
    "    \n",
    "    print(len(cluster_test))\n",
    "    nearest_neighbors = []\n",
    "    tree = spatial.KDTree(cluster_test)\n",
    "#     print(cluster_centers[cluster_index])\n",
    "    nearest_neighbors = tree.query(cluster_centers[cluster_index], 5)[1]\n",
    "    \n",
    "    #from only the points corresponding to a certain cluster in the 10000 subset of projected, apply the nearest\n",
    "    #neighbors mask to obtain the other characteristics like file path, timestamp, etc\n",
    "    \n",
    "    neighbors_mask = np.zeros(len(cluster_test)).astype('bool')\n",
    "    neighbors_mask[np.sort(nearest_neighbors)] = True\n",
    "    \n",
    "    neighbor_timestamps_prelim = d[index][cluster_mask][neighbors_mask]['timestamp']\n",
    "#     neighbor_timestamps.append(neighbor_timestamps_prelim)\n",
    "#     neighbor_timestamps_orig.append(d[index][cluster_mask][neighbors_mask]['timestamp_orig'])\n",
    "#     neighbor_cut_file_path.append(cut_file_path(d[index][cluster_mask][neighbors_mask]['file_path']))\n",
    "#     neighbor_sensor_id.append(d[index][cluster_mask][neighbors_mask]['sensor_id'])\n",
    "    \n",
    "    neighbor_timestamps[i] = (neighbor_timestamps_prelim)\n",
    "    neighbor_timestamps_orig[i] = (d[index][cluster_mask][neighbors_mask]['timestamp_orig'])\n",
    "    neighbor_cut_file_path[i] = (cut_file_path(d[index][cluster_mask][neighbors_mask]['file_path']))\n",
    "    neighbor_sensor_id[i] = (d[index][cluster_mask][neighbors_mask]['sensor_id'])\n",
    "    \n",
    "#     for time in range(len(neighbor_timestamps_prelim)):\n",
    "# #         print(i) \n",
    "#         j = neighbor_timestamps_prelim[time]\n",
    "#         dt = datetime.datetime.utcfromtimestamp(j)\n",
    "#         dt = pytz.UTC.localize(dt)\n",
    "#         dt = dt.astimezone(pytz.timezone('US/Eastern'))\n",
    "#         neighbor_timestamps_dt[i][time] = dt\n",
    "   "
   ]
  },
  {
   "cell_type": "code",
   "execution_count": 112,
   "metadata": {},
   "outputs": [
    {
     "data": {
      "text/plain": [
       "(64, 5)"
      ]
     },
     "execution_count": 112,
     "metadata": {},
     "output_type": "execute_result"
    }
   ],
   "source": [
    "neighbor_timestamps.flatten"
   ]
  },
  {
   "cell_type": "code",
   "execution_count": 109,
   "metadata": {},
   "outputs": [
    {
     "data": {
      "text/plain": [
       "array([5, 1, 7, 3, 4])"
      ]
     },
     "execution_count": 109,
     "metadata": {},
     "output_type": "execute_result"
    }
   ],
   "source": [
    "np.bincount(np.random.randint(5,size=20))\n",
    "#for checking if each neighbor belongs to the centroid"
   ]
  },
  {
   "cell_type": "code",
   "execution_count": 95,
   "metadata": {},
   "outputs": [],
   "source": [
    "f = np.array([b'sonycnode-b827ebc178d2.sonyc/2019-06-01/07/1559390228.53.npz'])"
   ]
  },
  {
   "cell_type": "code",
   "execution_count": 91,
   "metadata": {},
   "outputs": [
    {
     "data": {
      "text/plain": [
       "60"
      ]
     },
     "execution_count": 91,
     "metadata": {},
     "output_type": "execute_result"
    }
   ],
   "source": [
    "len(b'sonycnode-b827ebc178d2.sonyc/2019-06-01/07/1559390228.53.npz')"
   ]
  },
  {
   "cell_type": "code",
   "execution_count": 96,
   "metadata": {},
   "outputs": [
    {
     "data": {
      "text/plain": [
       "dtype('S60')"
      ]
     },
     "execution_count": 96,
     "metadata": {},
     "output_type": "execute_result"
    }
   ],
   "source": [
    "f.dtype"
   ]
  },
  {
   "cell_type": "code",
   "execution_count": null,
   "metadata": {},
   "outputs": [],
   "source": []
  }
 ],
 "metadata": {
  "kernelspec": {
   "display_name": "Clustering_1",
   "language": "python",
   "name": "clustering_1"
  },
  "language_info": {
   "codemirror_mode": {
    "name": "ipython",
    "version": 3
   },
   "file_extension": ".py",
   "mimetype": "text/x-python",
   "name": "python",
   "nbconvert_exporter": "python",
   "pygments_lexer": "ipython3",
   "version": "3.7.3"
  }
 },
 "nbformat": 4,
 "nbformat_minor": 2
}
